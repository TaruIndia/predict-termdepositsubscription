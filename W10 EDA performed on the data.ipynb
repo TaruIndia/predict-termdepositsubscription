{
 "cells": [
  {
   "cell_type": "code",
   "execution_count": 1,
   "id": "1de4de4f",
   "metadata": {},
   "outputs": [],
   "source": [
    "#import linear algebra and data manipulation libraries\n",
    "import numpy as np\n",
    "import pandas as pd\n",
    "\n",
    "#import standard visualization\n",
    "import matplotlib.pyplot as plt\n",
    "import seaborn as sns\n",
    "\n",
    "#import machine learning\n",
    "from sklearn.ensemble import RandomForestClassifier\n",
    "from sklearn.ensemble import AdaBoostClassifier, GradientBoostingClassifier\n",
    "from sklearn.svm import SVC\n",
    "from sklearn.neighbors import KNeighborsClassifier\n",
    "from sklearn.naive_bayes import GaussianNB\n",
    "\n",
    "from sklearn.model_selection import train_test_split #split\n",
    "from sklearn.metrics import accuracy_score #metrics\n",
    "\n",
    "#tools for hyperparameters search\n",
    "from sklearn.model_selection import StratifiedKFold\n",
    "from sklearn.model_selection import RandomizedSearchCV, GridSearchCV"
   ]
  },
  {
   "cell_type": "code",
   "execution_count": 2,
   "id": "06f091d5",
   "metadata": {},
   "outputs": [],
   "source": [
    "df = pd.read_csv('bank/bank-full.csv',delimiter=(';'))"
   ]
  },
  {
   "cell_type": "code",
   "execution_count": 3,
   "id": "354ac415",
   "metadata": {},
   "outputs": [
    {
     "name": "stdout",
     "output_type": "stream",
     "text": [
      "Bank marketing dataset consists of 45211 rows.\n"
     ]
    }
   ],
   "source": [
    "# number of rows in dataset\n",
    "\n",
    "print(\"Bank marketing dataset consists of {rows} rows.\".format(rows = len(df)))"
   ]
  },
  {
   "cell_type": "code",
   "execution_count": 4,
   "id": "fac744dc",
   "metadata": {},
   "outputs": [
    {
     "data": {
      "text/html": [
       "<div>\n",
       "<style scoped>\n",
       "    .dataframe tbody tr th:only-of-type {\n",
       "        vertical-align: middle;\n",
       "    }\n",
       "\n",
       "    .dataframe tbody tr th {\n",
       "        vertical-align: top;\n",
       "    }\n",
       "\n",
       "    .dataframe thead th {\n",
       "        text-align: right;\n",
       "    }\n",
       "</style>\n",
       "<table border=\"1\" class=\"dataframe\">\n",
       "  <thead>\n",
       "    <tr style=\"text-align: right;\">\n",
       "      <th></th>\n",
       "      <th>age</th>\n",
       "      <th>job</th>\n",
       "      <th>marital</th>\n",
       "      <th>education</th>\n",
       "      <th>default</th>\n",
       "      <th>balance</th>\n",
       "      <th>housing</th>\n",
       "      <th>loan</th>\n",
       "      <th>contact</th>\n",
       "      <th>day</th>\n",
       "      <th>month</th>\n",
       "      <th>duration</th>\n",
       "      <th>campaign</th>\n",
       "      <th>pdays</th>\n",
       "      <th>previous</th>\n",
       "      <th>poutcome</th>\n",
       "      <th>y</th>\n",
       "    </tr>\n",
       "  </thead>\n",
       "  <tbody>\n",
       "    <tr>\n",
       "      <th>0</th>\n",
       "      <td>58</td>\n",
       "      <td>management</td>\n",
       "      <td>married</td>\n",
       "      <td>tertiary</td>\n",
       "      <td>no</td>\n",
       "      <td>2143</td>\n",
       "      <td>yes</td>\n",
       "      <td>no</td>\n",
       "      <td>unknown</td>\n",
       "      <td>5</td>\n",
       "      <td>may</td>\n",
       "      <td>261</td>\n",
       "      <td>1</td>\n",
       "      <td>-1</td>\n",
       "      <td>0</td>\n",
       "      <td>unknown</td>\n",
       "      <td>no</td>\n",
       "    </tr>\n",
       "    <tr>\n",
       "      <th>1</th>\n",
       "      <td>44</td>\n",
       "      <td>technician</td>\n",
       "      <td>single</td>\n",
       "      <td>secondary</td>\n",
       "      <td>no</td>\n",
       "      <td>29</td>\n",
       "      <td>yes</td>\n",
       "      <td>no</td>\n",
       "      <td>unknown</td>\n",
       "      <td>5</td>\n",
       "      <td>may</td>\n",
       "      <td>151</td>\n",
       "      <td>1</td>\n",
       "      <td>-1</td>\n",
       "      <td>0</td>\n",
       "      <td>unknown</td>\n",
       "      <td>no</td>\n",
       "    </tr>\n",
       "    <tr>\n",
       "      <th>2</th>\n",
       "      <td>33</td>\n",
       "      <td>entrepreneur</td>\n",
       "      <td>married</td>\n",
       "      <td>secondary</td>\n",
       "      <td>no</td>\n",
       "      <td>2</td>\n",
       "      <td>yes</td>\n",
       "      <td>yes</td>\n",
       "      <td>unknown</td>\n",
       "      <td>5</td>\n",
       "      <td>may</td>\n",
       "      <td>76</td>\n",
       "      <td>1</td>\n",
       "      <td>-1</td>\n",
       "      <td>0</td>\n",
       "      <td>unknown</td>\n",
       "      <td>no</td>\n",
       "    </tr>\n",
       "    <tr>\n",
       "      <th>3</th>\n",
       "      <td>47</td>\n",
       "      <td>blue-collar</td>\n",
       "      <td>married</td>\n",
       "      <td>unknown</td>\n",
       "      <td>no</td>\n",
       "      <td>1506</td>\n",
       "      <td>yes</td>\n",
       "      <td>no</td>\n",
       "      <td>unknown</td>\n",
       "      <td>5</td>\n",
       "      <td>may</td>\n",
       "      <td>92</td>\n",
       "      <td>1</td>\n",
       "      <td>-1</td>\n",
       "      <td>0</td>\n",
       "      <td>unknown</td>\n",
       "      <td>no</td>\n",
       "    </tr>\n",
       "    <tr>\n",
       "      <th>4</th>\n",
       "      <td>33</td>\n",
       "      <td>unknown</td>\n",
       "      <td>single</td>\n",
       "      <td>unknown</td>\n",
       "      <td>no</td>\n",
       "      <td>1</td>\n",
       "      <td>no</td>\n",
       "      <td>no</td>\n",
       "      <td>unknown</td>\n",
       "      <td>5</td>\n",
       "      <td>may</td>\n",
       "      <td>198</td>\n",
       "      <td>1</td>\n",
       "      <td>-1</td>\n",
       "      <td>0</td>\n",
       "      <td>unknown</td>\n",
       "      <td>no</td>\n",
       "    </tr>\n",
       "    <tr>\n",
       "      <th>5</th>\n",
       "      <td>35</td>\n",
       "      <td>management</td>\n",
       "      <td>married</td>\n",
       "      <td>tertiary</td>\n",
       "      <td>no</td>\n",
       "      <td>231</td>\n",
       "      <td>yes</td>\n",
       "      <td>no</td>\n",
       "      <td>unknown</td>\n",
       "      <td>5</td>\n",
       "      <td>may</td>\n",
       "      <td>139</td>\n",
       "      <td>1</td>\n",
       "      <td>-1</td>\n",
       "      <td>0</td>\n",
       "      <td>unknown</td>\n",
       "      <td>no</td>\n",
       "    </tr>\n",
       "    <tr>\n",
       "      <th>6</th>\n",
       "      <td>28</td>\n",
       "      <td>management</td>\n",
       "      <td>single</td>\n",
       "      <td>tertiary</td>\n",
       "      <td>no</td>\n",
       "      <td>447</td>\n",
       "      <td>yes</td>\n",
       "      <td>yes</td>\n",
       "      <td>unknown</td>\n",
       "      <td>5</td>\n",
       "      <td>may</td>\n",
       "      <td>217</td>\n",
       "      <td>1</td>\n",
       "      <td>-1</td>\n",
       "      <td>0</td>\n",
       "      <td>unknown</td>\n",
       "      <td>no</td>\n",
       "    </tr>\n",
       "    <tr>\n",
       "      <th>7</th>\n",
       "      <td>42</td>\n",
       "      <td>entrepreneur</td>\n",
       "      <td>divorced</td>\n",
       "      <td>tertiary</td>\n",
       "      <td>yes</td>\n",
       "      <td>2</td>\n",
       "      <td>yes</td>\n",
       "      <td>no</td>\n",
       "      <td>unknown</td>\n",
       "      <td>5</td>\n",
       "      <td>may</td>\n",
       "      <td>380</td>\n",
       "      <td>1</td>\n",
       "      <td>-1</td>\n",
       "      <td>0</td>\n",
       "      <td>unknown</td>\n",
       "      <td>no</td>\n",
       "    </tr>\n",
       "    <tr>\n",
       "      <th>8</th>\n",
       "      <td>58</td>\n",
       "      <td>retired</td>\n",
       "      <td>married</td>\n",
       "      <td>primary</td>\n",
       "      <td>no</td>\n",
       "      <td>121</td>\n",
       "      <td>yes</td>\n",
       "      <td>no</td>\n",
       "      <td>unknown</td>\n",
       "      <td>5</td>\n",
       "      <td>may</td>\n",
       "      <td>50</td>\n",
       "      <td>1</td>\n",
       "      <td>-1</td>\n",
       "      <td>0</td>\n",
       "      <td>unknown</td>\n",
       "      <td>no</td>\n",
       "    </tr>\n",
       "    <tr>\n",
       "      <th>9</th>\n",
       "      <td>43</td>\n",
       "      <td>technician</td>\n",
       "      <td>single</td>\n",
       "      <td>secondary</td>\n",
       "      <td>no</td>\n",
       "      <td>593</td>\n",
       "      <td>yes</td>\n",
       "      <td>no</td>\n",
       "      <td>unknown</td>\n",
       "      <td>5</td>\n",
       "      <td>may</td>\n",
       "      <td>55</td>\n",
       "      <td>1</td>\n",
       "      <td>-1</td>\n",
       "      <td>0</td>\n",
       "      <td>unknown</td>\n",
       "      <td>no</td>\n",
       "    </tr>\n",
       "    <tr>\n",
       "      <th>10</th>\n",
       "      <td>41</td>\n",
       "      <td>admin.</td>\n",
       "      <td>divorced</td>\n",
       "      <td>secondary</td>\n",
       "      <td>no</td>\n",
       "      <td>270</td>\n",
       "      <td>yes</td>\n",
       "      <td>no</td>\n",
       "      <td>unknown</td>\n",
       "      <td>5</td>\n",
       "      <td>may</td>\n",
       "      <td>222</td>\n",
       "      <td>1</td>\n",
       "      <td>-1</td>\n",
       "      <td>0</td>\n",
       "      <td>unknown</td>\n",
       "      <td>no</td>\n",
       "    </tr>\n",
       "    <tr>\n",
       "      <th>11</th>\n",
       "      <td>29</td>\n",
       "      <td>admin.</td>\n",
       "      <td>single</td>\n",
       "      <td>secondary</td>\n",
       "      <td>no</td>\n",
       "      <td>390</td>\n",
       "      <td>yes</td>\n",
       "      <td>no</td>\n",
       "      <td>unknown</td>\n",
       "      <td>5</td>\n",
       "      <td>may</td>\n",
       "      <td>137</td>\n",
       "      <td>1</td>\n",
       "      <td>-1</td>\n",
       "      <td>0</td>\n",
       "      <td>unknown</td>\n",
       "      <td>no</td>\n",
       "    </tr>\n",
       "    <tr>\n",
       "      <th>12</th>\n",
       "      <td>53</td>\n",
       "      <td>technician</td>\n",
       "      <td>married</td>\n",
       "      <td>secondary</td>\n",
       "      <td>no</td>\n",
       "      <td>6</td>\n",
       "      <td>yes</td>\n",
       "      <td>no</td>\n",
       "      <td>unknown</td>\n",
       "      <td>5</td>\n",
       "      <td>may</td>\n",
       "      <td>517</td>\n",
       "      <td>1</td>\n",
       "      <td>-1</td>\n",
       "      <td>0</td>\n",
       "      <td>unknown</td>\n",
       "      <td>no</td>\n",
       "    </tr>\n",
       "    <tr>\n",
       "      <th>13</th>\n",
       "      <td>58</td>\n",
       "      <td>technician</td>\n",
       "      <td>married</td>\n",
       "      <td>unknown</td>\n",
       "      <td>no</td>\n",
       "      <td>71</td>\n",
       "      <td>yes</td>\n",
       "      <td>no</td>\n",
       "      <td>unknown</td>\n",
       "      <td>5</td>\n",
       "      <td>may</td>\n",
       "      <td>71</td>\n",
       "      <td>1</td>\n",
       "      <td>-1</td>\n",
       "      <td>0</td>\n",
       "      <td>unknown</td>\n",
       "      <td>no</td>\n",
       "    </tr>\n",
       "    <tr>\n",
       "      <th>14</th>\n",
       "      <td>57</td>\n",
       "      <td>services</td>\n",
       "      <td>married</td>\n",
       "      <td>secondary</td>\n",
       "      <td>no</td>\n",
       "      <td>162</td>\n",
       "      <td>yes</td>\n",
       "      <td>no</td>\n",
       "      <td>unknown</td>\n",
       "      <td>5</td>\n",
       "      <td>may</td>\n",
       "      <td>174</td>\n",
       "      <td>1</td>\n",
       "      <td>-1</td>\n",
       "      <td>0</td>\n",
       "      <td>unknown</td>\n",
       "      <td>no</td>\n",
       "    </tr>\n",
       "    <tr>\n",
       "      <th>15</th>\n",
       "      <td>51</td>\n",
       "      <td>retired</td>\n",
       "      <td>married</td>\n",
       "      <td>primary</td>\n",
       "      <td>no</td>\n",
       "      <td>229</td>\n",
       "      <td>yes</td>\n",
       "      <td>no</td>\n",
       "      <td>unknown</td>\n",
       "      <td>5</td>\n",
       "      <td>may</td>\n",
       "      <td>353</td>\n",
       "      <td>1</td>\n",
       "      <td>-1</td>\n",
       "      <td>0</td>\n",
       "      <td>unknown</td>\n",
       "      <td>no</td>\n",
       "    </tr>\n",
       "    <tr>\n",
       "      <th>16</th>\n",
       "      <td>45</td>\n",
       "      <td>admin.</td>\n",
       "      <td>single</td>\n",
       "      <td>unknown</td>\n",
       "      <td>no</td>\n",
       "      <td>13</td>\n",
       "      <td>yes</td>\n",
       "      <td>no</td>\n",
       "      <td>unknown</td>\n",
       "      <td>5</td>\n",
       "      <td>may</td>\n",
       "      <td>98</td>\n",
       "      <td>1</td>\n",
       "      <td>-1</td>\n",
       "      <td>0</td>\n",
       "      <td>unknown</td>\n",
       "      <td>no</td>\n",
       "    </tr>\n",
       "    <tr>\n",
       "      <th>17</th>\n",
       "      <td>57</td>\n",
       "      <td>blue-collar</td>\n",
       "      <td>married</td>\n",
       "      <td>primary</td>\n",
       "      <td>no</td>\n",
       "      <td>52</td>\n",
       "      <td>yes</td>\n",
       "      <td>no</td>\n",
       "      <td>unknown</td>\n",
       "      <td>5</td>\n",
       "      <td>may</td>\n",
       "      <td>38</td>\n",
       "      <td>1</td>\n",
       "      <td>-1</td>\n",
       "      <td>0</td>\n",
       "      <td>unknown</td>\n",
       "      <td>no</td>\n",
       "    </tr>\n",
       "    <tr>\n",
       "      <th>18</th>\n",
       "      <td>60</td>\n",
       "      <td>retired</td>\n",
       "      <td>married</td>\n",
       "      <td>primary</td>\n",
       "      <td>no</td>\n",
       "      <td>60</td>\n",
       "      <td>yes</td>\n",
       "      <td>no</td>\n",
       "      <td>unknown</td>\n",
       "      <td>5</td>\n",
       "      <td>may</td>\n",
       "      <td>219</td>\n",
       "      <td>1</td>\n",
       "      <td>-1</td>\n",
       "      <td>0</td>\n",
       "      <td>unknown</td>\n",
       "      <td>no</td>\n",
       "    </tr>\n",
       "    <tr>\n",
       "      <th>19</th>\n",
       "      <td>33</td>\n",
       "      <td>services</td>\n",
       "      <td>married</td>\n",
       "      <td>secondary</td>\n",
       "      <td>no</td>\n",
       "      <td>0</td>\n",
       "      <td>yes</td>\n",
       "      <td>no</td>\n",
       "      <td>unknown</td>\n",
       "      <td>5</td>\n",
       "      <td>may</td>\n",
       "      <td>54</td>\n",
       "      <td>1</td>\n",
       "      <td>-1</td>\n",
       "      <td>0</td>\n",
       "      <td>unknown</td>\n",
       "      <td>no</td>\n",
       "    </tr>\n",
       "  </tbody>\n",
       "</table>\n",
       "</div>"
      ],
      "text/plain": [
       "    age           job   marital  education default  balance housing loan  \\\n",
       "0    58    management   married   tertiary      no     2143     yes   no   \n",
       "1    44    technician    single  secondary      no       29     yes   no   \n",
       "2    33  entrepreneur   married  secondary      no        2     yes  yes   \n",
       "3    47   blue-collar   married    unknown      no     1506     yes   no   \n",
       "4    33       unknown    single    unknown      no        1      no   no   \n",
       "5    35    management   married   tertiary      no      231     yes   no   \n",
       "6    28    management    single   tertiary      no      447     yes  yes   \n",
       "7    42  entrepreneur  divorced   tertiary     yes        2     yes   no   \n",
       "8    58       retired   married    primary      no      121     yes   no   \n",
       "9    43    technician    single  secondary      no      593     yes   no   \n",
       "10   41        admin.  divorced  secondary      no      270     yes   no   \n",
       "11   29        admin.    single  secondary      no      390     yes   no   \n",
       "12   53    technician   married  secondary      no        6     yes   no   \n",
       "13   58    technician   married    unknown      no       71     yes   no   \n",
       "14   57      services   married  secondary      no      162     yes   no   \n",
       "15   51       retired   married    primary      no      229     yes   no   \n",
       "16   45        admin.    single    unknown      no       13     yes   no   \n",
       "17   57   blue-collar   married    primary      no       52     yes   no   \n",
       "18   60       retired   married    primary      no       60     yes   no   \n",
       "19   33      services   married  secondary      no        0     yes   no   \n",
       "\n",
       "    contact  day month  duration  campaign  pdays  previous poutcome   y  \n",
       "0   unknown    5   may       261         1     -1         0  unknown  no  \n",
       "1   unknown    5   may       151         1     -1         0  unknown  no  \n",
       "2   unknown    5   may        76         1     -1         0  unknown  no  \n",
       "3   unknown    5   may        92         1     -1         0  unknown  no  \n",
       "4   unknown    5   may       198         1     -1         0  unknown  no  \n",
       "5   unknown    5   may       139         1     -1         0  unknown  no  \n",
       "6   unknown    5   may       217         1     -1         0  unknown  no  \n",
       "7   unknown    5   may       380         1     -1         0  unknown  no  \n",
       "8   unknown    5   may        50         1     -1         0  unknown  no  \n",
       "9   unknown    5   may        55         1     -1         0  unknown  no  \n",
       "10  unknown    5   may       222         1     -1         0  unknown  no  \n",
       "11  unknown    5   may       137         1     -1         0  unknown  no  \n",
       "12  unknown    5   may       517         1     -1         0  unknown  no  \n",
       "13  unknown    5   may        71         1     -1         0  unknown  no  \n",
       "14  unknown    5   may       174         1     -1         0  unknown  no  \n",
       "15  unknown    5   may       353         1     -1         0  unknown  no  \n",
       "16  unknown    5   may        98         1     -1         0  unknown  no  \n",
       "17  unknown    5   may        38         1     -1         0  unknown  no  \n",
       "18  unknown    5   may       219         1     -1         0  unknown  no  \n",
       "19  unknown    5   may        54         1     -1         0  unknown  no  "
      ]
     },
     "execution_count": 4,
     "metadata": {},
     "output_type": "execute_result"
    }
   ],
   "source": [
    "df.head(20)"
   ]
  },
  {
   "cell_type": "code",
   "execution_count": 5,
   "id": "47559be2",
   "metadata": {},
   "outputs": [
    {
     "data": {
      "text/plain": [
       "age          0\n",
       "job          0\n",
       "marital      0\n",
       "education    0\n",
       "default      0\n",
       "balance      0\n",
       "housing      0\n",
       "loan         0\n",
       "contact      0\n",
       "day          0\n",
       "month        0\n",
       "duration     0\n",
       "campaign     0\n",
       "pdays        0\n",
       "previous     0\n",
       "poutcome     0\n",
       "y            0\n",
       "dtype: int64"
      ]
     },
     "execution_count": 5,
     "metadata": {},
     "output_type": "execute_result"
    }
   ],
   "source": [
    "df.isnull().sum()"
   ]
  },
  {
   "cell_type": "code",
   "execution_count": 6,
   "id": "6a5900be",
   "metadata": {},
   "outputs": [
    {
     "name": "stdout",
     "output_type": "stream",
     "text": [
      "age\n",
      "[58 44 33 47 35 28 42 43 41 29 53 57 51 45 60 56 32 25 40 39 52 46 36 49\n",
      " 59 37 50 54 55 48 24 38 31 30 27 34 23 26 61 22 21 20 66 62 83 75 67 70\n",
      " 65 68 64 69 72 71 19 76 85 63 90 82 73 74 78 80 94 79 77 86 95 81 18 89\n",
      " 84 87 92 93 88]\n",
      "------------------------------------------------------------\n",
      "job\n",
      "['management' 'technician' 'entrepreneur' 'blue-collar' 'unknown'\n",
      " 'retired' 'admin.' 'services' 'self-employed' 'unemployed' 'housemaid'\n",
      " 'student']\n",
      "------------------------------------------------------------\n",
      "marital\n",
      "['married' 'single' 'divorced']\n",
      "------------------------------------------------------------\n",
      "education\n",
      "['tertiary' 'secondary' 'unknown' 'primary']\n",
      "------------------------------------------------------------\n",
      "default\n",
      "['no' 'yes']\n",
      "------------------------------------------------------------\n",
      "balance\n",
      "[ 2143    29     2 ...  8205 14204 16353]\n",
      "------------------------------------------------------------\n",
      "housing\n",
      "['yes' 'no']\n",
      "------------------------------------------------------------\n",
      "loan\n",
      "['no' 'yes']\n",
      "------------------------------------------------------------\n",
      "contact\n",
      "['unknown' 'cellular' 'telephone']\n",
      "------------------------------------------------------------\n",
      "day\n",
      "[ 5  6  7  8  9 12 13 14 15 16 19 20 21 23 26 27 28 29 30  2  3  4 11 17\n",
      " 18 24 25  1 10 22 31]\n",
      "------------------------------------------------------------\n",
      "month\n",
      "['may' 'jun' 'jul' 'aug' 'oct' 'nov' 'dec' 'jan' 'feb' 'mar' 'apr' 'sep']\n",
      "------------------------------------------------------------\n",
      "duration\n",
      "[ 261  151   76 ... 1298 1246 1556]\n",
      "------------------------------------------------------------\n",
      "campaign\n",
      "[ 1  2  3  5  4  6  7  8  9 10 11 12 13 19 14 24 16 32 18 22 15 17 25 21\n",
      " 43 51 63 41 26 28 55 50 38 23 20 29 31 37 30 46 27 58 33 35 34 36 39 44]\n",
      "------------------------------------------------------------\n",
      "pdays\n",
      "[ -1 151 166  91  86 143 147  89 140 176 101 174 170 167 195 165 129 188\n",
      " 196 172 118 119 104 171 117 164 132 131 123 159 186 111 115 116 173 178\n",
      " 110 152  96 103 150 175 193 181 185 154 145 138 126 180 109 158 168  97\n",
      " 182 127 130 194 125 105 102  26 179  28 183 155 112 120 137 124 187 190\n",
      " 113 162 134 169 189   8 144 191 184 177   5  99 133  93  92  10 100 156\n",
      " 198 106 153 146 128   7 121 160 107  90  27 197 136 139 122 157 149 135\n",
      "  30 114  98 192 163  34  95 141  31 199  94 108  29 268 247 253 226 244\n",
      " 239 245 204 231 238 258 230 254 265  71 223 246 250 266 240 205 261 259\n",
      " 241 260 234 251 225 161 237 262 248 255 220 227 206 224 249 235 228 263\n",
      "   2 270 232 252 207 200 269 233 256 273 272 242 264 208 214 222 271 203\n",
      " 221 202 216 201 257 229 210 217  75 213  73  76 267 211 215  77 236  82\n",
      "   6 209 274   1 243 212 275  80 276   9 279  12 280  88 277  85  84 219\n",
      "  24  21 282  41 294  49 329 307 303 331 308 300  64 314 287 330 332 302\n",
      " 323 318 333  60 326 335 313 312 305 325 327 336 309 328 322  39 316 292\n",
      " 295 310 306 320 317 289  57 321 142 339 301 315 337 334 340 319  17  74\n",
      " 148 341 299 344 342 324 345 346 304 281 343 338  14 347  15 291 348 349\n",
      " 285 350 284  25 283 278  81   4  87  83  79  70  13 293  37  78  63  22\n",
      " 296 355  66  19  35 360 357 354 351 362 358 365 298 286 364 363  47 361\n",
      " 288 366 356 352 359 297 367 353 368  42 290  67 371 370 369  50  36 373\n",
      " 374 372 311 375 378  59 379  40  18  43  20  69  38 385  56  55  44 391\n",
      "  72 390  32  62 399 393  65 377 395 388 389 386  61 412 405 434 394 382\n",
      " 459 440 397 383  68 461 462 463 422  51 457 430 442 403 454 428 392 410\n",
      " 401 474 475 477 478  54 476 380 479  45  46 495  58  48 518  52 515 520\n",
      " 511 536 387 218  33 544 435 436 555 433 446 558 469 616 561 553 384 592\n",
      " 467 585 480 421 667 626 426 595 381 376 648 521 452 449 633 398  53 460\n",
      " 670 551 414 557 687 404 651 686 425 504 578 674 416 586 411 756 450 745\n",
      " 514 417 424 776 396 683 529 439 415 456 407 458 532 481 791 701 531 792\n",
      " 413 445 535 784 419 455 491 431 542 470 472 717 437   3 782 728 828 524\n",
      " 562 761 492 775 579 493 464 760 466 465 656 831 490 432 655 427 749 838\n",
      " 769 587 778 854 779 850 771 594 842 589 603 484 489 486 409 444 680 808\n",
      " 485 503 690 772 774 526 420 528 500 826 804 508 547 805 541 543 871 550\n",
      " 530]\n",
      "------------------------------------------------------------\n",
      "previous\n",
      "[  0   3   1   4   2  11  16   6   5  10  12   7  18   9  21   8  14  15\n",
      "  26  37  13  25  20  27  17  23  38  29  24  51 275  22  19  30  58  28\n",
      "  32  40  55  35  41]\n",
      "------------------------------------------------------------\n",
      "poutcome\n",
      "['unknown' 'failure' 'other' 'success']\n",
      "------------------------------------------------------------\n",
      "y\n",
      "['no' 'yes']\n",
      "------------------------------------------------------------\n"
     ]
    }
   ],
   "source": [
    "for i in df.columns:\n",
    "  print(i)\n",
    "  print(df[i].unique())\n",
    "  print('---'*20)"
   ]
  },
  {
   "cell_type": "code",
   "execution_count": 7,
   "id": "b3842cb9",
   "metadata": {},
   "outputs": [
    {
     "data": {
      "text/html": [
       "<div>\n",
       "<style scoped>\n",
       "    .dataframe tbody tr th:only-of-type {\n",
       "        vertical-align: middle;\n",
       "    }\n",
       "\n",
       "    .dataframe tbody tr th {\n",
       "        vertical-align: top;\n",
       "    }\n",
       "\n",
       "    .dataframe thead th {\n",
       "        text-align: right;\n",
       "    }\n",
       "</style>\n",
       "<table border=\"1\" class=\"dataframe\">\n",
       "  <thead>\n",
       "    <tr style=\"text-align: right;\">\n",
       "      <th></th>\n",
       "      <th>job</th>\n",
       "      <th>y</th>\n",
       "      <th>count</th>\n",
       "    </tr>\n",
       "  </thead>\n",
       "  <tbody>\n",
       "    <tr>\n",
       "      <th>0</th>\n",
       "      <td>blue-collar</td>\n",
       "      <td>no</td>\n",
       "      <td>9024</td>\n",
       "    </tr>\n",
       "    <tr>\n",
       "      <th>1</th>\n",
       "      <td>management</td>\n",
       "      <td>no</td>\n",
       "      <td>8157</td>\n",
       "    </tr>\n",
       "    <tr>\n",
       "      <th>2</th>\n",
       "      <td>technician</td>\n",
       "      <td>no</td>\n",
       "      <td>6757</td>\n",
       "    </tr>\n",
       "    <tr>\n",
       "      <th>3</th>\n",
       "      <td>admin.</td>\n",
       "      <td>no</td>\n",
       "      <td>4540</td>\n",
       "    </tr>\n",
       "    <tr>\n",
       "      <th>4</th>\n",
       "      <td>services</td>\n",
       "      <td>no</td>\n",
       "      <td>3785</td>\n",
       "    </tr>\n",
       "    <tr>\n",
       "      <th>5</th>\n",
       "      <td>retired</td>\n",
       "      <td>no</td>\n",
       "      <td>1748</td>\n",
       "    </tr>\n",
       "    <tr>\n",
       "      <th>6</th>\n",
       "      <td>self-employed</td>\n",
       "      <td>no</td>\n",
       "      <td>1392</td>\n",
       "    </tr>\n",
       "    <tr>\n",
       "      <th>7</th>\n",
       "      <td>entrepreneur</td>\n",
       "      <td>no</td>\n",
       "      <td>1364</td>\n",
       "    </tr>\n",
       "    <tr>\n",
       "      <th>8</th>\n",
       "      <td>management</td>\n",
       "      <td>yes</td>\n",
       "      <td>1301</td>\n",
       "    </tr>\n",
       "    <tr>\n",
       "      <th>9</th>\n",
       "      <td>housemaid</td>\n",
       "      <td>no</td>\n",
       "      <td>1131</td>\n",
       "    </tr>\n",
       "    <tr>\n",
       "      <th>10</th>\n",
       "      <td>unemployed</td>\n",
       "      <td>no</td>\n",
       "      <td>1101</td>\n",
       "    </tr>\n",
       "    <tr>\n",
       "      <th>11</th>\n",
       "      <td>technician</td>\n",
       "      <td>yes</td>\n",
       "      <td>840</td>\n",
       "    </tr>\n",
       "    <tr>\n",
       "      <th>12</th>\n",
       "      <td>blue-collar</td>\n",
       "      <td>yes</td>\n",
       "      <td>708</td>\n",
       "    </tr>\n",
       "    <tr>\n",
       "      <th>13</th>\n",
       "      <td>student</td>\n",
       "      <td>no</td>\n",
       "      <td>669</td>\n",
       "    </tr>\n",
       "    <tr>\n",
       "      <th>14</th>\n",
       "      <td>admin.</td>\n",
       "      <td>yes</td>\n",
       "      <td>631</td>\n",
       "    </tr>\n",
       "    <tr>\n",
       "      <th>15</th>\n",
       "      <td>retired</td>\n",
       "      <td>yes</td>\n",
       "      <td>516</td>\n",
       "    </tr>\n",
       "    <tr>\n",
       "      <th>16</th>\n",
       "      <td>services</td>\n",
       "      <td>yes</td>\n",
       "      <td>369</td>\n",
       "    </tr>\n",
       "    <tr>\n",
       "      <th>17</th>\n",
       "      <td>student</td>\n",
       "      <td>yes</td>\n",
       "      <td>269</td>\n",
       "    </tr>\n",
       "    <tr>\n",
       "      <th>18</th>\n",
       "      <td>unknown</td>\n",
       "      <td>no</td>\n",
       "      <td>254</td>\n",
       "    </tr>\n",
       "    <tr>\n",
       "      <th>19</th>\n",
       "      <td>unemployed</td>\n",
       "      <td>yes</td>\n",
       "      <td>202</td>\n",
       "    </tr>\n",
       "    <tr>\n",
       "      <th>20</th>\n",
       "      <td>self-employed</td>\n",
       "      <td>yes</td>\n",
       "      <td>187</td>\n",
       "    </tr>\n",
       "    <tr>\n",
       "      <th>21</th>\n",
       "      <td>entrepreneur</td>\n",
       "      <td>yes</td>\n",
       "      <td>123</td>\n",
       "    </tr>\n",
       "    <tr>\n",
       "      <th>22</th>\n",
       "      <td>housemaid</td>\n",
       "      <td>yes</td>\n",
       "      <td>109</td>\n",
       "    </tr>\n",
       "    <tr>\n",
       "      <th>23</th>\n",
       "      <td>unknown</td>\n",
       "      <td>yes</td>\n",
       "      <td>34</td>\n",
       "    </tr>\n",
       "  </tbody>\n",
       "</table>\n",
       "</div>"
      ],
      "text/plain": [
       "              job    y  count\n",
       "0     blue-collar   no   9024\n",
       "1      management   no   8157\n",
       "2      technician   no   6757\n",
       "3          admin.   no   4540\n",
       "4        services   no   3785\n",
       "5         retired   no   1748\n",
       "6   self-employed   no   1392\n",
       "7    entrepreneur   no   1364\n",
       "8      management  yes   1301\n",
       "9       housemaid   no   1131\n",
       "10     unemployed   no   1101\n",
       "11     technician  yes    840\n",
       "12    blue-collar  yes    708\n",
       "13        student   no    669\n",
       "14         admin.  yes    631\n",
       "15        retired  yes    516\n",
       "16       services  yes    369\n",
       "17        student  yes    269\n",
       "18        unknown   no    254\n",
       "19     unemployed  yes    202\n",
       "20  self-employed  yes    187\n",
       "21   entrepreneur  yes    123\n",
       "22      housemaid  yes    109\n",
       "23        unknown  yes     34"
      ]
     },
     "execution_count": 7,
     "metadata": {},
     "output_type": "execute_result"
    }
   ],
   "source": [
    "df[['job', 'y']].value_counts().reset_index(name='count')"
   ]
  },
  {
   "cell_type": "code",
   "execution_count": 8,
   "id": "33f4129c",
   "metadata": {},
   "outputs": [
    {
     "data": {
      "text/plain": [
       "array(['management', 'technician', 'entrepreneur', 'blue-collar',\n",
       "       'retired', 'admin.', 'services', 'self-employed', 'unemployed',\n",
       "       'housemaid', 'student'], dtype=object)"
      ]
     },
     "execution_count": 8,
     "metadata": {},
     "output_type": "execute_result"
    }
   ],
   "source": [
    "df.job.replace('unknown',df.job.mode()[0],inplace=True)\n",
    "df.job.unique()"
   ]
  },
  {
   "cell_type": "markdown",
   "id": "e6391f41",
   "metadata": {},
   "source": [
    "Comparing 'education' and 'y' column"
   ]
  },
  {
   "cell_type": "code",
   "execution_count": 9,
   "id": "a5e87b01",
   "metadata": {},
   "outputs": [
    {
     "data": {
      "text/html": [
       "<div>\n",
       "<style scoped>\n",
       "    .dataframe tbody tr th:only-of-type {\n",
       "        vertical-align: middle;\n",
       "    }\n",
       "\n",
       "    .dataframe tbody tr th {\n",
       "        vertical-align: top;\n",
       "    }\n",
       "\n",
       "    .dataframe thead th {\n",
       "        text-align: right;\n",
       "    }\n",
       "</style>\n",
       "<table border=\"1\" class=\"dataframe\">\n",
       "  <thead>\n",
       "    <tr style=\"text-align: right;\">\n",
       "      <th></th>\n",
       "      <th>education</th>\n",
       "      <th>y</th>\n",
       "      <th>count</th>\n",
       "    </tr>\n",
       "  </thead>\n",
       "  <tbody>\n",
       "    <tr>\n",
       "      <th>0</th>\n",
       "      <td>secondary</td>\n",
       "      <td>no</td>\n",
       "      <td>20752</td>\n",
       "    </tr>\n",
       "    <tr>\n",
       "      <th>1</th>\n",
       "      <td>tertiary</td>\n",
       "      <td>no</td>\n",
       "      <td>11305</td>\n",
       "    </tr>\n",
       "    <tr>\n",
       "      <th>2</th>\n",
       "      <td>primary</td>\n",
       "      <td>no</td>\n",
       "      <td>6260</td>\n",
       "    </tr>\n",
       "    <tr>\n",
       "      <th>3</th>\n",
       "      <td>secondary</td>\n",
       "      <td>yes</td>\n",
       "      <td>2450</td>\n",
       "    </tr>\n",
       "    <tr>\n",
       "      <th>4</th>\n",
       "      <td>tertiary</td>\n",
       "      <td>yes</td>\n",
       "      <td>1996</td>\n",
       "    </tr>\n",
       "    <tr>\n",
       "      <th>5</th>\n",
       "      <td>unknown</td>\n",
       "      <td>no</td>\n",
       "      <td>1605</td>\n",
       "    </tr>\n",
       "    <tr>\n",
       "      <th>6</th>\n",
       "      <td>primary</td>\n",
       "      <td>yes</td>\n",
       "      <td>591</td>\n",
       "    </tr>\n",
       "    <tr>\n",
       "      <th>7</th>\n",
       "      <td>unknown</td>\n",
       "      <td>yes</td>\n",
       "      <td>252</td>\n",
       "    </tr>\n",
       "  </tbody>\n",
       "</table>\n",
       "</div>"
      ],
      "text/plain": [
       "   education    y  count\n",
       "0  secondary   no  20752\n",
       "1   tertiary   no  11305\n",
       "2    primary   no   6260\n",
       "3  secondary  yes   2450\n",
       "4   tertiary  yes   1996\n",
       "5    unknown   no   1605\n",
       "6    primary  yes    591\n",
       "7    unknown  yes    252"
      ]
     },
     "execution_count": 9,
     "metadata": {},
     "output_type": "execute_result"
    }
   ],
   "source": [
    "df[['education', 'y']].value_counts().reset_index(name='count')"
   ]
  },
  {
   "cell_type": "code",
   "execution_count": 10,
   "id": "ae1f78de",
   "metadata": {},
   "outputs": [
    {
     "data": {
      "text/plain": [
       "array(['tertiary', 'secondary', 'primary'], dtype=object)"
      ]
     },
     "execution_count": 10,
     "metadata": {},
     "output_type": "execute_result"
    }
   ],
   "source": [
    "df.education.replace('unknown',df.education.mode()[0],inplace=True)\n",
    "df.education.unique()"
   ]
  },
  {
   "cell_type": "code",
   "execution_count": 11,
   "id": "c56543de",
   "metadata": {},
   "outputs": [
    {
     "data": {
      "text/html": [
       "<div>\n",
       "<style scoped>\n",
       "    .dataframe tbody tr th:only-of-type {\n",
       "        vertical-align: middle;\n",
       "    }\n",
       "\n",
       "    .dataframe tbody tr th {\n",
       "        vertical-align: top;\n",
       "    }\n",
       "\n",
       "    .dataframe thead th {\n",
       "        text-align: right;\n",
       "    }\n",
       "</style>\n",
       "<table border=\"1\" class=\"dataframe\">\n",
       "  <thead>\n",
       "    <tr style=\"text-align: right;\">\n",
       "      <th></th>\n",
       "      <th>contact</th>\n",
       "      <th>y</th>\n",
       "      <th>count</th>\n",
       "    </tr>\n",
       "  </thead>\n",
       "  <tbody>\n",
       "    <tr>\n",
       "      <th>0</th>\n",
       "      <td>cellular</td>\n",
       "      <td>no</td>\n",
       "      <td>24916</td>\n",
       "    </tr>\n",
       "    <tr>\n",
       "      <th>1</th>\n",
       "      <td>unknown</td>\n",
       "      <td>no</td>\n",
       "      <td>12490</td>\n",
       "    </tr>\n",
       "    <tr>\n",
       "      <th>2</th>\n",
       "      <td>cellular</td>\n",
       "      <td>yes</td>\n",
       "      <td>4369</td>\n",
       "    </tr>\n",
       "    <tr>\n",
       "      <th>3</th>\n",
       "      <td>telephone</td>\n",
       "      <td>no</td>\n",
       "      <td>2516</td>\n",
       "    </tr>\n",
       "    <tr>\n",
       "      <th>4</th>\n",
       "      <td>unknown</td>\n",
       "      <td>yes</td>\n",
       "      <td>530</td>\n",
       "    </tr>\n",
       "    <tr>\n",
       "      <th>5</th>\n",
       "      <td>telephone</td>\n",
       "      <td>yes</td>\n",
       "      <td>390</td>\n",
       "    </tr>\n",
       "  </tbody>\n",
       "</table>\n",
       "</div>"
      ],
      "text/plain": [
       "     contact    y  count\n",
       "0   cellular   no  24916\n",
       "1    unknown   no  12490\n",
       "2   cellular  yes   4369\n",
       "3  telephone   no   2516\n",
       "4    unknown  yes    530\n",
       "5  telephone  yes    390"
      ]
     },
     "execution_count": 11,
     "metadata": {},
     "output_type": "execute_result"
    }
   ],
   "source": [
    "df[['contact', 'y']].value_counts().reset_index(name='count')"
   ]
  },
  {
   "cell_type": "code",
   "execution_count": 12,
   "id": "9171b4d9",
   "metadata": {},
   "outputs": [
    {
     "data": {
      "text/plain": [
       "array(['cellular', 'telephone'], dtype=object)"
      ]
     },
     "execution_count": 12,
     "metadata": {},
     "output_type": "execute_result"
    }
   ],
   "source": [
    "df.contact.replace('unknown',df.contact.mode()[0],inplace=True)\n",
    "df.contact.unique()"
   ]
  },
  {
   "cell_type": "code",
   "execution_count": 13,
   "id": "4abfc71f",
   "metadata": {},
   "outputs": [
    {
     "data": {
      "text/html": [
       "<div>\n",
       "<style scoped>\n",
       "    .dataframe tbody tr th:only-of-type {\n",
       "        vertical-align: middle;\n",
       "    }\n",
       "\n",
       "    .dataframe tbody tr th {\n",
       "        vertical-align: top;\n",
       "    }\n",
       "\n",
       "    .dataframe thead th {\n",
       "        text-align: right;\n",
       "    }\n",
       "</style>\n",
       "<table border=\"1\" class=\"dataframe\">\n",
       "  <thead>\n",
       "    <tr style=\"text-align: right;\">\n",
       "      <th></th>\n",
       "      <th>poutcome</th>\n",
       "      <th>y</th>\n",
       "      <th>count</th>\n",
       "    </tr>\n",
       "  </thead>\n",
       "  <tbody>\n",
       "    <tr>\n",
       "      <th>0</th>\n",
       "      <td>unknown</td>\n",
       "      <td>no</td>\n",
       "      <td>33573</td>\n",
       "    </tr>\n",
       "    <tr>\n",
       "      <th>1</th>\n",
       "      <td>failure</td>\n",
       "      <td>no</td>\n",
       "      <td>4283</td>\n",
       "    </tr>\n",
       "    <tr>\n",
       "      <th>2</th>\n",
       "      <td>unknown</td>\n",
       "      <td>yes</td>\n",
       "      <td>3386</td>\n",
       "    </tr>\n",
       "    <tr>\n",
       "      <th>3</th>\n",
       "      <td>other</td>\n",
       "      <td>no</td>\n",
       "      <td>1533</td>\n",
       "    </tr>\n",
       "    <tr>\n",
       "      <th>4</th>\n",
       "      <td>success</td>\n",
       "      <td>yes</td>\n",
       "      <td>978</td>\n",
       "    </tr>\n",
       "    <tr>\n",
       "      <th>5</th>\n",
       "      <td>failure</td>\n",
       "      <td>yes</td>\n",
       "      <td>618</td>\n",
       "    </tr>\n",
       "    <tr>\n",
       "      <th>6</th>\n",
       "      <td>success</td>\n",
       "      <td>no</td>\n",
       "      <td>533</td>\n",
       "    </tr>\n",
       "    <tr>\n",
       "      <th>7</th>\n",
       "      <td>other</td>\n",
       "      <td>yes</td>\n",
       "      <td>307</td>\n",
       "    </tr>\n",
       "  </tbody>\n",
       "</table>\n",
       "</div>"
      ],
      "text/plain": [
       "  poutcome    y  count\n",
       "0  unknown   no  33573\n",
       "1  failure   no   4283\n",
       "2  unknown  yes   3386\n",
       "3    other   no   1533\n",
       "4  success  yes    978\n",
       "5  failure  yes    618\n",
       "6  success   no    533\n",
       "7    other  yes    307"
      ]
     },
     "execution_count": 13,
     "metadata": {},
     "output_type": "execute_result"
    }
   ],
   "source": [
    "df[['poutcome', 'y']].value_counts().reset_index(name='count')"
   ]
  },
  {
   "cell_type": "code",
   "execution_count": 14,
   "id": "9a76f480",
   "metadata": {},
   "outputs": [
    {
     "data": {
      "text/plain": [
       "array(['other', 'failure', 'success'], dtype=object)"
      ]
     },
     "execution_count": 14,
     "metadata": {},
     "output_type": "execute_result"
    }
   ],
   "source": [
    "df.poutcome.replace('unknown','other',inplace=True)\n",
    "df.poutcome.unique()"
   ]
  },
  {
   "cell_type": "code",
   "execution_count": null,
   "id": "c71bb4c5",
   "metadata": {},
   "outputs": [],
   "source": []
  },
  {
   "cell_type": "code",
   "execution_count": null,
   "id": "930b5415",
   "metadata": {},
   "outputs": [],
   "source": []
  },
  {
   "cell_type": "code",
   "execution_count": 15,
   "id": "7b59137d",
   "metadata": {},
   "outputs": [
    {
     "data": {
      "text/plain": [
       "0.0"
      ]
     },
     "execution_count": 15,
     "metadata": {},
     "output_type": "execute_result"
    }
   ],
   "source": [
    "#find percentage of missing values for each column\n",
    "missing_values = df.isnull().mean()*100\n",
    "\n",
    "missing_values.sum()"
   ]
  },
  {
   "cell_type": "markdown",
   "id": "6203fb12",
   "metadata": {},
   "source": [
    "From the above we can see that there are no missing values"
   ]
  },
  {
   "cell_type": "code",
   "execution_count": 16,
   "id": "8f38e0de",
   "metadata": {},
   "outputs": [
    {
     "data": {
      "image/png": "[encoded data removed]",
      "text/plain": [
       "<Figure size 1440x1080 with 6 Axes>"
      ]
     },
     "metadata": {
      "needs_background": "light"
     },
     "output_type": "display_data"
    }
   ],
   "source": [
    "# For the numerical Data\n",
    "num_columns = ['balance', 'day','duration', 'campaign', 'pdays', 'previous']\n",
    "\n",
    "fig, axs = plt.subplots(2, 3, sharex=False, sharey=False, figsize=(20, 15))\n",
    "\n",
    "counter = 0\n",
    "for num_column in num_columns:\n",
    "    \n",
    "    trace_x = counter // 3\n",
    "    trace_y = counter % 3\n",
    "    \n",
    "    axs[trace_x, trace_y].hist(df[num_column])\n",
    "    \n",
    "    axs[trace_x, trace_y].set_title(num_column)\n",
    "    \n",
    "    counter += 1\n",
    "\n",
    "plt.show()"
   ]
  },
  {
   "cell_type": "code",
   "execution_count": 17,
   "id": "03a9f70c",
   "metadata": {},
   "outputs": [
    {
     "data": {
      "text/html": [
       "<div>\n",
       "<style scoped>\n",
       "    .dataframe tbody tr th:only-of-type {\n",
       "        vertical-align: middle;\n",
       "    }\n",
       "\n",
       "    .dataframe tbody tr th {\n",
       "        vertical-align: top;\n",
       "    }\n",
       "\n",
       "    .dataframe thead th {\n",
       "        text-align: right;\n",
       "    }\n",
       "</style>\n",
       "<table border=\"1\" class=\"dataframe\">\n",
       "  <thead>\n",
       "    <tr style=\"text-align: right;\">\n",
       "      <th></th>\n",
       "      <th>pdays</th>\n",
       "      <th>campaign</th>\n",
       "      <th>previous</th>\n",
       "    </tr>\n",
       "  </thead>\n",
       "  <tbody>\n",
       "    <tr>\n",
       "      <th>count</th>\n",
       "      <td>45211.000000</td>\n",
       "      <td>45211.000000</td>\n",
       "      <td>45211.000000</td>\n",
       "    </tr>\n",
       "    <tr>\n",
       "      <th>mean</th>\n",
       "      <td>40.197828</td>\n",
       "      <td>2.763841</td>\n",
       "      <td>0.580323</td>\n",
       "    </tr>\n",
       "    <tr>\n",
       "      <th>std</th>\n",
       "      <td>100.128746</td>\n",
       "      <td>3.098021</td>\n",
       "      <td>2.303441</td>\n",
       "    </tr>\n",
       "    <tr>\n",
       "      <th>min</th>\n",
       "      <td>-1.000000</td>\n",
       "      <td>1.000000</td>\n",
       "      <td>0.000000</td>\n",
       "    </tr>\n",
       "    <tr>\n",
       "      <th>25%</th>\n",
       "      <td>-1.000000</td>\n",
       "      <td>1.000000</td>\n",
       "      <td>0.000000</td>\n",
       "    </tr>\n",
       "    <tr>\n",
       "      <th>50%</th>\n",
       "      <td>-1.000000</td>\n",
       "      <td>2.000000</td>\n",
       "      <td>0.000000</td>\n",
       "    </tr>\n",
       "    <tr>\n",
       "      <th>75%</th>\n",
       "      <td>-1.000000</td>\n",
       "      <td>3.000000</td>\n",
       "      <td>0.000000</td>\n",
       "    </tr>\n",
       "    <tr>\n",
       "      <th>max</th>\n",
       "      <td>871.000000</td>\n",
       "      <td>63.000000</td>\n",
       "      <td>275.000000</td>\n",
       "    </tr>\n",
       "  </tbody>\n",
       "</table>\n",
       "</div>"
      ],
      "text/plain": [
       "              pdays      campaign      previous\n",
       "count  45211.000000  45211.000000  45211.000000\n",
       "mean      40.197828      2.763841      0.580323\n",
       "std      100.128746      3.098021      2.303441\n",
       "min       -1.000000      1.000000      0.000000\n",
       "25%       -1.000000      1.000000      0.000000\n",
       "50%       -1.000000      2.000000      0.000000\n",
       "75%       -1.000000      3.000000      0.000000\n",
       "max      871.000000     63.000000    275.000000"
      ]
     },
     "execution_count": 17,
     "metadata": {},
     "output_type": "execute_result"
    }
   ],
   "source": [
    "df[['pdays', 'campaign', 'previous']].describe() "
   ]
  },
  {
   "cell_type": "code",
   "execution_count": 18,
   "id": "aed6b27c",
   "metadata": {},
   "outputs": [
    {
     "data": {
      "text/plain": [
       "0.5175731569750724"
      ]
     },
     "execution_count": 18,
     "metadata": {},
     "output_type": "execute_result"
    }
   ],
   "source": [
    "#Percentage of 'pdays' values above 400:\n",
    "\n",
    "len (df[df['pdays'] > 400] ) / len(df) * 100"
   ]
  },
  {
   "cell_type": "markdown",
   "id": "3d35e7d9",
   "metadata": {},
   "source": [
    "\n",
    "'pdays' holds the number of days that passed by after the client was last contacted from a previous campaign Looking closer into 'pdays' data we can see that: only 0.58% of values above 400. They are possibly outliers, so we should consider imputing something (possibly mean value) instead of these values. -1 possibly means that the client wasn't contacted before or stands for missing data."
   ]
  },
  {
   "cell_type": "markdown",
   "id": "e8e09154",
   "metadata": {},
   "source": [
    "' To deal with the -1 we have to be sure about what to carry out on the data, do we go for the mean,\\nmode or the median '"
   ]
  },
  {
   "cell_type": "markdown",
   "id": "fa27d091",
   "metadata": {},
   "source": [
    "We will be applying the Boxplot and the Distribution plot for this"
   ]
  },
  {
   "cell_type": "code",
   "execution_count": 19,
   "id": "f098361f",
   "metadata": {},
   "outputs": [
    {
     "name": "stderr",
     "output_type": "stream",
     "text": [
      "/Applications/anaconda3/lib/python3.9/site-packages/seaborn/_decorators.py:36: FutureWarning: Pass the following variable as a keyword arg: x. From version 0.12, the only valid positional argument will be `data`, and passing other arguments without an explicit keyword will result in an error or misinterpretation.\n",
      "  warnings.warn(\n"
     ]
    },
    {
     "data": {
      "text/plain": [
       "<AxesSubplot:xlabel='pdays'>"
      ]
     },
     "execution_count": 19,
     "metadata": {},
     "output_type": "execute_result"
    },
    {
     "data": {
      "image/png": "[encoded data removed]",
      "text/plain": [
       "<Figure size 720x432 with 1 Axes>"
      ]
     },
     "metadata": {
      "needs_background": "light"
     },
     "output_type": "display_data"
    }
   ],
   "source": [
    "#Boxplot for deciding whether to use mean, mode or median for imputation\n",
    "ax= plt.subplots (figsize=(10, 6))\n",
    "sns.boxplot (df.pdays)"
   ]
  },
  {
   "cell_type": "code",
   "execution_count": 20,
   "id": "868aeb58",
   "metadata": {},
   "outputs": [
    {
     "name": "stderr",
     "output_type": "stream",
     "text": [
      "/Applications/anaconda3/lib/python3.9/site-packages/seaborn/distributions.py:2619: FutureWarning: `distplot` is a deprecated function and will be removed in a future version. Please adapt your code to use either `displot` (a figure-level function with similar flexibility) or `histplot` (an axes-level function for histograms).\n",
      "  warnings.warn(msg, FutureWarning)\n"
     ]
    },
    {
     "data": {
      "text/plain": [
       "<AxesSubplot:xlabel='pdays', ylabel='Density'>"
      ]
     },
     "execution_count": 20,
     "metadata": {},
     "output_type": "execute_result"
    },
    {
     "data": {
      "image/png": "[encoded data removed]",
      "text/plain": [
       "<Figure size 720x576 with 1 Axes>"
      ]
     },
     "metadata": {
      "needs_background": "light"
     },
     "output_type": "display_data"
    }
   ],
   "source": [
    "# Distribution plot for deciding imputation technique\n",
    "ax = plt.subplots (figsize=(10, 8) )\n",
    "sns.distplot(df.pdays)"
   ]
  },
  {
   "cell_type": "code",
   "execution_count": 21,
   "id": "e340c8ca",
   "metadata": {},
   "outputs": [
    {
     "data": {
      "text/plain": [
       "0   -1\n",
       "dtype: int64"
      ]
     },
     "execution_count": 21,
     "metadata": {},
     "output_type": "execute_result"
    }
   ],
   "source": [
    "df[\"pdays\"].mode()"
   ]
  },
  {
   "cell_type": "code",
   "execution_count": 22,
   "id": "b19ddf08",
   "metadata": {},
   "outputs": [
    {
     "data": {
      "text/plain": [
       "-1.0"
      ]
     },
     "execution_count": 22,
     "metadata": {},
     "output_type": "execute_result"
    }
   ],
   "source": [
    "df[\"pdays\"].median()"
   ]
  },
  {
   "cell_type": "code",
   "execution_count": 23,
   "id": "62a8823d",
   "metadata": {},
   "outputs": [
    {
     "data": {
      "text/plain": [
       "40.19782796222158"
      ]
     },
     "execution_count": 23,
     "metadata": {},
     "output_type": "execute_result"
    }
   ],
   "source": [
    "df[\"pdays\"].mean()"
   ]
  },
  {
   "cell_type": "markdown",
   "id": "e922fe59",
   "metadata": {},
   "source": [
    "From the Box Plot we can see reasonable distribution\n",
    "\n",
    "We would be replacing the '-1' with the mean of df['pdays']"
   ]
  },
  {
   "cell_type": "code",
   "execution_count": 24,
   "id": "ab4ed5c5",
   "metadata": {},
   "outputs": [],
   "source": [
    "df = df.replace(to_replace = -1, value = 40.19782796222158)"
   ]
  },
  {
   "cell_type": "code",
   "execution_count": 25,
   "id": "d1b6ce9b",
   "metadata": {},
   "outputs": [
    {
     "data": {
      "text/html": [
       "<div>\n",
       "<style scoped>\n",
       "    .dataframe tbody tr th:only-of-type {\n",
       "        vertical-align: middle;\n",
       "    }\n",
       "\n",
       "    .dataframe tbody tr th {\n",
       "        vertical-align: top;\n",
       "    }\n",
       "\n",
       "    .dataframe thead th {\n",
       "        text-align: right;\n",
       "    }\n",
       "</style>\n",
       "<table border=\"1\" class=\"dataframe\">\n",
       "  <thead>\n",
       "    <tr style=\"text-align: right;\">\n",
       "      <th></th>\n",
       "      <th>age</th>\n",
       "      <th>job</th>\n",
       "      <th>marital</th>\n",
       "      <th>education</th>\n",
       "      <th>default</th>\n",
       "      <th>balance</th>\n",
       "      <th>housing</th>\n",
       "      <th>loan</th>\n",
       "      <th>contact</th>\n",
       "      <th>day</th>\n",
       "      <th>month</th>\n",
       "      <th>duration</th>\n",
       "      <th>campaign</th>\n",
       "      <th>pdays</th>\n",
       "      <th>previous</th>\n",
       "      <th>poutcome</th>\n",
       "      <th>y</th>\n",
       "    </tr>\n",
       "  </thead>\n",
       "  <tbody>\n",
       "    <tr>\n",
       "      <th>0</th>\n",
       "      <td>58</td>\n",
       "      <td>management</td>\n",
       "      <td>married</td>\n",
       "      <td>tertiary</td>\n",
       "      <td>no</td>\n",
       "      <td>2143.0</td>\n",
       "      <td>yes</td>\n",
       "      <td>no</td>\n",
       "      <td>cellular</td>\n",
       "      <td>5</td>\n",
       "      <td>may</td>\n",
       "      <td>261</td>\n",
       "      <td>1</td>\n",
       "      <td>40.197828</td>\n",
       "      <td>0</td>\n",
       "      <td>other</td>\n",
       "      <td>no</td>\n",
       "    </tr>\n",
       "    <tr>\n",
       "      <th>1</th>\n",
       "      <td>44</td>\n",
       "      <td>technician</td>\n",
       "      <td>single</td>\n",
       "      <td>secondary</td>\n",
       "      <td>no</td>\n",
       "      <td>29.0</td>\n",
       "      <td>yes</td>\n",
       "      <td>no</td>\n",
       "      <td>cellular</td>\n",
       "      <td>5</td>\n",
       "      <td>may</td>\n",
       "      <td>151</td>\n",
       "      <td>1</td>\n",
       "      <td>40.197828</td>\n",
       "      <td>0</td>\n",
       "      <td>other</td>\n",
       "      <td>no</td>\n",
       "    </tr>\n",
       "    <tr>\n",
       "      <th>2</th>\n",
       "      <td>33</td>\n",
       "      <td>entrepreneur</td>\n",
       "      <td>married</td>\n",
       "      <td>secondary</td>\n",
       "      <td>no</td>\n",
       "      <td>2.0</td>\n",
       "      <td>yes</td>\n",
       "      <td>yes</td>\n",
       "      <td>cellular</td>\n",
       "      <td>5</td>\n",
       "      <td>may</td>\n",
       "      <td>76</td>\n",
       "      <td>1</td>\n",
       "      <td>40.197828</td>\n",
       "      <td>0</td>\n",
       "      <td>other</td>\n",
       "      <td>no</td>\n",
       "    </tr>\n",
       "    <tr>\n",
       "      <th>3</th>\n",
       "      <td>47</td>\n",
       "      <td>blue-collar</td>\n",
       "      <td>married</td>\n",
       "      <td>secondary</td>\n",
       "      <td>no</td>\n",
       "      <td>1506.0</td>\n",
       "      <td>yes</td>\n",
       "      <td>no</td>\n",
       "      <td>cellular</td>\n",
       "      <td>5</td>\n",
       "      <td>may</td>\n",
       "      <td>92</td>\n",
       "      <td>1</td>\n",
       "      <td>40.197828</td>\n",
       "      <td>0</td>\n",
       "      <td>other</td>\n",
       "      <td>no</td>\n",
       "    </tr>\n",
       "    <tr>\n",
       "      <th>4</th>\n",
       "      <td>33</td>\n",
       "      <td>blue-collar</td>\n",
       "      <td>single</td>\n",
       "      <td>secondary</td>\n",
       "      <td>no</td>\n",
       "      <td>1.0</td>\n",
       "      <td>no</td>\n",
       "      <td>no</td>\n",
       "      <td>cellular</td>\n",
       "      <td>5</td>\n",
       "      <td>may</td>\n",
       "      <td>198</td>\n",
       "      <td>1</td>\n",
       "      <td>40.197828</td>\n",
       "      <td>0</td>\n",
       "      <td>other</td>\n",
       "      <td>no</td>\n",
       "    </tr>\n",
       "    <tr>\n",
       "      <th>...</th>\n",
       "      <td>...</td>\n",
       "      <td>...</td>\n",
       "      <td>...</td>\n",
       "      <td>...</td>\n",
       "      <td>...</td>\n",
       "      <td>...</td>\n",
       "      <td>...</td>\n",
       "      <td>...</td>\n",
       "      <td>...</td>\n",
       "      <td>...</td>\n",
       "      <td>...</td>\n",
       "      <td>...</td>\n",
       "      <td>...</td>\n",
       "      <td>...</td>\n",
       "      <td>...</td>\n",
       "      <td>...</td>\n",
       "      <td>...</td>\n",
       "    </tr>\n",
       "    <tr>\n",
       "      <th>45206</th>\n",
       "      <td>51</td>\n",
       "      <td>technician</td>\n",
       "      <td>married</td>\n",
       "      <td>tertiary</td>\n",
       "      <td>no</td>\n",
       "      <td>825.0</td>\n",
       "      <td>no</td>\n",
       "      <td>no</td>\n",
       "      <td>cellular</td>\n",
       "      <td>17</td>\n",
       "      <td>nov</td>\n",
       "      <td>977</td>\n",
       "      <td>3</td>\n",
       "      <td>40.197828</td>\n",
       "      <td>0</td>\n",
       "      <td>other</td>\n",
       "      <td>yes</td>\n",
       "    </tr>\n",
       "    <tr>\n",
       "      <th>45207</th>\n",
       "      <td>71</td>\n",
       "      <td>retired</td>\n",
       "      <td>divorced</td>\n",
       "      <td>primary</td>\n",
       "      <td>no</td>\n",
       "      <td>1729.0</td>\n",
       "      <td>no</td>\n",
       "      <td>no</td>\n",
       "      <td>cellular</td>\n",
       "      <td>17</td>\n",
       "      <td>nov</td>\n",
       "      <td>456</td>\n",
       "      <td>2</td>\n",
       "      <td>40.197828</td>\n",
       "      <td>0</td>\n",
       "      <td>other</td>\n",
       "      <td>yes</td>\n",
       "    </tr>\n",
       "    <tr>\n",
       "      <th>45208</th>\n",
       "      <td>72</td>\n",
       "      <td>retired</td>\n",
       "      <td>married</td>\n",
       "      <td>secondary</td>\n",
       "      <td>no</td>\n",
       "      <td>5715.0</td>\n",
       "      <td>no</td>\n",
       "      <td>no</td>\n",
       "      <td>cellular</td>\n",
       "      <td>17</td>\n",
       "      <td>nov</td>\n",
       "      <td>1127</td>\n",
       "      <td>5</td>\n",
       "      <td>184.000000</td>\n",
       "      <td>3</td>\n",
       "      <td>success</td>\n",
       "      <td>yes</td>\n",
       "    </tr>\n",
       "    <tr>\n",
       "      <th>45209</th>\n",
       "      <td>57</td>\n",
       "      <td>blue-collar</td>\n",
       "      <td>married</td>\n",
       "      <td>secondary</td>\n",
       "      <td>no</td>\n",
       "      <td>668.0</td>\n",
       "      <td>no</td>\n",
       "      <td>no</td>\n",
       "      <td>telephone</td>\n",
       "      <td>17</td>\n",
       "      <td>nov</td>\n",
       "      <td>508</td>\n",
       "      <td>4</td>\n",
       "      <td>40.197828</td>\n",
       "      <td>0</td>\n",
       "      <td>other</td>\n",
       "      <td>no</td>\n",
       "    </tr>\n",
       "    <tr>\n",
       "      <th>45210</th>\n",
       "      <td>37</td>\n",
       "      <td>entrepreneur</td>\n",
       "      <td>married</td>\n",
       "      <td>secondary</td>\n",
       "      <td>no</td>\n",
       "      <td>2971.0</td>\n",
       "      <td>no</td>\n",
       "      <td>no</td>\n",
       "      <td>cellular</td>\n",
       "      <td>17</td>\n",
       "      <td>nov</td>\n",
       "      <td>361</td>\n",
       "      <td>2</td>\n",
       "      <td>188.000000</td>\n",
       "      <td>11</td>\n",
       "      <td>other</td>\n",
       "      <td>no</td>\n",
       "    </tr>\n",
       "  </tbody>\n",
       "</table>\n",
       "<p>45211 rows × 17 columns</p>\n",
       "</div>"
      ],
      "text/plain": [
       "       age           job   marital  education default  balance housing loan  \\\n",
       "0       58    management   married   tertiary      no   2143.0     yes   no   \n",
       "1       44    technician    single  secondary      no     29.0     yes   no   \n",
       "2       33  entrepreneur   married  secondary      no      2.0     yes  yes   \n",
       "3       47   blue-collar   married  secondary      no   1506.0     yes   no   \n",
       "4       33   blue-collar    single  secondary      no      1.0      no   no   \n",
       "...    ...           ...       ...        ...     ...      ...     ...  ...   \n",
       "45206   51    technician   married   tertiary      no    825.0      no   no   \n",
       "45207   71       retired  divorced    primary      no   1729.0      no   no   \n",
       "45208   72       retired   married  secondary      no   5715.0      no   no   \n",
       "45209   57   blue-collar   married  secondary      no    668.0      no   no   \n",
       "45210   37  entrepreneur   married  secondary      no   2971.0      no   no   \n",
       "\n",
       "         contact  day month  duration  campaign       pdays  previous  \\\n",
       "0       cellular    5   may       261         1   40.197828         0   \n",
       "1       cellular    5   may       151         1   40.197828         0   \n",
       "2       cellular    5   may        76         1   40.197828         0   \n",
       "3       cellular    5   may        92         1   40.197828         0   \n",
       "4       cellular    5   may       198         1   40.197828         0   \n",
       "...          ...  ...   ...       ...       ...         ...       ...   \n",
       "45206   cellular   17   nov       977         3   40.197828         0   \n",
       "45207   cellular   17   nov       456         2   40.197828         0   \n",
       "45208   cellular   17   nov      1127         5  184.000000         3   \n",
       "45209  telephone   17   nov       508         4   40.197828         0   \n",
       "45210   cellular   17   nov       361         2  188.000000        11   \n",
       "\n",
       "      poutcome    y  \n",
       "0        other   no  \n",
       "1        other   no  \n",
       "2        other   no  \n",
       "3        other   no  \n",
       "4        other   no  \n",
       "...        ...  ...  \n",
       "45206    other  yes  \n",
       "45207    other  yes  \n",
       "45208  success  yes  \n",
       "45209    other   no  \n",
       "45210    other   no  \n",
       "\n",
       "[45211 rows x 17 columns]"
      ]
     },
     "execution_count": 25,
     "metadata": {},
     "output_type": "execute_result"
    }
   ],
   "source": [
    "df"
   ]
  },
  {
   "cell_type": "markdown",
   "id": "43fc43bd",
   "metadata": {},
   "source": [
    "WE ARE GOING TO BE COMPARING OUR DEPOSIT'S COULUMN TO OTHER COLUMNS"
   ]
  },
  {
   "cell_type": "code",
   "execution_count": 26,
   "id": "c873830c",
   "metadata": {},
   "outputs": [
    {
     "data": {
      "text/plain": [
       "<AxesSubplot:title={'center':'Yes Or No Responses'}>"
      ]
     },
     "execution_count": 26,
     "metadata": {},
     "output_type": "execute_result"
    },
    {
     "data": {
      "image/png": "[encoded data removed]",
      "text/plain": [
       "<Figure size 432x288 with 1 Axes>"
      ]
     },
     "metadata": {
      "needs_background": "light"
     },
     "output_type": "display_data"
    }
   ],
   "source": [
    "#The number of 'yes' and 'no' values in the response column 'y'.\n",
    "value_counts = df['y'].value_counts()\n",
    "\n",
    "value_counts.plot.bar(title = 'Yes Or No Responses')"
   ]
  },
  {
   "cell_type": "code",
   "execution_count": 27,
   "id": "0c997caf",
   "metadata": {},
   "outputs": [
    {
     "data": {
      "text/plain": [
       "<AxesSubplot:title={'center':'Job and deposit'}>"
      ]
     },
     "execution_count": 27,
     "metadata": {},
     "output_type": "execute_result"
    },
    {
     "data": {
      "image/png": "[encoded data removed]",
      "text/plain": [
       "<Figure size 432x288 with 1 Axes>"
      ]
     },
     "metadata": {
      "needs_background": "light"
     },
     "output_type": "display_data"
    }
   ],
   "source": [
    "#job and deposit\n",
    "j_df = pd.DataFrame()\n",
    "\n",
    "j_df['yes'] = df[df['y'] == 'yes']['job'].value_counts()\n",
    "j_df['no'] = df[df['y'] == 'no']['job'].value_counts()\n",
    "\n",
    "j_df.plot.bar(title = 'Job and deposit')"
   ]
  },
  {
   "cell_type": "code",
   "execution_count": 28,
   "id": "c4e76602",
   "metadata": {},
   "outputs": [
    {
     "data": {
      "text/plain": [
       "<AxesSubplot:title={'center':'Marital status and deposit'}>"
      ]
     },
     "execution_count": 28,
     "metadata": {},
     "output_type": "execute_result"
    },
    {
     "data": {
      "image/png": "[encoded data removed]",
      "text/plain": [
       "<Figure size 432x288 with 1 Axes>"
      ]
     },
     "metadata": {
      "needs_background": "light"
     },
     "output_type": "display_data"
    }
   ],
   "source": [
    "#marital status and deposit\n",
    "j_df = pd.DataFrame()\n",
    "\n",
    "j_df['yes'] = df[df['y'] == 'yes']['marital'].value_counts()\n",
    "j_df['no'] = df[df['y'] == 'no']['marital'].value_counts()\n",
    "\n",
    "j_df.plot.bar(title = 'Marital status and deposit')"
   ]
  },
  {
   "cell_type": "code",
   "execution_count": 29,
   "id": "82e2096c",
   "metadata": {},
   "outputs": [
    {
     "data": {
      "text/plain": [
       "<AxesSubplot:title={'center':'Education and deposit'}>"
      ]
     },
     "execution_count": 29,
     "metadata": {},
     "output_type": "execute_result"
    },
    {
     "data": {
      "image/png": "[encoded data removed]",
      "text/plain": [
       "<Figure size 432x288 with 1 Axes>"
      ]
     },
     "metadata": {
      "needs_background": "light"
     },
     "output_type": "display_data"
    }
   ],
   "source": [
    "#education and deposit\n",
    "j_df = pd.DataFrame()\n",
    "\n",
    "j_df['yes'] = df[df['y'] == 'yes']['education'].value_counts()\n",
    "j_df['no'] = df[df['y'] == 'no']['education'].value_counts()\n",
    "\n",
    "j_df.plot.bar(title = 'Education and deposit')"
   ]
  },
  {
   "cell_type": "code",
   "execution_count": 30,
   "id": "94e64670",
   "metadata": {},
   "outputs": [
    {
     "data": {
      "text/plain": [
       "<AxesSubplot:title={'center':'Type of contact and deposit'}>"
      ]
     },
     "execution_count": 30,
     "metadata": {},
     "output_type": "execute_result"
    },
    {
     "data": {
      "image/png": "[encoded data removed]",
      "text/plain": [
       "<Figure size 432x288 with 1 Axes>"
      ]
     },
     "metadata": {
      "needs_background": "light"
     },
     "output_type": "display_data"
    }
   ],
   "source": [
    "#type of contact and deposit\n",
    "j_df = pd.DataFrame()\n",
    "\n",
    "j_df['yes'] = df[df['y'] == 'yes']['contact'].value_counts()\n",
    "j_df['no'] = df[df['y'] == 'no']['contact'].value_counts()\n",
    "\n",
    "j_df.plot.bar(title = 'Type of contact and deposit')"
   ]
  },
  {
   "cell_type": "code",
   "execution_count": 31,
   "id": "34b0c29b",
   "metadata": {},
   "outputs": [
    {
     "data": {
      "text/html": [
       "<div>\n",
       "<style scoped>\n",
       "    .dataframe tbody tr th:only-of-type {\n",
       "        vertical-align: middle;\n",
       "    }\n",
       "\n",
       "    .dataframe tbody tr th {\n",
       "        vertical-align: top;\n",
       "    }\n",
       "\n",
       "    .dataframe thead th {\n",
       "        text-align: right;\n",
       "    }\n",
       "</style>\n",
       "<table border=\"1\" class=\"dataframe\">\n",
       "  <thead>\n",
       "    <tr style=\"text-align: right;\">\n",
       "      <th></th>\n",
       "      <th>balance_yes</th>\n",
       "      <th>balance_no</th>\n",
       "    </tr>\n",
       "  </thead>\n",
       "  <tbody>\n",
       "    <tr>\n",
       "      <th>count</th>\n",
       "      <td>5289.000000</td>\n",
       "      <td>39922.000000</td>\n",
       "    </tr>\n",
       "    <tr>\n",
       "      <th>mean</th>\n",
       "      <td>1804.299072</td>\n",
       "      <td>1303.762439</td>\n",
       "    </tr>\n",
       "    <tr>\n",
       "      <th>std</th>\n",
       "      <td>3501.088891</td>\n",
       "      <td>2974.174977</td>\n",
       "    </tr>\n",
       "    <tr>\n",
       "      <th>min</th>\n",
       "      <td>-3058.000000</td>\n",
       "      <td>-8019.000000</td>\n",
       "    </tr>\n",
       "    <tr>\n",
       "      <th>25%</th>\n",
       "      <td>210.000000</td>\n",
       "      <td>58.000000</td>\n",
       "    </tr>\n",
       "    <tr>\n",
       "      <th>50%</th>\n",
       "      <td>733.000000</td>\n",
       "      <td>417.000000</td>\n",
       "    </tr>\n",
       "    <tr>\n",
       "      <th>75%</th>\n",
       "      <td>2159.000000</td>\n",
       "      <td>1345.000000</td>\n",
       "    </tr>\n",
       "    <tr>\n",
       "      <th>max</th>\n",
       "      <td>81204.000000</td>\n",
       "      <td>102127.000000</td>\n",
       "    </tr>\n",
       "  </tbody>\n",
       "</table>\n",
       "</div>"
      ],
      "text/plain": [
       "        balance_yes     balance_no\n",
       "count   5289.000000   39922.000000\n",
       "mean    1804.299072    1303.762439\n",
       "std     3501.088891    2974.174977\n",
       "min    -3058.000000   -8019.000000\n",
       "25%      210.000000      58.000000\n",
       "50%      733.000000     417.000000\n",
       "75%     2159.000000    1345.000000\n",
       "max    81204.000000  102127.000000"
      ]
     },
     "execution_count": 31,
     "metadata": {},
     "output_type": "execute_result"
    }
   ],
   "source": [
    "#balance and deposit\n",
    "\n",
    "b_df = pd.DataFrame()\n",
    "b_df['balance_yes'] = (df[df['y'] == 'yes'][['y','balance']].describe())['balance']\n",
    "b_df['balance_no'] = (df[df['y'] == 'no'][['y','balance']].describe())['balance']\n",
    "\n",
    "b_df"
   ]
  },
  {
   "cell_type": "code",
   "execution_count": 32,
   "id": "8a0cdc20",
   "metadata": {},
   "outputs": [
    {
     "data": {
      "text/plain": [
       "<AxesSubplot:title={'center':'Balance and deposit statistics'}>"
      ]
     },
     "execution_count": 32,
     "metadata": {},
     "output_type": "execute_result"
    },
    {
     "data": {
      "image/png": "[encoded data removed]",
      "text/plain": [
       "<Figure size 432x288 with 1 Axes>"
      ]
     },
     "metadata": {
      "needs_background": "light"
     },
     "output_type": "display_data"
    }
   ],
   "source": [
    "b_df.drop(['count', '25%', '50%', '75%']).plot.bar(title = 'Balance and deposit statistics')"
   ]
  },
  {
   "cell_type": "code",
   "execution_count": 33,
   "id": "481b473c",
   "metadata": {},
   "outputs": [
    {
     "data": {
      "text/html": [
       "<div>\n",
       "<style scoped>\n",
       "    .dataframe tbody tr th:only-of-type {\n",
       "        vertical-align: middle;\n",
       "    }\n",
       "\n",
       "    .dataframe tbody tr th {\n",
       "        vertical-align: top;\n",
       "    }\n",
       "\n",
       "    .dataframe thead th {\n",
       "        text-align: right;\n",
       "    }\n",
       "</style>\n",
       "<table border=\"1\" class=\"dataframe\">\n",
       "  <thead>\n",
       "    <tr style=\"text-align: right;\">\n",
       "      <th></th>\n",
       "      <th>age_yes</th>\n",
       "      <th>age_no</th>\n",
       "    </tr>\n",
       "  </thead>\n",
       "  <tbody>\n",
       "    <tr>\n",
       "      <th>count</th>\n",
       "      <td>5289.000000</td>\n",
       "      <td>39922.000000</td>\n",
       "    </tr>\n",
       "    <tr>\n",
       "      <th>mean</th>\n",
       "      <td>41.670070</td>\n",
       "      <td>40.838986</td>\n",
       "    </tr>\n",
       "    <tr>\n",
       "      <th>std</th>\n",
       "      <td>13.497781</td>\n",
       "      <td>10.172662</td>\n",
       "    </tr>\n",
       "    <tr>\n",
       "      <th>min</th>\n",
       "      <td>18.000000</td>\n",
       "      <td>18.000000</td>\n",
       "    </tr>\n",
       "    <tr>\n",
       "      <th>25%</th>\n",
       "      <td>31.000000</td>\n",
       "      <td>33.000000</td>\n",
       "    </tr>\n",
       "    <tr>\n",
       "      <th>50%</th>\n",
       "      <td>38.000000</td>\n",
       "      <td>39.000000</td>\n",
       "    </tr>\n",
       "    <tr>\n",
       "      <th>75%</th>\n",
       "      <td>50.000000</td>\n",
       "      <td>48.000000</td>\n",
       "    </tr>\n",
       "    <tr>\n",
       "      <th>max</th>\n",
       "      <td>95.000000</td>\n",
       "      <td>95.000000</td>\n",
       "    </tr>\n",
       "  </tbody>\n",
       "</table>\n",
       "</div>"
      ],
      "text/plain": [
       "           age_yes        age_no\n",
       "count  5289.000000  39922.000000\n",
       "mean     41.670070     40.838986\n",
       "std      13.497781     10.172662\n",
       "min      18.000000     18.000000\n",
       "25%      31.000000     33.000000\n",
       "50%      38.000000     39.000000\n",
       "75%      50.000000     48.000000\n",
       "max      95.000000     95.000000"
      ]
     },
     "execution_count": 33,
     "metadata": {},
     "output_type": "execute_result"
    }
   ],
   "source": [
    "#age and deposit\n",
    "\n",
    "a_df = pd.DataFrame()\n",
    "a_df['age_yes'] = (df[df['y'] == 'yes'][['y','age']].describe())['age']\n",
    "a_df['age_no'] = (df[df['y'] == 'no'][['y','age']].describe())['age']\n",
    "\n",
    "a_df"
   ]
  },
  {
   "cell_type": "code",
   "execution_count": 34,
   "id": "2461aff5",
   "metadata": {},
   "outputs": [
    {
     "data": {
      "text/plain": [
       "<AxesSubplot:title={'center':'Age and deposit statistics'}>"
      ]
     },
     "execution_count": 34,
     "metadata": {},
     "output_type": "execute_result"
    },
    {
     "data": {
      "image/png": "[encoded data removed]",
      "text/plain": [
       "<Figure size 432x288 with 1 Axes>"
      ]
     },
     "metadata": {
      "needs_background": "light"
     },
     "output_type": "display_data"
    }
   ],
   "source": [
    "a_df.drop(['count', '25%', '50%', '75%']).plot.bar(title = 'Age and deposit statistics')"
   ]
  },
  {
   "cell_type": "code",
   "execution_count": 35,
   "id": "c2778f70",
   "metadata": {},
   "outputs": [
    {
     "data": {
      "text/html": [
       "<div>\n",
       "<style scoped>\n",
       "    .dataframe tbody tr th:only-of-type {\n",
       "        vertical-align: middle;\n",
       "    }\n",
       "\n",
       "    .dataframe tbody tr th {\n",
       "        vertical-align: top;\n",
       "    }\n",
       "\n",
       "    .dataframe thead th {\n",
       "        text-align: right;\n",
       "    }\n",
       "</style>\n",
       "<table border=\"1\" class=\"dataframe\">\n",
       "  <thead>\n",
       "    <tr style=\"text-align: right;\">\n",
       "      <th></th>\n",
       "      <th>campaign_yes</th>\n",
       "      <th>campaign_no</th>\n",
       "    </tr>\n",
       "  </thead>\n",
       "  <tbody>\n",
       "    <tr>\n",
       "      <th>count</th>\n",
       "      <td>5289.000000</td>\n",
       "      <td>39922.000000</td>\n",
       "    </tr>\n",
       "    <tr>\n",
       "      <th>mean</th>\n",
       "      <td>2.141047</td>\n",
       "      <td>2.846350</td>\n",
       "    </tr>\n",
       "    <tr>\n",
       "      <th>std</th>\n",
       "      <td>1.921826</td>\n",
       "      <td>3.212767</td>\n",
       "    </tr>\n",
       "    <tr>\n",
       "      <th>min</th>\n",
       "      <td>1.000000</td>\n",
       "      <td>1.000000</td>\n",
       "    </tr>\n",
       "    <tr>\n",
       "      <th>25%</th>\n",
       "      <td>1.000000</td>\n",
       "      <td>1.000000</td>\n",
       "    </tr>\n",
       "    <tr>\n",
       "      <th>50%</th>\n",
       "      <td>2.000000</td>\n",
       "      <td>2.000000</td>\n",
       "    </tr>\n",
       "    <tr>\n",
       "      <th>75%</th>\n",
       "      <td>3.000000</td>\n",
       "      <td>3.000000</td>\n",
       "    </tr>\n",
       "    <tr>\n",
       "      <th>max</th>\n",
       "      <td>32.000000</td>\n",
       "      <td>63.000000</td>\n",
       "    </tr>\n",
       "  </tbody>\n",
       "</table>\n",
       "</div>"
      ],
      "text/plain": [
       "       campaign_yes   campaign_no\n",
       "count   5289.000000  39922.000000\n",
       "mean       2.141047      2.846350\n",
       "std        1.921826      3.212767\n",
       "min        1.000000      1.000000\n",
       "25%        1.000000      1.000000\n",
       "50%        2.000000      2.000000\n",
       "75%        3.000000      3.000000\n",
       "max       32.000000     63.000000"
      ]
     },
     "execution_count": 35,
     "metadata": {},
     "output_type": "execute_result"
    }
   ],
   "source": [
    "#number of contacts performed during this campaign ('campaign') and deposit\n",
    "c_df = pd.DataFrame()\n",
    "c_df['campaign_yes'] = (df[df['y'] == 'yes'][['y','campaign']].describe())['campaign']\n",
    "c_df['campaign_no'] = (df[df['y'] == 'no'][['y','campaign']].describe())['campaign']\n",
    "\n",
    "c_df"
   ]
  },
  {
   "cell_type": "code",
   "execution_count": 36,
   "id": "ce0e1bd9",
   "metadata": {},
   "outputs": [
    {
     "data": {
      "text/plain": [
       "<AxesSubplot:title={'center':'Number of contacts performed during this campaign and deposit statistics'}>"
      ]
     },
     "execution_count": 36,
     "metadata": {},
     "output_type": "execute_result"
    },
    {
     "data": {
      "image/png": "[encoded data removed]",
      "text/plain": [
       "<Figure size 432x288 with 1 Axes>"
      ]
     },
     "metadata": {
      "needs_background": "light"
     },
     "output_type": "display_data"
    }
   ],
   "source": [
    "c_df.drop(['count', '25%', '50%', '75%']).plot.bar(title = 'Number of contacts performed during this campaign and deposit statistics')"
   ]
  },
  {
   "cell_type": "markdown",
   "id": "fb261dc5",
   "metadata": {},
   "source": [
    "# FINAL RECOMMENDATION AND FINDINGS"
   ]
  },
  {
   "cell_type": "markdown",
   "id": "40fc881f",
   "metadata": {},
   "source": [
    "From the diagrams we can tell that according to our dataset:\n",
    "\n",
    "1. Customers with 'blue-collar' and 'services' jobs are less likely to subscribe for term deposit.\n",
    "\n",
    "2. Married customers are less likely to subscribe for term deposit.\n",
    "\n",
    "3. Customers with 'cellular' type of contact are less likely to subscribe for term deposit.\n",
    "\n",
    "4. People who subscribed for term deposit tend to have greater balance and age values.\n",
    "\n",
    "5. People who subscribed for term deposit tend to have fewer number of contacts during this campaign."
   ]
  },
  {
   "cell_type": "code",
   "execution_count": null,
   "id": "8ccc50a5",
   "metadata": {},
   "outputs": [],
   "source": []
  },
  {
   "cell_type": "code",
   "execution_count": null,
   "id": "5a17e762",
   "metadata": {},
   "outputs": [],
   "source": []
  },
  {
   "cell_type": "code",
   "execution_count": null,
   "id": "63479438",
   "metadata": {},
   "outputs": [],
   "source": []
  },
  {
   "cell_type": "code",
   "execution_count": null,
   "id": "b1298f54",
   "metadata": {},
   "outputs": [],
   "source": []
  },
  {
   "cell_type": "code",
   "execution_count": null,
   "id": "3f9587e6",
   "metadata": {},
   "outputs": [],
   "source": []
  }
 ],
 "metadata": {
  "kernelspec": {
   "display_name": "Python 3 (ipykernel)",
   "language": "python",
   "name": "python3"
  },
  "language_info": {
   "codemirror_mode": {
    "name": "ipython",
    "version": 3
   },
   "file_extension": ".py",
   "mimetype": "text/x-python",
   "name": "python",
   "nbconvert_exporter": "python",
   "pygments_lexer": "ipython3",
   "version": "3.9.7"
  }
 },
 "nbformat": 4,
 "nbformat_minor": 5
}
