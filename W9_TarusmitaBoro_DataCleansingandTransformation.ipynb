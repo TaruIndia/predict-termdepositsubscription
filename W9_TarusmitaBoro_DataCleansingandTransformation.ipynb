{
 "cells": [
  {
   "cell_type": "markdown",
   "id": "fb87fcf0-00d3-4e1b-aed3-8bbc9e90138a",
   "metadata": {},
   "source": [
    " for whole team).nk</h3>"
   ]
  },
  {
   "cell_type": "code",
   "execution_count": 1,
   "id": "c7de9110-685e-4433-8e9e-ddee07901a2e",
   "metadata": {},
   "outputs": [],
   "source": [
    "from io import StringIO"
   ]
  },
  {
   "cell_type": "code",
   "execution_count": 4,
   "id": "ceea3a37-11b0-48e2-ac1f-09520f500c58",
   "metadata": {},
   "outputs": [],
   "source": [
    "import requests, zipfile\n",
    "r = requests.get('https://archive.ics.uci.edu/static/public/222/bank+marketing.zip')"
   ]
  },
  {
   "cell_type": "code",
   "execution_count": 36,
   "id": "98feb0e6-df6b-4493-bb59-85b9799745c9",
   "metadata": {},
   "outputs": [],
   "source": [
    "import numpy as np"
   ]
  },
  {
   "cell_type": "code",
   "execution_count": 2,
   "id": "963a7fb2-f52e-465c-8bab-d6a4076152fa",
   "metadata": {},
   "outputs": [],
   "source": [
    "import pandas as pd\n",
    "df = pd.read_csv('https://archive.ics.uci.edu/static/public/222/data.csv')"
   ]
  },
  {
   "cell_type": "code",
   "execution_count": 5,
   "id": "0d87b769-f0c1-4b16-b5a3-af41f76bdb61",
   "metadata": {},
   "outputs": [
    {
     "data": {
      "text/html": [
       "<div>\n",
       "<style scoped>\n",
       "    .dataframe tbody tr th:only-of-type {\n",
       "        vertical-align: middle;\n",
       "    }\n",
       "\n",
       "    .dataframe tbody tr th {\n",
       "        vertical-align: top;\n",
       "    }\n",
       "\n",
       "    .dataframe thead th {\n",
       "        text-align: right;\n",
       "    }\n",
       "</style>\n",
       "<table border=\"1\" class=\"dataframe\">\n",
       "  <thead>\n",
       "    <tr style=\"text-align: right;\">\n",
       "      <th></th>\n",
       "      <th>age</th>\n",
       "      <th>job</th>\n",
       "      <th>marital</th>\n",
       "      <th>education</th>\n",
       "      <th>default</th>\n",
       "      <th>balance</th>\n",
       "      <th>housing</th>\n",
       "      <th>loan</th>\n",
       "      <th>contact</th>\n",
       "      <th>day_of_week</th>\n",
       "      <th>month</th>\n",
       "      <th>duration</th>\n",
       "      <th>campaign</th>\n",
       "      <th>pdays</th>\n",
       "      <th>previous</th>\n",
       "      <th>poutcome</th>\n",
       "      <th>y</th>\n",
       "    </tr>\n",
       "  </thead>\n",
       "  <tbody>\n",
       "    <tr>\n",
       "      <th>0</th>\n",
       "      <td>58</td>\n",
       "      <td>management</td>\n",
       "      <td>married</td>\n",
       "      <td>tertiary</td>\n",
       "      <td>no</td>\n",
       "      <td>2143</td>\n",
       "      <td>yes</td>\n",
       "      <td>no</td>\n",
       "      <td>NaN</td>\n",
       "      <td>5</td>\n",
       "      <td>may</td>\n",
       "      <td>261</td>\n",
       "      <td>1</td>\n",
       "      <td>-1</td>\n",
       "      <td>0</td>\n",
       "      <td>NaN</td>\n",
       "      <td>no</td>\n",
       "    </tr>\n",
       "    <tr>\n",
       "      <th>1</th>\n",
       "      <td>44</td>\n",
       "      <td>technician</td>\n",
       "      <td>single</td>\n",
       "      <td>secondary</td>\n",
       "      <td>no</td>\n",
       "      <td>29</td>\n",
       "      <td>yes</td>\n",
       "      <td>no</td>\n",
       "      <td>NaN</td>\n",
       "      <td>5</td>\n",
       "      <td>may</td>\n",
       "      <td>151</td>\n",
       "      <td>1</td>\n",
       "      <td>-1</td>\n",
       "      <td>0</td>\n",
       "      <td>NaN</td>\n",
       "      <td>no</td>\n",
       "    </tr>\n",
       "    <tr>\n",
       "      <th>2</th>\n",
       "      <td>33</td>\n",
       "      <td>entrepreneur</td>\n",
       "      <td>married</td>\n",
       "      <td>secondary</td>\n",
       "      <td>no</td>\n",
       "      <td>2</td>\n",
       "      <td>yes</td>\n",
       "      <td>yes</td>\n",
       "      <td>NaN</td>\n",
       "      <td>5</td>\n",
       "      <td>may</td>\n",
       "      <td>76</td>\n",
       "      <td>1</td>\n",
       "      <td>-1</td>\n",
       "      <td>0</td>\n",
       "      <td>NaN</td>\n",
       "      <td>no</td>\n",
       "    </tr>\n",
       "    <tr>\n",
       "      <th>3</th>\n",
       "      <td>47</td>\n",
       "      <td>blue-collar</td>\n",
       "      <td>married</td>\n",
       "      <td>NaN</td>\n",
       "      <td>no</td>\n",
       "      <td>1506</td>\n",
       "      <td>yes</td>\n",
       "      <td>no</td>\n",
       "      <td>NaN</td>\n",
       "      <td>5</td>\n",
       "      <td>may</td>\n",
       "      <td>92</td>\n",
       "      <td>1</td>\n",
       "      <td>-1</td>\n",
       "      <td>0</td>\n",
       "      <td>NaN</td>\n",
       "      <td>no</td>\n",
       "    </tr>\n",
       "    <tr>\n",
       "      <th>4</th>\n",
       "      <td>33</td>\n",
       "      <td>NaN</td>\n",
       "      <td>single</td>\n",
       "      <td>NaN</td>\n",
       "      <td>no</td>\n",
       "      <td>1</td>\n",
       "      <td>no</td>\n",
       "      <td>no</td>\n",
       "      <td>NaN</td>\n",
       "      <td>5</td>\n",
       "      <td>may</td>\n",
       "      <td>198</td>\n",
       "      <td>1</td>\n",
       "      <td>-1</td>\n",
       "      <td>0</td>\n",
       "      <td>NaN</td>\n",
       "      <td>no</td>\n",
       "    </tr>\n",
       "  </tbody>\n",
       "</table>\n",
       "</div>"
      ],
      "text/plain": [
       "   age           job  marital  education default  balance housing loan  \\\n",
       "0   58    management  married   tertiary      no     2143     yes   no   \n",
       "1   44    technician   single  secondary      no       29     yes   no   \n",
       "2   33  entrepreneur  married  secondary      no        2     yes  yes   \n",
       "3   47   blue-collar  married        NaN      no     1506     yes   no   \n",
       "4   33           NaN   single        NaN      no        1      no   no   \n",
       "\n",
       "  contact  day_of_week month  duration  campaign  pdays  previous poutcome   y  \n",
       "0     NaN            5   may       261         1     -1         0      NaN  no  \n",
       "1     NaN            5   may       151         1     -1         0      NaN  no  \n",
       "2     NaN            5   may        76         1     -1         0      NaN  no  \n",
       "3     NaN            5   may        92         1     -1         0      NaN  no  \n",
       "4     NaN            5   may       198         1     -1         0      NaN  no  "
      ]
     },
     "execution_count": 5,
     "metadata": {},
     "output_type": "execute_result"
    }
   ],
   "source": [
    "df.head()"
   ]
  },
  {
   "cell_type": "code",
   "execution_count": 4,
   "id": "7ff51cc4-3b66-427d-958c-4d9934427268",
   "metadata": {},
   "outputs": [
    {
     "data": {
      "text/plain": [
       "(45211, 17)"
      ]
     },
     "execution_count": 4,
     "metadata": {},
     "output_type": "execute_result"
    }
   ],
   "source": [
    "df.shape"
   ]
  },
  {
   "cell_type": "code",
   "execution_count": 20,
   "id": "60cba10e-30e1-4d3f-b087-ce5ae6b8fd00",
   "metadata": {},
   "outputs": [
    {
     "name": "stdout",
     "output_type": "stream",
     "text": [
      "Raw data has 45211 rows, and   17 columns\n"
     ]
    }
   ],
   "source": [
    "print(f\"Raw data has {df.shape[0]} rows, and   {df.shape[1]} columns\")"
   ]
  },
  {
   "cell_type": "code",
   "execution_count": 22,
   "id": "8f409176-9cce-4a8b-b3bd-9c23a1b70d27",
   "metadata": {},
   "outputs": [
    {
     "data": {
      "text/plain": [
       "array([nan, 'failure', 'other', 'success'], dtype=object)"
      ]
     },
     "execution_count": 22,
     "metadata": {},
     "output_type": "execute_result"
    }
   ],
   "source": [
    "df['poutcome'].unique()"
   ]
  },
  {
   "cell_type": "code",
   "execution_count": 7,
   "id": "a513766d-a6cb-4af4-8eb4-0c2b6c7a4368",
   "metadata": {},
   "outputs": [],
   "source": [
    "from ucimlrepo import fetch_ucirepo \n",
    "  \n"
   ]
  },
  {
   "cell_type": "code",
   "execution_count": 8,
   "id": "1cd271d5-ee2a-4483-a868-0cf5a247df94",
   "metadata": {},
   "outputs": [
    {
     "name": "stdout",
     "output_type": "stream",
     "text": [
      "{'uci_id': 222, 'name': 'Bank Marketing', 'repository_url': 'https://archive.ics.uci.edu/dataset/222/bank+marketing', 'data_url': 'https://archive.ics.uci.edu/static/public/222/data.csv', 'abstract': 'The data is related with direct marketing campaigns (phone calls) of a Portuguese banking institution. The classification goal is to predict if the client will subscribe a term deposit (variable y).', 'area': 'Business', 'tasks': ['Classification'], 'characteristics': ['Multivariate'], 'num_instances': 45211, 'num_features': 16, 'feature_types': ['Categorical', 'Integer'], 'demographics': ['Age', 'Occupation', 'Marital Status', 'Education Level'], 'target_col': ['y'], 'index_col': None, 'has_missing_values': 'yes', 'missing_values_symbol': 'NaN', 'year_of_dataset_creation': 2014, 'last_updated': 'Fri Aug 18 2023', 'dataset_doi': '10.24432/C5K306', 'creators': ['S. Moro', 'P. Rita', 'P. Cortez'], 'intro_paper': {'title': 'A data-driven approach to predict the success of bank telemarketing', 'authors': 'Sérgio Moro, P. Cortez, P. Rita', 'published_in': 'Decision Support Systems', 'year': 2014, 'url': 'https://www.semanticscholar.org/paper/cab86052882d126d43f72108c6cb41b295cc8a9e', 'doi': '10.1016/j.dss.2014.03.001'}, 'additional_info': {'summary': \"The data is related with direct marketing campaigns of a Portuguese banking institution. The marketing campaigns were based on phone calls. Often, more than one contact to the same client was required, in order to access if the product (bank term deposit) would be ('yes') or not ('no') subscribed. \\n\\nThere are four datasets: \\n1) bank-additional-full.csv with all examples (41188) and 20 inputs, ordered by date (from May 2008 to November 2010), very close to the data analyzed in [Moro et al., 2014]\\n2) bank-additional.csv with 10% of the examples (4119), randomly selected from 1), and 20 inputs.\\n3) bank-full.csv with all examples and 17 inputs, ordered by date (older version of this dataset with less inputs). \\n4) bank.csv with 10% of the examples and 17 inputs, randomly selected from 3 (older version of this dataset with less inputs). \\nThe smallest datasets are provided to test more computationally demanding machine learning algorithms (e.g., SVM). \\n\\nThe classification goal is to predict if the client will subscribe (yes/no) a term deposit (variable y).\", 'purpose': None, 'funded_by': None, 'instances_represent': None, 'recommended_data_splits': None, 'sensitive_data': None, 'preprocessing_description': None, 'variable_info': 'Input variables:\\n   # bank client data:\\n   1 - age (numeric)\\n   2 - job : type of job (categorical: \"admin.\",\"unknown\",\"unemployed\",\"management\",\"housemaid\",\"entrepreneur\",\"student\",\\n                                       \"blue-collar\",\"self-employed\",\"retired\",\"technician\",\"services\") \\n   3 - marital : marital status (categorical: \"married\",\"divorced\",\"single\"; note: \"divorced\" means divorced or widowed)\\n   4 - education (categorical: \"unknown\",\"secondary\",\"primary\",\"tertiary\")\\n   5 - default: has credit in default? (binary: \"yes\",\"no\")\\n   6 - balance: average yearly balance, in euros (numeric) \\n   7 - housing: has housing loan? (binary: \"yes\",\"no\")\\n   8 - loan: has personal loan? (binary: \"yes\",\"no\")\\n   # related with the last contact of the current campaign:\\n   9 - contact: contact communication type (categorical: \"unknown\",\"telephone\",\"cellular\") \\n  10 - day: last contact day of the month (numeric)\\n  11 - month: last contact month of year (categorical: \"jan\", \"feb\", \"mar\", ..., \"nov\", \"dec\")\\n  12 - duration: last contact duration, in seconds (numeric)\\n   # other attributes:\\n  13 - campaign: number of contacts performed during this campaign and for this client (numeric, includes last contact)\\n  14 - pdays: number of days that passed by after the client was last contacted from a previous campaign (numeric, -1 means client was not previously contacted)\\n  15 - previous: number of contacts performed before this campaign and for this client (numeric)\\n  16 - poutcome: outcome of the previous marketing campaign (categorical: \"unknown\",\"other\",\"failure\",\"success\")\\n\\n  Output variable (desired target):\\n  17 - y - has the client subscribed a term deposit? (binary: \"yes\",\"no\")\\n', 'citation': None}}\n"
     ]
    }
   ],
   "source": [
    "# fetch dataset \n",
    "bank_marketing = fetch_ucirepo(id=222) \n",
    "  \n",
    "# data (as pandas dataframes) \n",
    "X = bank_marketing.data.features \n",
    "y = bank_marketing.data.targets \n",
    "  \n",
    "# metadata \n",
    "print(bank_marketing.metadata) "
   ]
  },
  {
   "cell_type": "code",
   "execution_count": 9,
   "id": "28b40e0a-2642-4d09-a8f9-ea4f17ae9ab5",
   "metadata": {},
   "outputs": [
    {
     "name": "stdout",
     "output_type": "stream",
     "text": [
      "           name     role         type      demographic  \\\n",
      "0           age  Feature      Integer              Age   \n",
      "1           job  Feature  Categorical       Occupation   \n",
      "2       marital  Feature  Categorical   Marital Status   \n",
      "3     education  Feature  Categorical  Education Level   \n",
      "4       default  Feature       Binary             None   \n",
      "5       balance  Feature      Integer             None   \n",
      "6       housing  Feature       Binary             None   \n",
      "7          loan  Feature       Binary             None   \n",
      "8       contact  Feature  Categorical             None   \n",
      "9   day_of_week  Feature         Date             None   \n",
      "10        month  Feature         Date             None   \n",
      "11     duration  Feature      Integer             None   \n",
      "12     campaign  Feature      Integer             None   \n",
      "13        pdays  Feature      Integer             None   \n",
      "14     previous  Feature      Integer             None   \n",
      "15     poutcome  Feature  Categorical             None   \n",
      "16            y   Target       Binary             None   \n",
      "\n",
      "                                          description  units missing_values  \n",
      "0                                                None   None             no  \n",
      "1   type of job (categorical: 'admin.','blue-colla...   None             no  \n",
      "2   marital status (categorical: 'divorced','marri...   None             no  \n",
      "3   (categorical: 'basic.4y','basic.6y','basic.9y'...   None             no  \n",
      "4                              has credit in default?   None             no  \n",
      "5                              average yearly balance  euros             no  \n",
      "6                                   has housing loan?   None             no  \n",
      "7                                  has personal loan?   None             no  \n",
      "8   contact communication type (categorical: 'cell...   None            yes  \n",
      "9                        last contact day of the week   None             no  \n",
      "10  last contact month of year (categorical: 'jan'...   None             no  \n",
      "11   last contact duration, in seconds (numeric). ...   None             no  \n",
      "12  number of contacts performed during this campa...   None             no  \n",
      "13  number of days that passed by after the client...   None            yes  \n",
      "14  number of contacts performed before this campa...   None             no  \n",
      "15  outcome of the previous marketing campaign (ca...   None            yes  \n",
      "16          has the client subscribed a term deposit?   None             no  \n"
     ]
    }
   ],
   "source": [
    "# variable information \n",
    "print(bank_marketing.variables) "
   ]
  },
  {
   "cell_type": "code",
   "execution_count": 10,
   "id": "9b1b72fb-ca7a-49ed-92dc-aa2a783994af",
   "metadata": {},
   "outputs": [
    {
     "data": {
      "text/plain": [
       "array([nan, 'cellular', 'telephone'], dtype=object)"
      ]
     },
     "execution_count": 10,
     "metadata": {},
     "output_type": "execute_result"
    }
   ],
   "source": [
    "df['contact'].unique()"
   ]
  },
  {
   "cell_type": "code",
   "execution_count": 11,
   "id": "d0f00605-1cac-4406-871e-50580c3652c6",
   "metadata": {},
   "outputs": [
    {
     "data": {
      "text/plain": [
       "array([ -1, 151, 166,  91,  86, 143, 147,  89, 140, 176, 101, 174, 170,\n",
       "       167, 195, 165, 129, 188, 196, 172, 118, 119, 104, 171, 117, 164,\n",
       "       132, 131, 123, 159, 186, 111, 115, 116, 173, 178, 110, 152,  96,\n",
       "       103, 150, 175, 193, 181, 185, 154, 145, 138, 126, 180, 109, 158,\n",
       "       168,  97, 182, 127, 130, 194, 125, 105, 102,  26, 179,  28, 183,\n",
       "       155, 112, 120, 137, 124, 187, 190, 113, 162, 134, 169, 189,   8,\n",
       "       144, 191, 184, 177,   5,  99, 133,  93,  92,  10, 100, 156, 198,\n",
       "       106, 153, 146, 128,   7, 121, 160, 107,  90,  27, 197, 136, 139,\n",
       "       122, 157, 149, 135,  30, 114,  98, 192, 163,  34,  95, 141,  31,\n",
       "       199,  94, 108,  29, 268, 247, 253, 226, 244, 239, 245, 204, 231,\n",
       "       238, 258, 230, 254, 265,  71, 223, 246, 250, 266, 240, 205, 261,\n",
       "       259, 241, 260, 234, 251, 225, 161, 237, 262, 248, 255, 220, 227,\n",
       "       206, 224, 249, 235, 228, 263,   2, 270, 232, 252, 207, 200, 269,\n",
       "       233, 256, 273, 272, 242, 264, 208, 214, 222, 271, 203, 221, 202,\n",
       "       216, 201, 257, 229, 210, 217,  75, 213,  73,  76, 267, 211, 215,\n",
       "        77, 236,  82,   6, 209, 274,   1, 243, 212, 275,  80, 276,   9,\n",
       "       279,  12, 280,  88, 277,  85,  84, 219,  24,  21, 282,  41, 294,\n",
       "        49, 329, 307, 303, 331, 308, 300,  64, 314, 287, 330, 332, 302,\n",
       "       323, 318, 333,  60, 326, 335, 313, 312, 305, 325, 327, 336, 309,\n",
       "       328, 322,  39, 316, 292, 295, 310, 306, 320, 317, 289,  57, 321,\n",
       "       142, 339, 301, 315, 337, 334, 340, 319,  17,  74, 148, 341, 299,\n",
       "       344, 342, 324, 345, 346, 304, 281, 343, 338,  14, 347,  15, 291,\n",
       "       348, 349, 285, 350, 284,  25, 283, 278,  81,   4,  87,  83,  79,\n",
       "        70,  13, 293,  37,  78,  63,  22, 296, 355,  66,  19,  35, 360,\n",
       "       357, 354, 351, 362, 358, 365, 298, 286, 364, 363,  47, 361, 288,\n",
       "       366, 356, 352, 359, 297, 367, 353, 368,  42, 290,  67, 371, 370,\n",
       "       369,  50,  36, 373, 374, 372, 311, 375, 378,  59, 379,  40,  18,\n",
       "        43,  20,  69,  38, 385,  56,  55,  44, 391,  72, 390,  32,  62,\n",
       "       399, 393,  65, 377, 395, 388, 389, 386,  61, 412, 405, 434, 394,\n",
       "       382, 459, 440, 397, 383,  68, 461, 462, 463, 422,  51, 457, 430,\n",
       "       442, 403, 454, 428, 392, 410, 401, 474, 475, 477, 478,  54, 476,\n",
       "       380, 479,  45,  46, 495,  58,  48, 518,  52, 515, 520, 511, 536,\n",
       "       387, 218,  33, 544, 435, 436, 555, 433, 446, 558, 469, 616, 561,\n",
       "       553, 384, 592, 467, 585, 480, 421, 667, 626, 426, 595, 381, 376,\n",
       "       648, 521, 452, 449, 633, 398,  53, 460, 670, 551, 414, 557, 687,\n",
       "       404, 651, 686, 425, 504, 578, 674, 416, 586, 411, 756, 450, 745,\n",
       "       514, 417, 424, 776, 396, 683, 529, 439, 415, 456, 407, 458, 532,\n",
       "       481, 791, 701, 531, 792, 413, 445, 535, 784, 419, 455, 491, 431,\n",
       "       542, 470, 472, 717, 437,   3, 782, 728, 828, 524, 562, 761, 492,\n",
       "       775, 579, 493, 464, 760, 466, 465, 656, 831, 490, 432, 655, 427,\n",
       "       749, 838, 769, 587, 778, 854, 779, 850, 771, 594, 842, 589, 603,\n",
       "       484, 489, 486, 409, 444, 680, 808, 485, 503, 690, 772, 774, 526,\n",
       "       420, 528, 500, 826, 804, 508, 547, 805, 541, 543, 871, 550, 530],\n",
       "      dtype=int64)"
      ]
     },
     "execution_count": 11,
     "metadata": {},
     "output_type": "execute_result"
    }
   ],
   "source": [
    "df['pdays'].unique()"
   ]
  },
  {
   "cell_type": "code",
   "execution_count": 13,
   "id": "3e543e62-46d7-43f0-8dd4-c1e68c8482fe",
   "metadata": {},
   "outputs": [
    {
     "data": {
      "text/plain": [
       "0        False\n",
       "1        False\n",
       "2        False\n",
       "3        False\n",
       "4        False\n",
       "         ...  \n",
       "45206    False\n",
       "45207    False\n",
       "45208    False\n",
       "45209    False\n",
       "45210    False\n",
       "Length: 45211, dtype: bool"
      ]
     },
     "execution_count": 13,
     "metadata": {},
     "output_type": "execute_result"
    }
   ],
   "source": [
    "#to check if all the columns in a row is null.\n",
    "df[['age','job','marital','education','default','balance','housing','loan','contact','day_of_week','month','duration','campaign','pdays','previous','poutcome']].isnull().apply(lambda x: all(x), axis=1) "
   ]
  },
  {
   "cell_type": "code",
   "execution_count": 15,
   "id": "259e0430-5d2d-47bf-9ac6-dea05e736dc8",
   "metadata": {},
   "outputs": [
    {
     "data": {
      "text/plain": [
       "['job', 'education', 'contact', 'poutcome']"
      ]
     },
     "execution_count": 15,
     "metadata": {},
     "output_type": "execute_result"
    }
   ],
   "source": [
    "df.columns[df.isna().any()].tolist() #to list the columns with atleast 1 null value"
   ]
  },
  {
   "cell_type": "code",
   "execution_count": 16,
   "id": "323ab18f-1be0-469d-91e5-961783947269",
   "metadata": {},
   "outputs": [
    {
     "data": {
      "text/plain": [
       "array(['management', 'technician', 'entrepreneur', 'blue-collar', nan,\n",
       "       'retired', 'admin.', 'services', 'self-employed', 'unemployed',\n",
       "       'housemaid', 'student'], dtype=object)"
      ]
     },
     "execution_count": 16,
     "metadata": {},
     "output_type": "execute_result"
    }
   ],
   "source": [
    "df['job'].unique()"
   ]
  },
  {
   "cell_type": "code",
   "execution_count": 17,
   "id": "fc415e6f-cd12-488e-8059-7d6aaeb0d8d9",
   "metadata": {},
   "outputs": [
    {
     "data": {
      "text/plain": [
       "array(['tertiary', 'secondary', nan, 'primary'], dtype=object)"
      ]
     },
     "execution_count": 17,
     "metadata": {},
     "output_type": "execute_result"
    }
   ],
   "source": [
    "df['education'].unique()"
   ]
  },
  {
   "cell_type": "code",
   "execution_count": 18,
   "id": "1aa6ce8e-7a5d-46ce-b28b-3add7c5d5b1c",
   "metadata": {},
   "outputs": [
    {
     "data": {
      "text/plain": [
       "array([nan, 'cellular', 'telephone'], dtype=object)"
      ]
     },
     "execution_count": 18,
     "metadata": {},
     "output_type": "execute_result"
    }
   ],
   "source": [
    "df['contact'].unique()"
   ]
  },
  {
   "cell_type": "code",
   "execution_count": 19,
   "id": "66da19ea-b50e-4249-b9d6-d88b0e3ea386",
   "metadata": {},
   "outputs": [
    {
     "data": {
      "text/plain": [
       "array([nan, 'failure', 'other', 'success'], dtype=object)"
      ]
     },
     "execution_count": 19,
     "metadata": {},
     "output_type": "execute_result"
    }
   ],
   "source": [
    "df['poutcome'].unique()"
   ]
  },
  {
   "cell_type": "code",
   "execution_count": 21,
   "id": "0f49c0ce-dda1-4567-8bb0-07ac6ded1e0a",
   "metadata": {},
   "outputs": [
    {
     "name": "stdout",
     "output_type": "stream",
     "text": [
      "age                0\n",
      "job              288\n",
      "marital            0\n",
      "education       1857\n",
      "default            0\n",
      "balance            0\n",
      "housing            0\n",
      "loan               0\n",
      "contact        13020\n",
      "day_of_week        0\n",
      "month              0\n",
      "duration           0\n",
      "campaign           0\n",
      "pdays              0\n",
      "previous           0\n",
      "poutcome       36959\n",
      "y                  0\n",
      "dtype: int64\n"
     ]
    }
   ],
   "source": [
    "#Number of Missing values in each column\n",
    "print(df.isna().sum())"
   ]
  },
  {
   "cell_type": "markdown",
   "id": "a1fe43fa-f381-4ed7-9ccc-f3fd21d7d47f",
   "metadata": {},
   "source": [
    "<h3>Correlation Matrix:</h3>"
   ]
  },
  {
   "cell_type": "code",
   "execution_count": 22,
   "id": "8e13df8d-c51e-4e84-8e4f-4459270fcef5",
   "metadata": {},
   "outputs": [
    {
     "ename": "ValueError",
     "evalue": "could not convert string to float: 'management'",
     "output_type": "error",
     "traceback": [
      "\u001b[1;31m---------------------------------------------------------------------------\u001b[0m",
      "\u001b[1;31mValueError\u001b[0m                                Traceback (most recent call last)",
      "Cell \u001b[1;32mIn[22], line 1\u001b[0m\n\u001b[1;32m----> 1\u001b[0m corr \u001b[38;5;241m=\u001b[39m df\u001b[38;5;241m.\u001b[39mcorr()\n\u001b[0;32m      2\u001b[0m plt\u001b[38;5;241m.\u001b[39msubplots(figsize\u001b[38;5;241m=\u001b[39m(\u001b[38;5;241m15\u001b[39m,\u001b[38;5;241m10\u001b[39m))\n\u001b[0;32m      3\u001b[0m sns\u001b[38;5;241m.\u001b[39mheatmap(corr, xticklabels\u001b[38;5;241m=\u001b[39mcorr\u001b[38;5;241m.\u001b[39mcolumns,yticklabels\u001b[38;5;241m=\u001b[39mcorr\u001b[38;5;241m.\u001b[39mcolumns, annot\u001b[38;5;241m=\u001b[39m\u001b[38;5;28;01mTrue\u001b[39;00m, )\n",
      "File \u001b[1;32m~\\anaconda3\\Lib\\site-packages\\pandas\\core\\frame.py:10704\u001b[0m, in \u001b[0;36mDataFrame.corr\u001b[1;34m(self, method, min_periods, numeric_only)\u001b[0m\n\u001b[0;32m  10702\u001b[0m cols \u001b[38;5;241m=\u001b[39m data\u001b[38;5;241m.\u001b[39mcolumns\n\u001b[0;32m  10703\u001b[0m idx \u001b[38;5;241m=\u001b[39m cols\u001b[38;5;241m.\u001b[39mcopy()\n\u001b[1;32m> 10704\u001b[0m mat \u001b[38;5;241m=\u001b[39m data\u001b[38;5;241m.\u001b[39mto_numpy(dtype\u001b[38;5;241m=\u001b[39m\u001b[38;5;28mfloat\u001b[39m, na_value\u001b[38;5;241m=\u001b[39mnp\u001b[38;5;241m.\u001b[39mnan, copy\u001b[38;5;241m=\u001b[39m\u001b[38;5;28;01mFalse\u001b[39;00m)\n\u001b[0;32m  10706\u001b[0m \u001b[38;5;28;01mif\u001b[39;00m method \u001b[38;5;241m==\u001b[39m \u001b[38;5;124m\"\u001b[39m\u001b[38;5;124mpearson\u001b[39m\u001b[38;5;124m\"\u001b[39m:\n\u001b[0;32m  10707\u001b[0m     correl \u001b[38;5;241m=\u001b[39m libalgos\u001b[38;5;241m.\u001b[39mnancorr(mat, minp\u001b[38;5;241m=\u001b[39mmin_periods)\n",
      "File \u001b[1;32m~\\anaconda3\\Lib\\site-packages\\pandas\\core\\frame.py:1889\u001b[0m, in \u001b[0;36mDataFrame.to_numpy\u001b[1;34m(self, dtype, copy, na_value)\u001b[0m\n\u001b[0;32m   1887\u001b[0m \u001b[38;5;28;01mif\u001b[39;00m dtype \u001b[38;5;129;01mis\u001b[39;00m \u001b[38;5;129;01mnot\u001b[39;00m \u001b[38;5;28;01mNone\u001b[39;00m:\n\u001b[0;32m   1888\u001b[0m     dtype \u001b[38;5;241m=\u001b[39m np\u001b[38;5;241m.\u001b[39mdtype(dtype)\n\u001b[1;32m-> 1889\u001b[0m result \u001b[38;5;241m=\u001b[39m \u001b[38;5;28mself\u001b[39m\u001b[38;5;241m.\u001b[39m_mgr\u001b[38;5;241m.\u001b[39mas_array(dtype\u001b[38;5;241m=\u001b[39mdtype, copy\u001b[38;5;241m=\u001b[39mcopy, na_value\u001b[38;5;241m=\u001b[39mna_value)\n\u001b[0;32m   1890\u001b[0m \u001b[38;5;28;01mif\u001b[39;00m result\u001b[38;5;241m.\u001b[39mdtype \u001b[38;5;129;01mis\u001b[39;00m \u001b[38;5;129;01mnot\u001b[39;00m dtype:\n\u001b[0;32m   1891\u001b[0m     result \u001b[38;5;241m=\u001b[39m np\u001b[38;5;241m.\u001b[39marray(result, dtype\u001b[38;5;241m=\u001b[39mdtype, copy\u001b[38;5;241m=\u001b[39m\u001b[38;5;28;01mFalse\u001b[39;00m)\n",
      "File \u001b[1;32m~\\anaconda3\\Lib\\site-packages\\pandas\\core\\internals\\managers.py:1656\u001b[0m, in \u001b[0;36mBlockManager.as_array\u001b[1;34m(self, dtype, copy, na_value)\u001b[0m\n\u001b[0;32m   1654\u001b[0m         arr\u001b[38;5;241m.\u001b[39mflags\u001b[38;5;241m.\u001b[39mwriteable \u001b[38;5;241m=\u001b[39m \u001b[38;5;28;01mFalse\u001b[39;00m\n\u001b[0;32m   1655\u001b[0m \u001b[38;5;28;01melse\u001b[39;00m:\n\u001b[1;32m-> 1656\u001b[0m     arr \u001b[38;5;241m=\u001b[39m \u001b[38;5;28mself\u001b[39m\u001b[38;5;241m.\u001b[39m_interleave(dtype\u001b[38;5;241m=\u001b[39mdtype, na_value\u001b[38;5;241m=\u001b[39mna_value)\n\u001b[0;32m   1657\u001b[0m     \u001b[38;5;66;03m# The underlying data was copied within _interleave, so no need\u001b[39;00m\n\u001b[0;32m   1658\u001b[0m     \u001b[38;5;66;03m# to further copy if copy=True or setting na_value\u001b[39;00m\n\u001b[0;32m   1660\u001b[0m \u001b[38;5;28;01mif\u001b[39;00m na_value \u001b[38;5;129;01mis\u001b[39;00m lib\u001b[38;5;241m.\u001b[39mno_default:\n",
      "File \u001b[1;32m~\\anaconda3\\Lib\\site-packages\\pandas\\core\\internals\\managers.py:1715\u001b[0m, in \u001b[0;36mBlockManager._interleave\u001b[1;34m(self, dtype, na_value)\u001b[0m\n\u001b[0;32m   1713\u001b[0m     \u001b[38;5;28;01melse\u001b[39;00m:\n\u001b[0;32m   1714\u001b[0m         arr \u001b[38;5;241m=\u001b[39m blk\u001b[38;5;241m.\u001b[39mget_values(dtype)\n\u001b[1;32m-> 1715\u001b[0m     result[rl\u001b[38;5;241m.\u001b[39mindexer] \u001b[38;5;241m=\u001b[39m arr\n\u001b[0;32m   1716\u001b[0m     itemmask[rl\u001b[38;5;241m.\u001b[39mindexer] \u001b[38;5;241m=\u001b[39m \u001b[38;5;241m1\u001b[39m\n\u001b[0;32m   1718\u001b[0m \u001b[38;5;28;01mif\u001b[39;00m \u001b[38;5;129;01mnot\u001b[39;00m itemmask\u001b[38;5;241m.\u001b[39mall():\n",
      "\u001b[1;31mValueError\u001b[0m: could not convert string to float: 'management'"
     ]
    }
   ],
   "source": [
    "corr = df.corr()\n",
    "plt.subplots(figsize=(15,10))\n",
    "sns.heatmap(corr, xticklabels=corr.columns,yticklabels=corr.columns, annot=True, )"
   ]
  },
  {
   "cell_type": "markdown",
   "id": "db70b53b-d333-463f-acb1-01849278623d",
   "metadata": {},
   "source": [
    "We can see here, there is a problem with the data. Let's check the datatypes of the features first."
   ]
  },
  {
   "cell_type": "code",
   "execution_count": 23,
   "id": "92d0255d-3e4c-483a-aaa3-7a5993b6bd20",
   "metadata": {},
   "outputs": [
    {
     "data": {
      "text/plain": [
       "age             int64\n",
       "job            object\n",
       "marital        object\n",
       "education      object\n",
       "default        object\n",
       "balance         int64\n",
       "housing        object\n",
       "loan           object\n",
       "contact        object\n",
       "day_of_week     int64\n",
       "month          object\n",
       "duration        int64\n",
       "campaign        int64\n",
       "pdays           int64\n",
       "previous        int64\n",
       "poutcome       object\n",
       "y              object\n",
       "dtype: object"
      ]
     },
     "execution_count": 23,
     "metadata": {},
     "output_type": "execute_result"
    }
   ],
   "source": [
    "df.dtypes"
   ]
  },
  {
   "cell_type": "markdown",
   "id": "db2788f2-9f28-4829-89af-81791517d560",
   "metadata": {},
   "source": [
    "<H3>Outliers</H3>\n",
    "<br>\n",
    "We will generate some summary statistics for the numeric features now as this is the quickest way to help us determine if our dataset has any outliers.\n",
    "\n",
    "We will first separate the numeric and categorical features."
   ]
  },
  {
   "cell_type": "code",
   "execution_count": 37,
   "id": "c4d49d48-ca8d-4b6c-90ea-485528e9d7f8",
   "metadata": {},
   "outputs": [],
   "source": [
    "train_num = df.select_dtypes(include=[np.number]) #select numeric columns into a new dataframe\n",
    "\n",
    "train_cat = df.select_dtypes(include=['object'])  #store categorical features into another dataframe"
   ]
  },
  {
   "cell_type": "code",
   "execution_count": 40,
   "id": "f33096ae-199e-42d3-9389-a6126e6e86bd",
   "metadata": {},
   "outputs": [
    {
     "data": {
      "text/plain": [
       "Index(['age', 'balance', 'day_of_week', 'duration', 'campaign', 'pdays',\n",
       "       'previous'],\n",
       "      dtype='object')"
      ]
     },
     "execution_count": 40,
     "metadata": {},
     "output_type": "execute_result"
    }
   ],
   "source": [
    "train_num.columns"
   ]
  },
  {
   "cell_type": "code",
   "execution_count": 41,
   "id": "b9068d19-e78c-413b-8fb3-58dc9d91439e",
   "metadata": {},
   "outputs": [
    {
     "data": {
      "text/plain": [
       "Index(['job', 'marital', 'education', 'default', 'housing', 'loan', 'contact',\n",
       "       'month', 'poutcome', 'y'],\n",
       "      dtype='object')"
      ]
     },
     "execution_count": 41,
     "metadata": {},
     "output_type": "execute_result"
    }
   ],
   "source": [
    "train_cat.columns"
   ]
  },
  {
   "cell_type": "code",
   "execution_count": 42,
   "id": "1dcee237-fb50-411a-9680-4bfa563f5655",
   "metadata": {},
   "outputs": [
    {
     "data": {
      "text/html": [
       "<div>\n",
       "<style scoped>\n",
       "    .dataframe tbody tr th:only-of-type {\n",
       "        vertical-align: middle;\n",
       "    }\n",
       "\n",
       "    .dataframe tbody tr th {\n",
       "        vertical-align: top;\n",
       "    }\n",
       "\n",
       "    .dataframe thead th {\n",
       "        text-align: right;\n",
       "    }\n",
       "</style>\n",
       "<table border=\"1\" class=\"dataframe\">\n",
       "  <thead>\n",
       "    <tr style=\"text-align: right;\">\n",
       "      <th></th>\n",
       "      <th>age</th>\n",
       "      <th>balance</th>\n",
       "      <th>day_of_week</th>\n",
       "      <th>duration</th>\n",
       "      <th>campaign</th>\n",
       "      <th>pdays</th>\n",
       "      <th>previous</th>\n",
       "    </tr>\n",
       "  </thead>\n",
       "  <tbody>\n",
       "    <tr>\n",
       "      <th>0</th>\n",
       "      <td>58</td>\n",
       "      <td>2143</td>\n",
       "      <td>5</td>\n",
       "      <td>261</td>\n",
       "      <td>1</td>\n",
       "      <td>-1</td>\n",
       "      <td>0</td>\n",
       "    </tr>\n",
       "    <tr>\n",
       "      <th>1</th>\n",
       "      <td>44</td>\n",
       "      <td>29</td>\n",
       "      <td>5</td>\n",
       "      <td>151</td>\n",
       "      <td>1</td>\n",
       "      <td>-1</td>\n",
       "      <td>0</td>\n",
       "    </tr>\n",
       "    <tr>\n",
       "      <th>2</th>\n",
       "      <td>33</td>\n",
       "      <td>2</td>\n",
       "      <td>5</td>\n",
       "      <td>76</td>\n",
       "      <td>1</td>\n",
       "      <td>-1</td>\n",
       "      <td>0</td>\n",
       "    </tr>\n",
       "    <tr>\n",
       "      <th>3</th>\n",
       "      <td>47</td>\n",
       "      <td>1506</td>\n",
       "      <td>5</td>\n",
       "      <td>92</td>\n",
       "      <td>1</td>\n",
       "      <td>-1</td>\n",
       "      <td>0</td>\n",
       "    </tr>\n",
       "    <tr>\n",
       "      <th>4</th>\n",
       "      <td>33</td>\n",
       "      <td>1</td>\n",
       "      <td>5</td>\n",
       "      <td>198</td>\n",
       "      <td>1</td>\n",
       "      <td>-1</td>\n",
       "      <td>0</td>\n",
       "    </tr>\n",
       "  </tbody>\n",
       "</table>\n",
       "</div>"
      ],
      "text/plain": [
       "   age  balance  day_of_week  duration  campaign  pdays  previous\n",
       "0   58     2143            5       261         1     -1         0\n",
       "1   44       29            5       151         1     -1         0\n",
       "2   33        2            5        76         1     -1         0\n",
       "3   47     1506            5        92         1     -1         0\n",
       "4   33        1            5       198         1     -1         0"
      ]
     },
     "execution_count": 42,
     "metadata": {},
     "output_type": "execute_result"
    }
   ],
   "source": [
    "train_num.head()"
   ]
  },
  {
   "cell_type": "markdown",
   "id": "047c9e48-101c-4227-9063-2899c37a6e08",
   "metadata": {},
   "source": [
    "<h3>Check for missing values</h3>\n",
    "\n",
    "We are aware, the missing values are present in only 4 categorical features: job, education, contact, and poutcome, with number of missing values 288, 1857,  13020, 36959.\n",
    "\n",
    "We won't delete the entire columns with the missing values as at this point we are not sure of the importance of each feature in predicting the target yet.\n",
    "\n",
    "We can try an approach here by deleting an entire row with null values, for job as it has only 288 null values as compared to the actual size of the data 45211 records.\n",
    "\n",
    "<h4>Approach 1: Delete row with missing values for \"job\" feature </h4>me       36959"
   ]
  },
  {
   "cell_type": "code",
   "execution_count": 50,
   "id": "58591af3-792e-4ba8-b494-2e7bf05f8178",
   "metadata": {},
   "outputs": [
    {
     "data": {
      "text/html": [
       "<div>\n",
       "<style scoped>\n",
       "    .dataframe tbody tr th:only-of-type {\n",
       "        vertical-align: middle;\n",
       "    }\n",
       "\n",
       "    .dataframe tbody tr th {\n",
       "        vertical-align: top;\n",
       "    }\n",
       "\n",
       "    .dataframe thead th {\n",
       "        text-align: right;\n",
       "    }\n",
       "</style>\n",
       "<table border=\"1\" class=\"dataframe\">\n",
       "  <thead>\n",
       "    <tr style=\"text-align: right;\">\n",
       "      <th></th>\n",
       "      <th>job</th>\n",
       "      <th>marital</th>\n",
       "      <th>education</th>\n",
       "      <th>default</th>\n",
       "      <th>housing</th>\n",
       "      <th>loan</th>\n",
       "      <th>contact</th>\n",
       "      <th>month</th>\n",
       "      <th>poutcome</th>\n",
       "      <th>y</th>\n",
       "    </tr>\n",
       "  </thead>\n",
       "  <tbody>\n",
       "    <tr>\n",
       "      <th>0</th>\n",
       "      <td>management</td>\n",
       "      <td>married</td>\n",
       "      <td>tertiary</td>\n",
       "      <td>no</td>\n",
       "      <td>yes</td>\n",
       "      <td>no</td>\n",
       "      <td>NaN</td>\n",
       "      <td>may</td>\n",
       "      <td>NaN</td>\n",
       "      <td>no</td>\n",
       "    </tr>\n",
       "    <tr>\n",
       "      <th>1</th>\n",
       "      <td>technician</td>\n",
       "      <td>single</td>\n",
       "      <td>secondary</td>\n",
       "      <td>no</td>\n",
       "      <td>yes</td>\n",
       "      <td>no</td>\n",
       "      <td>NaN</td>\n",
       "      <td>may</td>\n",
       "      <td>NaN</td>\n",
       "      <td>no</td>\n",
       "    </tr>\n",
       "    <tr>\n",
       "      <th>2</th>\n",
       "      <td>entrepreneur</td>\n",
       "      <td>married</td>\n",
       "      <td>secondary</td>\n",
       "      <td>no</td>\n",
       "      <td>yes</td>\n",
       "      <td>yes</td>\n",
       "      <td>NaN</td>\n",
       "      <td>may</td>\n",
       "      <td>NaN</td>\n",
       "      <td>no</td>\n",
       "    </tr>\n",
       "    <tr>\n",
       "      <th>3</th>\n",
       "      <td>blue-collar</td>\n",
       "      <td>married</td>\n",
       "      <td>NaN</td>\n",
       "      <td>no</td>\n",
       "      <td>yes</td>\n",
       "      <td>no</td>\n",
       "      <td>NaN</td>\n",
       "      <td>may</td>\n",
       "      <td>NaN</td>\n",
       "      <td>no</td>\n",
       "    </tr>\n",
       "    <tr>\n",
       "      <th>4</th>\n",
       "      <td>NaN</td>\n",
       "      <td>single</td>\n",
       "      <td>NaN</td>\n",
       "      <td>no</td>\n",
       "      <td>no</td>\n",
       "      <td>no</td>\n",
       "      <td>NaN</td>\n",
       "      <td>may</td>\n",
       "      <td>NaN</td>\n",
       "      <td>no</td>\n",
       "    </tr>\n",
       "  </tbody>\n",
       "</table>\n",
       "</div>"
      ],
      "text/plain": [
       "            job  marital  education default housing loan contact month  \\\n",
       "0    management  married   tertiary      no     yes   no     NaN   may   \n",
       "1    technician   single  secondary      no     yes   no     NaN   may   \n",
       "2  entrepreneur  married  secondary      no     yes  yes     NaN   may   \n",
       "3   blue-collar  married        NaN      no     yes   no     NaN   may   \n",
       "4           NaN   single        NaN      no      no   no     NaN   may   \n",
       "\n",
       "  poutcome   y  \n",
       "0      NaN  no  \n",
       "1      NaN  no  \n",
       "2      NaN  no  \n",
       "3      NaN  no  \n",
       "4      NaN  no  "
      ]
     },
     "execution_count": 50,
     "metadata": {},
     "output_type": "execute_result"
    }
   ],
   "source": [
    "df_del_rows_traincat = train_cat.copy()\n",
    "df_del_rows_traincat.head()"
   ]
  },
  {
   "cell_type": "code",
   "execution_count": 60,
   "id": "595989a5-f0c6-4b23-989a-b5d66914ddd5",
   "metadata": {},
   "outputs": [
    {
     "data": {
      "text/html": [
       "<div>\n",
       "<style scoped>\n",
       "    .dataframe tbody tr th:only-of-type {\n",
       "        vertical-align: middle;\n",
       "    }\n",
       "\n",
       "    .dataframe tbody tr th {\n",
       "        vertical-align: top;\n",
       "    }\n",
       "\n",
       "    .dataframe thead th {\n",
       "        text-align: right;\n",
       "    }\n",
       "</style>\n",
       "<table border=\"1\" class=\"dataframe\">\n",
       "  <thead>\n",
       "    <tr style=\"text-align: right;\">\n",
       "      <th></th>\n",
       "      <th>job</th>\n",
       "      <th>marital</th>\n",
       "      <th>education</th>\n",
       "      <th>default</th>\n",
       "      <th>housing</th>\n",
       "      <th>loan</th>\n",
       "      <th>contact</th>\n",
       "      <th>month</th>\n",
       "      <th>poutcome</th>\n",
       "      <th>y</th>\n",
       "    </tr>\n",
       "  </thead>\n",
       "  <tbody>\n",
       "    <tr>\n",
       "      <th>0</th>\n",
       "      <td>management</td>\n",
       "      <td>married</td>\n",
       "      <td>tertiary</td>\n",
       "      <td>no</td>\n",
       "      <td>yes</td>\n",
       "      <td>no</td>\n",
       "      <td>NaN</td>\n",
       "      <td>may</td>\n",
       "      <td>NaN</td>\n",
       "      <td>no</td>\n",
       "    </tr>\n",
       "    <tr>\n",
       "      <th>1</th>\n",
       "      <td>technician</td>\n",
       "      <td>single</td>\n",
       "      <td>secondary</td>\n",
       "      <td>no</td>\n",
       "      <td>yes</td>\n",
       "      <td>no</td>\n",
       "      <td>NaN</td>\n",
       "      <td>may</td>\n",
       "      <td>NaN</td>\n",
       "      <td>no</td>\n",
       "    </tr>\n",
       "    <tr>\n",
       "      <th>2</th>\n",
       "      <td>entrepreneur</td>\n",
       "      <td>married</td>\n",
       "      <td>secondary</td>\n",
       "      <td>no</td>\n",
       "      <td>yes</td>\n",
       "      <td>yes</td>\n",
       "      <td>NaN</td>\n",
       "      <td>may</td>\n",
       "      <td>NaN</td>\n",
       "      <td>no</td>\n",
       "    </tr>\n",
       "    <tr>\n",
       "      <th>3</th>\n",
       "      <td>blue-collar</td>\n",
       "      <td>married</td>\n",
       "      <td>NaN</td>\n",
       "      <td>no</td>\n",
       "      <td>yes</td>\n",
       "      <td>no</td>\n",
       "      <td>NaN</td>\n",
       "      <td>may</td>\n",
       "      <td>NaN</td>\n",
       "      <td>no</td>\n",
       "    </tr>\n",
       "    <tr>\n",
       "      <th>5</th>\n",
       "      <td>management</td>\n",
       "      <td>married</td>\n",
       "      <td>tertiary</td>\n",
       "      <td>no</td>\n",
       "      <td>yes</td>\n",
       "      <td>no</td>\n",
       "      <td>NaN</td>\n",
       "      <td>may</td>\n",
       "      <td>NaN</td>\n",
       "      <td>no</td>\n",
       "    </tr>\n",
       "  </tbody>\n",
       "</table>\n",
       "</div>"
      ],
      "text/plain": [
       "            job  marital  education default housing loan contact month  \\\n",
       "0    management  married   tertiary      no     yes   no     NaN   may   \n",
       "1    technician   single  secondary      no     yes   no     NaN   may   \n",
       "2  entrepreneur  married  secondary      no     yes  yes     NaN   may   \n",
       "3   blue-collar  married        NaN      no     yes   no     NaN   may   \n",
       "5    management  married   tertiary      no     yes   no     NaN   may   \n",
       "\n",
       "  poutcome   y  \n",
       "0      NaN  no  \n",
       "1      NaN  no  \n",
       "2      NaN  no  \n",
       "3      NaN  no  \n",
       "5      NaN  no  "
      ]
     },
     "execution_count": 60,
     "metadata": {},
     "output_type": "execute_result"
    }
   ],
   "source": [
    "df_del_rows_traincat.dropna(subset = ['job'], inplace = True)\n",
    "df_del_rows_traincat.head()\n"
   ]
  },
  {
   "cell_type": "code",
   "execution_count": 61,
   "id": "a5295354-2f0e-40ab-ad10-4370df180514",
   "metadata": {},
   "outputs": [
    {
     "data": {
      "text/plain": [
       "['education', 'contact', 'poutcome']"
      ]
     },
     "execution_count": 61,
     "metadata": {},
     "output_type": "execute_result"
    }
   ],
   "source": [
    "df_del_rows_traincat.columns[df_del_rows_traincat.isna().any()].tolist() #to list the columns with atleast 1 null value"
   ]
  },
  {
   "cell_type": "code",
   "execution_count": 62,
   "id": "92f6edb4-4f17-492c-9843-3693206f4c06",
   "metadata": {},
   "outputs": [
    {
     "data": {
      "text/html": [
       "<div>\n",
       "<style scoped>\n",
       "    .dataframe tbody tr th:only-of-type {\n",
       "        vertical-align: middle;\n",
       "    }\n",
       "\n",
       "    .dataframe tbody tr th {\n",
       "        vertical-align: top;\n",
       "    }\n",
       "\n",
       "    .dataframe thead th {\n",
       "        text-align: right;\n",
       "    }\n",
       "</style>\n",
       "<table border=\"1\" class=\"dataframe\">\n",
       "  <thead>\n",
       "    <tr style=\"text-align: right;\">\n",
       "      <th></th>\n",
       "      <th>job</th>\n",
       "      <th>marital</th>\n",
       "      <th>education</th>\n",
       "      <th>default</th>\n",
       "      <th>housing</th>\n",
       "      <th>loan</th>\n",
       "      <th>contact</th>\n",
       "      <th>month</th>\n",
       "      <th>poutcome</th>\n",
       "      <th>y</th>\n",
       "    </tr>\n",
       "  </thead>\n",
       "  <tbody>\n",
       "    <tr>\n",
       "      <th>0</th>\n",
       "      <td>management</td>\n",
       "      <td>married</td>\n",
       "      <td>tertiary</td>\n",
       "      <td>no</td>\n",
       "      <td>yes</td>\n",
       "      <td>no</td>\n",
       "      <td>NaN</td>\n",
       "      <td>may</td>\n",
       "      <td>NaN</td>\n",
       "      <td>no</td>\n",
       "    </tr>\n",
       "    <tr>\n",
       "      <th>1</th>\n",
       "      <td>technician</td>\n",
       "      <td>single</td>\n",
       "      <td>secondary</td>\n",
       "      <td>no</td>\n",
       "      <td>yes</td>\n",
       "      <td>no</td>\n",
       "      <td>NaN</td>\n",
       "      <td>may</td>\n",
       "      <td>NaN</td>\n",
       "      <td>no</td>\n",
       "    </tr>\n",
       "    <tr>\n",
       "      <th>2</th>\n",
       "      <td>entrepreneur</td>\n",
       "      <td>married</td>\n",
       "      <td>secondary</td>\n",
       "      <td>no</td>\n",
       "      <td>yes</td>\n",
       "      <td>yes</td>\n",
       "      <td>NaN</td>\n",
       "      <td>may</td>\n",
       "      <td>NaN</td>\n",
       "      <td>no</td>\n",
       "    </tr>\n",
       "    <tr>\n",
       "      <th>3</th>\n",
       "      <td>blue-collar</td>\n",
       "      <td>married</td>\n",
       "      <td>NaN</td>\n",
       "      <td>no</td>\n",
       "      <td>yes</td>\n",
       "      <td>no</td>\n",
       "      <td>NaN</td>\n",
       "      <td>may</td>\n",
       "      <td>NaN</td>\n",
       "      <td>no</td>\n",
       "    </tr>\n",
       "    <tr>\n",
       "      <th>5</th>\n",
       "      <td>management</td>\n",
       "      <td>married</td>\n",
       "      <td>tertiary</td>\n",
       "      <td>no</td>\n",
       "      <td>yes</td>\n",
       "      <td>no</td>\n",
       "      <td>NaN</td>\n",
       "      <td>may</td>\n",
       "      <td>NaN</td>\n",
       "      <td>no</td>\n",
       "    </tr>\n",
       "    <tr>\n",
       "      <th>...</th>\n",
       "      <td>...</td>\n",
       "      <td>...</td>\n",
       "      <td>...</td>\n",
       "      <td>...</td>\n",
       "      <td>...</td>\n",
       "      <td>...</td>\n",
       "      <td>...</td>\n",
       "      <td>...</td>\n",
       "      <td>...</td>\n",
       "      <td>...</td>\n",
       "    </tr>\n",
       "    <tr>\n",
       "      <th>45206</th>\n",
       "      <td>technician</td>\n",
       "      <td>married</td>\n",
       "      <td>tertiary</td>\n",
       "      <td>no</td>\n",
       "      <td>no</td>\n",
       "      <td>no</td>\n",
       "      <td>cellular</td>\n",
       "      <td>nov</td>\n",
       "      <td>NaN</td>\n",
       "      <td>yes</td>\n",
       "    </tr>\n",
       "    <tr>\n",
       "      <th>45207</th>\n",
       "      <td>retired</td>\n",
       "      <td>divorced</td>\n",
       "      <td>primary</td>\n",
       "      <td>no</td>\n",
       "      <td>no</td>\n",
       "      <td>no</td>\n",
       "      <td>cellular</td>\n",
       "      <td>nov</td>\n",
       "      <td>NaN</td>\n",
       "      <td>yes</td>\n",
       "    </tr>\n",
       "    <tr>\n",
       "      <th>45208</th>\n",
       "      <td>retired</td>\n",
       "      <td>married</td>\n",
       "      <td>secondary</td>\n",
       "      <td>no</td>\n",
       "      <td>no</td>\n",
       "      <td>no</td>\n",
       "      <td>cellular</td>\n",
       "      <td>nov</td>\n",
       "      <td>success</td>\n",
       "      <td>yes</td>\n",
       "    </tr>\n",
       "    <tr>\n",
       "      <th>45209</th>\n",
       "      <td>blue-collar</td>\n",
       "      <td>married</td>\n",
       "      <td>secondary</td>\n",
       "      <td>no</td>\n",
       "      <td>no</td>\n",
       "      <td>no</td>\n",
       "      <td>telephone</td>\n",
       "      <td>nov</td>\n",
       "      <td>NaN</td>\n",
       "      <td>no</td>\n",
       "    </tr>\n",
       "    <tr>\n",
       "      <th>45210</th>\n",
       "      <td>entrepreneur</td>\n",
       "      <td>married</td>\n",
       "      <td>secondary</td>\n",
       "      <td>no</td>\n",
       "      <td>no</td>\n",
       "      <td>no</td>\n",
       "      <td>cellular</td>\n",
       "      <td>nov</td>\n",
       "      <td>other</td>\n",
       "      <td>no</td>\n",
       "    </tr>\n",
       "  </tbody>\n",
       "</table>\n",
       "<p>44923 rows × 10 columns</p>\n",
       "</div>"
      ],
      "text/plain": [
       "                job   marital  education default housing loan    contact  \\\n",
       "0        management   married   tertiary      no     yes   no        NaN   \n",
       "1        technician    single  secondary      no     yes   no        NaN   \n",
       "2      entrepreneur   married  secondary      no     yes  yes        NaN   \n",
       "3       blue-collar   married        NaN      no     yes   no        NaN   \n",
       "5        management   married   tertiary      no     yes   no        NaN   \n",
       "...             ...       ...        ...     ...     ...  ...        ...   \n",
       "45206    technician   married   tertiary      no      no   no   cellular   \n",
       "45207       retired  divorced    primary      no      no   no   cellular   \n",
       "45208       retired   married  secondary      no      no   no   cellular   \n",
       "45209   blue-collar   married  secondary      no      no   no  telephone   \n",
       "45210  entrepreneur   married  secondary      no      no   no   cellular   \n",
       "\n",
       "      month poutcome    y  \n",
       "0       may      NaN   no  \n",
       "1       may      NaN   no  \n",
       "2       may      NaN   no  \n",
       "3       may      NaN   no  \n",
       "5       may      NaN   no  \n",
       "...     ...      ...  ...  \n",
       "45206   nov      NaN  yes  \n",
       "45207   nov      NaN  yes  \n",
       "45208   nov  success  yes  \n",
       "45209   nov      NaN   no  \n",
       "45210   nov    other   no  \n",
       "\n",
       "[44923 rows x 10 columns]"
      ]
     },
     "execution_count": 62,
     "metadata": {},
     "output_type": "execute_result"
    }
   ],
   "source": [
    "df_del_rows_traincat"
   ]
  },
  {
   "cell_type": "markdown",
   "id": "8dd7af73-a780-4cca-b901-cf9adfe50a7e",
   "metadata": {},
   "source": [
    "<h3>Approach 2 : Imputation by most frequent values (Mode)</h3>\n",
    "<br>\n",
    "In this method, you can impute the missing or NULL values by the most frequent or common value in the column. The advantage of this method is that it can work with both numerical and categorical features. You can use Scikit-learn’s SimpleImputer class for this imputation method. This class also works for imputation by mean and median approaches as well."
   ]
  },
  {
   "cell_type": "code",
   "execution_count": 59,
   "id": "900a2bf9-8052-4152-be98-377e6e28b095",
   "metadata": {},
   "outputs": [
    {
     "ename": "ValueError",
     "evalue": "Length of values (45211) does not match length of index (44923)",
     "output_type": "error",
     "traceback": [
      "\u001b[1;31m---------------------------------------------------------------------------\u001b[0m",
      "\u001b[1;31mValueError\u001b[0m                                Traceback (most recent call last)",
      "Cell \u001b[1;32mIn[59], line 6\u001b[0m\n\u001b[0;32m      3\u001b[0m impute_mode \u001b[38;5;241m=\u001b[39m SimpleImputer(strategy \u001b[38;5;241m=\u001b[39m \u001b[38;5;124m'\u001b[39m\u001b[38;5;124mmost_frequent\u001b[39m\u001b[38;5;124m'\u001b[39m)\n\u001b[0;32m      4\u001b[0m impute_mode\u001b[38;5;241m.\u001b[39mfit(df[[\u001b[38;5;124m'\u001b[39m\u001b[38;5;124meducation\u001b[39m\u001b[38;5;124m'\u001b[39m, \u001b[38;5;124m'\u001b[39m\u001b[38;5;124mcontact\u001b[39m\u001b[38;5;124m'\u001b[39m, \u001b[38;5;124m'\u001b[39m\u001b[38;5;124mpoutcome\u001b[39m\u001b[38;5;124m'\u001b[39m]])\n\u001b[1;32m----> 6\u001b[0m df_del_rows_traincat[[\u001b[38;5;124m'\u001b[39m\u001b[38;5;124meducation\u001b[39m\u001b[38;5;124m'\u001b[39m, \u001b[38;5;124m'\u001b[39m\u001b[38;5;124mcontact\u001b[39m\u001b[38;5;124m'\u001b[39m, \u001b[38;5;124m'\u001b[39m\u001b[38;5;124mpoutcome\u001b[39m\u001b[38;5;124m'\u001b[39m]] \u001b[38;5;241m=\u001b[39m impute_mode\u001b[38;5;241m.\u001b[39mtransform(df[[\u001b[38;5;124m'\u001b[39m\u001b[38;5;124meducation\u001b[39m\u001b[38;5;124m'\u001b[39m, \u001b[38;5;124m'\u001b[39m\u001b[38;5;124mcontact\u001b[39m\u001b[38;5;124m'\u001b[39m, \u001b[38;5;124m'\u001b[39m\u001b[38;5;124mpoutcome\u001b[39m\u001b[38;5;124m'\u001b[39m]])\n",
      "File \u001b[1;32m~\\anaconda3\\Lib\\site-packages\\pandas\\core\\frame.py:4079\u001b[0m, in \u001b[0;36mDataFrame.__setitem__\u001b[1;34m(self, key, value)\u001b[0m\n\u001b[0;32m   4077\u001b[0m     \u001b[38;5;28mself\u001b[39m\u001b[38;5;241m.\u001b[39m_setitem_frame(key, value)\n\u001b[0;32m   4078\u001b[0m \u001b[38;5;28;01melif\u001b[39;00m \u001b[38;5;28misinstance\u001b[39m(key, (Series, np\u001b[38;5;241m.\u001b[39mndarray, \u001b[38;5;28mlist\u001b[39m, Index)):\n\u001b[1;32m-> 4079\u001b[0m     \u001b[38;5;28mself\u001b[39m\u001b[38;5;241m.\u001b[39m_setitem_array(key, value)\n\u001b[0;32m   4080\u001b[0m \u001b[38;5;28;01melif\u001b[39;00m \u001b[38;5;28misinstance\u001b[39m(value, DataFrame):\n\u001b[0;32m   4081\u001b[0m     \u001b[38;5;28mself\u001b[39m\u001b[38;5;241m.\u001b[39m_set_item_frame_value(key, value)\n",
      "File \u001b[1;32m~\\anaconda3\\Lib\\site-packages\\pandas\\core\\frame.py:4130\u001b[0m, in \u001b[0;36mDataFrame._setitem_array\u001b[1;34m(self, key, value)\u001b[0m\n\u001b[0;32m   4127\u001b[0m         \u001b[38;5;28mself\u001b[39m[col] \u001b[38;5;241m=\u001b[39m value\n\u001b[0;32m   4129\u001b[0m \u001b[38;5;28;01melif\u001b[39;00m \u001b[38;5;28misinstance\u001b[39m(value, np\u001b[38;5;241m.\u001b[39mndarray) \u001b[38;5;129;01mand\u001b[39;00m value\u001b[38;5;241m.\u001b[39mndim \u001b[38;5;241m==\u001b[39m \u001b[38;5;241m2\u001b[39m:\n\u001b[1;32m-> 4130\u001b[0m     \u001b[38;5;28mself\u001b[39m\u001b[38;5;241m.\u001b[39m_iset_not_inplace(key, value)\n\u001b[0;32m   4132\u001b[0m \u001b[38;5;28;01melif\u001b[39;00m np\u001b[38;5;241m.\u001b[39mndim(value) \u001b[38;5;241m>\u001b[39m \u001b[38;5;241m1\u001b[39m:\n\u001b[0;32m   4133\u001b[0m     \u001b[38;5;66;03m# list of lists\u001b[39;00m\n\u001b[0;32m   4134\u001b[0m     value \u001b[38;5;241m=\u001b[39m DataFrame(value)\u001b[38;5;241m.\u001b[39mvalues\n",
      "File \u001b[1;32m~\\anaconda3\\Lib\\site-packages\\pandas\\core\\frame.py:4160\u001b[0m, in \u001b[0;36mDataFrame._iset_not_inplace\u001b[1;34m(self, key, value)\u001b[0m\n\u001b[0;32m   4157\u001b[0m         \u001b[38;5;28;01mraise\u001b[39;00m \u001b[38;5;167;01mValueError\u001b[39;00m(\u001b[38;5;124m\"\u001b[39m\u001b[38;5;124mColumns must be same length as key\u001b[39m\u001b[38;5;124m\"\u001b[39m)\n\u001b[0;32m   4159\u001b[0m     \u001b[38;5;28;01mfor\u001b[39;00m i, col \u001b[38;5;129;01min\u001b[39;00m \u001b[38;5;28menumerate\u001b[39m(key):\n\u001b[1;32m-> 4160\u001b[0m         \u001b[38;5;28mself\u001b[39m[col] \u001b[38;5;241m=\u001b[39m igetitem(value, i)\n\u001b[0;32m   4162\u001b[0m \u001b[38;5;28;01melse\u001b[39;00m:\n\u001b[0;32m   4163\u001b[0m     ilocs \u001b[38;5;241m=\u001b[39m \u001b[38;5;28mself\u001b[39m\u001b[38;5;241m.\u001b[39mcolumns\u001b[38;5;241m.\u001b[39mget_indexer_non_unique(key)[\u001b[38;5;241m0\u001b[39m]\n",
      "File \u001b[1;32m~\\anaconda3\\Lib\\site-packages\\pandas\\core\\frame.py:4091\u001b[0m, in \u001b[0;36mDataFrame.__setitem__\u001b[1;34m(self, key, value)\u001b[0m\n\u001b[0;32m   4088\u001b[0m     \u001b[38;5;28mself\u001b[39m\u001b[38;5;241m.\u001b[39m_setitem_array([key], value)\n\u001b[0;32m   4089\u001b[0m \u001b[38;5;28;01melse\u001b[39;00m:\n\u001b[0;32m   4090\u001b[0m     \u001b[38;5;66;03m# set column\u001b[39;00m\n\u001b[1;32m-> 4091\u001b[0m     \u001b[38;5;28mself\u001b[39m\u001b[38;5;241m.\u001b[39m_set_item(key, value)\n",
      "File \u001b[1;32m~\\anaconda3\\Lib\\site-packages\\pandas\\core\\frame.py:4300\u001b[0m, in \u001b[0;36mDataFrame._set_item\u001b[1;34m(self, key, value)\u001b[0m\n\u001b[0;32m   4290\u001b[0m \u001b[38;5;28;01mdef\u001b[39;00m \u001b[38;5;21m_set_item\u001b[39m(\u001b[38;5;28mself\u001b[39m, key, value) \u001b[38;5;241m-\u001b[39m\u001b[38;5;241m>\u001b[39m \u001b[38;5;28;01mNone\u001b[39;00m:\n\u001b[0;32m   4291\u001b[0m \u001b[38;5;250m    \u001b[39m\u001b[38;5;124;03m\"\"\"\u001b[39;00m\n\u001b[0;32m   4292\u001b[0m \u001b[38;5;124;03m    Add series to DataFrame in specified column.\u001b[39;00m\n\u001b[0;32m   4293\u001b[0m \n\u001b[1;32m   (...)\u001b[0m\n\u001b[0;32m   4298\u001b[0m \u001b[38;5;124;03m    ensure homogeneity.\u001b[39;00m\n\u001b[0;32m   4299\u001b[0m \u001b[38;5;124;03m    \"\"\"\u001b[39;00m\n\u001b[1;32m-> 4300\u001b[0m     value, refs \u001b[38;5;241m=\u001b[39m \u001b[38;5;28mself\u001b[39m\u001b[38;5;241m.\u001b[39m_sanitize_column(value)\n\u001b[0;32m   4302\u001b[0m     \u001b[38;5;28;01mif\u001b[39;00m (\n\u001b[0;32m   4303\u001b[0m         key \u001b[38;5;129;01min\u001b[39;00m \u001b[38;5;28mself\u001b[39m\u001b[38;5;241m.\u001b[39mcolumns\n\u001b[0;32m   4304\u001b[0m         \u001b[38;5;129;01mand\u001b[39;00m value\u001b[38;5;241m.\u001b[39mndim \u001b[38;5;241m==\u001b[39m \u001b[38;5;241m1\u001b[39m\n\u001b[0;32m   4305\u001b[0m         \u001b[38;5;129;01mand\u001b[39;00m \u001b[38;5;129;01mnot\u001b[39;00m \u001b[38;5;28misinstance\u001b[39m(value\u001b[38;5;241m.\u001b[39mdtype, ExtensionDtype)\n\u001b[0;32m   4306\u001b[0m     ):\n\u001b[0;32m   4307\u001b[0m         \u001b[38;5;66;03m# broadcast across multiple columns if necessary\u001b[39;00m\n\u001b[0;32m   4308\u001b[0m         \u001b[38;5;28;01mif\u001b[39;00m \u001b[38;5;129;01mnot\u001b[39;00m \u001b[38;5;28mself\u001b[39m\u001b[38;5;241m.\u001b[39mcolumns\u001b[38;5;241m.\u001b[39mis_unique \u001b[38;5;129;01mor\u001b[39;00m \u001b[38;5;28misinstance\u001b[39m(\u001b[38;5;28mself\u001b[39m\u001b[38;5;241m.\u001b[39mcolumns, MultiIndex):\n",
      "File \u001b[1;32m~\\anaconda3\\Lib\\site-packages\\pandas\\core\\frame.py:5039\u001b[0m, in \u001b[0;36mDataFrame._sanitize_column\u001b[1;34m(self, value)\u001b[0m\n\u001b[0;32m   5036\u001b[0m     \u001b[38;5;28;01mreturn\u001b[39;00m _reindex_for_setitem(value, \u001b[38;5;28mself\u001b[39m\u001b[38;5;241m.\u001b[39mindex)\n\u001b[0;32m   5038\u001b[0m \u001b[38;5;28;01mif\u001b[39;00m is_list_like(value):\n\u001b[1;32m-> 5039\u001b[0m     com\u001b[38;5;241m.\u001b[39mrequire_length_match(value, \u001b[38;5;28mself\u001b[39m\u001b[38;5;241m.\u001b[39mindex)\n\u001b[0;32m   5040\u001b[0m \u001b[38;5;28;01mreturn\u001b[39;00m sanitize_array(value, \u001b[38;5;28mself\u001b[39m\u001b[38;5;241m.\u001b[39mindex, copy\u001b[38;5;241m=\u001b[39m\u001b[38;5;28;01mTrue\u001b[39;00m, allow_2d\u001b[38;5;241m=\u001b[39m\u001b[38;5;28;01mTrue\u001b[39;00m), \u001b[38;5;28;01mNone\u001b[39;00m\n",
      "File \u001b[1;32m~\\anaconda3\\Lib\\site-packages\\pandas\\core\\common.py:561\u001b[0m, in \u001b[0;36mrequire_length_match\u001b[1;34m(data, index)\u001b[0m\n\u001b[0;32m    557\u001b[0m \u001b[38;5;250m\u001b[39m\u001b[38;5;124;03m\"\"\"\u001b[39;00m\n\u001b[0;32m    558\u001b[0m \u001b[38;5;124;03mCheck the length of data matches the length of the index.\u001b[39;00m\n\u001b[0;32m    559\u001b[0m \u001b[38;5;124;03m\"\"\"\u001b[39;00m\n\u001b[0;32m    560\u001b[0m \u001b[38;5;28;01mif\u001b[39;00m \u001b[38;5;28mlen\u001b[39m(data) \u001b[38;5;241m!=\u001b[39m \u001b[38;5;28mlen\u001b[39m(index):\n\u001b[1;32m--> 561\u001b[0m     \u001b[38;5;28;01mraise\u001b[39;00m \u001b[38;5;167;01mValueError\u001b[39;00m(\n\u001b[0;32m    562\u001b[0m         \u001b[38;5;124m\"\u001b[39m\u001b[38;5;124mLength of values \u001b[39m\u001b[38;5;124m\"\u001b[39m\n\u001b[0;32m    563\u001b[0m         \u001b[38;5;124mf\u001b[39m\u001b[38;5;124m\"\u001b[39m\u001b[38;5;124m(\u001b[39m\u001b[38;5;132;01m{\u001b[39;00m\u001b[38;5;28mlen\u001b[39m(data)\u001b[38;5;132;01m}\u001b[39;00m\u001b[38;5;124m) \u001b[39m\u001b[38;5;124m\"\u001b[39m\n\u001b[0;32m    564\u001b[0m         \u001b[38;5;124m\"\u001b[39m\u001b[38;5;124mdoes not match length of index \u001b[39m\u001b[38;5;124m\"\u001b[39m\n\u001b[0;32m    565\u001b[0m         \u001b[38;5;124mf\u001b[39m\u001b[38;5;124m\"\u001b[39m\u001b[38;5;124m(\u001b[39m\u001b[38;5;132;01m{\u001b[39;00m\u001b[38;5;28mlen\u001b[39m(index)\u001b[38;5;132;01m}\u001b[39;00m\u001b[38;5;124m)\u001b[39m\u001b[38;5;124m\"\u001b[39m\n\u001b[0;32m    566\u001b[0m     )\n",
      "\u001b[1;31mValueError\u001b[0m: Length of values (45211) does not match length of index (44923)"
     ]
    }
   ],
   "source": [
    "# impute Graduated and Family_Size features with most_frequent values\n",
    "from sklearn.impute import SimpleImputer\n",
    "impute_mode = SimpleImputer(strategy = 'most_frequent')\n",
    "impute_mode.fit(df[['education', 'contact', 'poutcome']])\n",
    "\n",
    "df_del_rows_traincat[['education', 'contact', 'poutcome']] = impute_mode.transform(df[['education', 'contact', 'poutcome']])\n"
   ]
  },
  {
   "cell_type": "markdown",
   "id": "b1903daf-3a7d-4a9e-8369-5d28edffec88",
   "metadata": {},
   "source": [
    "<h3> Outliers for Numeric Values </h3>"
   ]
  },
  {
   "cell_type": "markdown",
   "id": "8b2bed44-ec0a-4701-b5bc-eeda5844cd4d",
   "metadata": {},
   "source": [
    "<h4>Using Z score </h4>"
   ]
  },
  {
   "cell_type": "code",
   "execution_count": 43,
   "id": "bcf1da0a-c033-4e87-b527-cefb18dbd8b1",
   "metadata": {},
   "outputs": [],
   "source": [
    "def checkZscore(train_num,column_name):\n",
    "    \n",
    "    mean   = train_num[column_name].mean()\n",
    "    stn_dev = train_num[column_name].std()\n",
    "    \n",
    "    upper_band = mean + 3*stn_dev\n",
    "    lower_band = mean - 3*stn_dev\n",
    "    \n",
    "    print('\\n\\n' + \"mean of : \" + str(column_name) + \" is \" + str(mean) +\n",
    "          '\\n' + \"Standard deviation of : \" + str(column_name) + \" is \" + str(stn_dev) +\n",
    "          '\\n' + \"Upper and Lower Limits of \" + str(column_name) + \" is \"  + str((lower_band,upper_band))\n",
    "         )\n",
    "    \n",
    "    return upper_band , lower_band"
   ]
  },
  {
   "cell_type": "code",
   "execution_count": 44,
   "id": "627e9358-de88-4698-b907-3aa7204f849a",
   "metadata": {},
   "outputs": [
    {
     "name": "stdout",
     "output_type": "stream",
     "text": [
      "Outlier infos of the features:\n",
      "\n",
      "\n",
      "mean of : age is 40.93621021432837\n",
      "Standard deviation of : age is 10.618762040975431\n",
      "Upper and Lower Limits of age is (9.079924091402077, 72.79249633725466)\n",
      "\n",
      "age has 381 outliers : [83 75 75 83 75 76 83 85 90 82 73 74 75 78 85 80 78 73 75 94 83 79 78 83\n",
      " 73 76 83 77 73 74 73 77 80 82 75 77 78 78 86 76 74 77 74 79 74 78 73 73\n",
      " 95 74 78 75 75 82 74 81 76 75 77 73 85 83 78 73 79 80 78 79 82 81 79 79\n",
      " 79 73 75 75 78 75 80 80 74 73 77 79 73 80 83 73 78 81 81 74 75 82 80 76\n",
      " 74 74 77 77 76 74 74 73 82 77 79 89 76 81 74 73 77 84 86 76 73 74 82 83\n",
      " 73 73 74 78 86 76 79 81 77 82 73 73 74 73 76 83 80 79 77 74 84 95 77 78\n",
      " 79 83 83 73 77 74 83 76 73 81 80 75 74 75 77 83 81 73 74 80 76 77 74 87\n",
      " 76 92 78 82 78 76 73 77 76 73 82 81 80 76 74 75 80 84 87 76 78 73 78 81\n",
      " 76 79 73 82 77 75 76 81 77 75 74 75 78 77 83 73 81 80 80 86 79 79 87 81\n",
      " 75 84 78 89 73 85 87 80 81 85 79 76 74 92 77 74 81 73 76 80 82 77 76 78\n",
      " 77 74 76 77 80 76 76 73 84 79 77 75 76 75 75 75 77 82 80 79 78 77 74 73\n",
      " 90 73 83 73 76 79 75 80 77 74 82 75 86 86 77 82 80 84 86 80 78 73 80 75\n",
      " 73 74 76 76 73 77 80 77 76 79 77 80 74 77 83 80 78 78 77 75 74 79 73 84\n",
      " 78 78 83 80 83 73 76 75 75 77 74 80 79 74 80 79 86 73 93 82 82 77 83 80\n",
      " 76 78 80 93 82 79 75 77 77 75 77 75 88 83 84 77 80 84 75 83 75 74 88 74\n",
      " 75 78 81 82 89 81 77 79 73 75 86 75 77 77 74 73 78 78 77 75 73]\n",
      "\n",
      "\n",
      "**********************************************************\n",
      "\n",
      "\n",
      "\n",
      "mean of : balance is 1362.2720576850766\n",
      "Standard deviation of : balance is 3044.7658291686002\n",
      "Upper and Lower Limits of balance is (-7772.025429820724, 10496.569545190878)\n",
      "\n",
      "balance has 745 outliers : [ 10635  12223  24598  45248  58544  18722  24299  13308  26765  12061\n",
      "  12482  29312  37378  15801  23189  11317  20718  10749  10600  15740\n",
      "  56831  22370  10576  12269  29887  10561  12210  12697  14752  17983\n",
      "  11697  23867  11512  35368  13156  12961  15341  11149  29050  24870\n",
      "  11423  11315  14692  17946  18347  17455  13849  19343  21111  16957\n",
      "  13186  22867  10865  16232  16173  11417  22008  22171  11269  32948\n",
      "  11953  15578  13761  22755  12956  16992  11804  11528  12855  14481\n",
      "  11743  25741  12159  12531  16063  15511  18904  19797  12917  21096\n",
      "  12282  11615  13683  12926  16402  12686  17964  27733  17891  27359\n",
      "  11222  10787  13052  17036  14363  15442  13360  11464  10855  21515\n",
      "  12848  21861  22018  45141  11146  19850  52499  21574  12001  11671\n",
      "  16430  22928  16431  14000  11016  13242  22856  13698  17413  16917\n",
      "  11516  13117  13893  16843  13089  11084  10957  13551  18188  10638\n",
      "  11787  13292  21292  12180  15352  12581  21664  25824  12877  22946\n",
      "  10721  11265  11008  17361  17957  29125  12130  20541  10662  11972\n",
      "  13501  15477  24055  10984  27069  10724  12186  13494  12276  11285\n",
      "  14902  10786  13054  17339  21522  12245  13718  -8019  58932  12389\n",
      "  51439  13229  19447  15437  13160  38279  12939  12731  14058  14611\n",
      "  21963  45789  14004  14054  14930  22557  11532  13930  10685  15561\n",
      "  13315  24312  14530  10628  13265  11254  10621  11310  15681  25290\n",
      "  17410  20584  13818  10655  14190  15515  21244  11391  11655  12438\n",
      "  16922  10888  13118  14922  13021  24780  14282  13189  10757  41923\n",
      "  64343  11754  14355  15904  15298  10950  66721  42045  12928  10772\n",
      "  19348  21510  11971  13338  11797  23917  11835  13834  14093  15088\n",
      "  12409  19213  11563  23919  11431  12531  34646  14215  28433  25947\n",
      "  13238  16377  13410  20479  31868  25856  66653  13763  13044  41630\n",
      "  23876  10639  14148  11821  12177  17206  10500  12584  15302  22546\n",
      "  20794  10890  52527  13156  11305  15449  23495  13165  12766  26394\n",
      "  11126  43074  24450  29230  17297  17555  22815  20261  21614  13099\n",
      "  12519  24556  26254  19268  12026  12857  17432  12226  14107  20187\n",
      "  14282  17092  16264  22341  12061  34247  11650  11971  12839  13342\n",
      "  26575  10888  16517  13931  14412  10653  18777  19850  15520  12845\n",
      "  16786  16397  11591  17655  12569  35589  11887  26172  13853  14232\n",
      "  12539  17455  12437  12256  11766  12409  12223  16869  16358  13044\n",
      "  11246  11524  11281  18268  32948  11494  10995  26306  12675  12618\n",
      "  16430  12737  12212  19358  12048  12855  17008  16486  17769  32464\n",
      "  10697  22452  20600  20527  12159  15062  98417  11391  15169  20727\n",
      "  11462  13620  12634  11675  29484  20138  11512  10834  11386  20451\n",
      "  21522  13204  10735  14387  16119  16489  12705  12686  10667  17672\n",
      "  13836  21854  17056  18558  14355  11350  14679  16649  19796  11839\n",
      "  12270  13711  18508  19391  14462  20580  12519  11998  12132  14144\n",
      "  44128  36935  13818  41242  27446  22196  15474  17118  14440  19343\n",
      "  16125  37176  19313  19447  29207  13489  11222  13015  20179  11391\n",
      "  13851  13354  20932  26254  24498  13578  57435  11287  16178  23663\n",
      "  22520  13901  14522  29397  17924  16236  36221  12704  22125  15120\n",
      "  15423  22569  20798  16992  10536  16957  19833  17418  15161  13297\n",
      "  11093  12939  44134  23494  19706  11371  13565  14889  20772  10613\n",
      "  12495  16649  19102  17747  14344  10600  13874  26721  14850  12857\n",
      "  17946  11298  15261  17609  19985  26306  26831  12114  11862  23878\n",
      "  15459  32685  10768  11385  20727  13408  11891  12926  11767  17441\n",
      "  20806  12159  12039  11555  13849  11066  13669  15485  12048  11387\n",
      "  11174  21446  23663  13654  13546  12519  13156  16727  20011  17332\n",
      "  17335  15341  13683  13562  21024  11968  15841  10925  20723  11115\n",
      "  11371  31630  11632  27696  36686  36252  20453  10907  11278  10884\n",
      "  12857  11766  17946  26575  12686  25204  17946  10924  11639  12839\n",
      "  34230  16125  11757  11103  13054  18254  11686  23552  13186  15035\n",
      "  14657  12130  10558  15030  12392  22546  13711  17924  20928  28318\n",
      "  11177  24598  11350  10910  11971  16874  11854  13460  11752  10773\n",
      "  16563  22171  12198  12607  11219  13094  11862  23878  11303  23076\n",
      "  17964  15485  21088  17023  15459  13107  39098  16873  10758  15161\n",
      "  10768  12322  27624 102127  15445  15787  22086  15187  29184  20585\n",
      "  14533  10583  13164  22856  12956  19690  23592  11904  18016  26452\n",
      "  11008  12767  19317  10532  10861  11115  22867  52587  10884  13297\n",
      "  20422  11219  27696  13014  10776  18111  16432  12607  11766  15265\n",
      "  12972  10905  10596  11862  14170  16517  17875  11262  24277  59649\n",
      "  17964  13450  14220  12569  13887  17739  10943  20585  10583  39385\n",
      "  15834  26233  71188  16873  12039  37378  13669  10889  12067  24025\n",
      "  10925  14646  11115  16935  11240  13578  12401  10541  10861  22867\n",
      "  11862  31630  18881  11891  13658  12018  10788  81204  11303  14533\n",
      "  11387  13546  18967  23421  10541  22867  37127  13014  27696  52587\n",
      "  16432  11219  15265  11494  12980  29340  16517  12409  10583  81204\n",
      "  15834  13107  12264  10596  11766  26965  11115  15311  12067  27696\n",
      "  12356  23047  29941  10971  29080  12569  31472  14968  10861  11650\n",
      "  12067  18931  27696  12980  14352  13774  26306  17458  12264  16873\n",
      "  11862  10861  11115  14204  16353]\n",
      "\n",
      "\n",
      "**********************************************************\n",
      "\n",
      "\n",
      "\n",
      "mean of : day_of_week is 15.80641879188693\n",
      "Standard deviation of : day_of_week is 8.322476153044185\n",
      "Upper and Lower Limits of day_of_week is (-9.161009667245626, 40.77384725101949)\n",
      "\n",
      "day_of_week has 0 outliers : []\n",
      "\n",
      "\n",
      "**********************************************************\n",
      "\n",
      "\n",
      "\n",
      "mean of : duration is 258.1630797814691\n",
      "Standard deviation of : duration is 257.52781226517095\n",
      "Upper and Lower Limits of duration is (-514.4203570140437, 1030.746516576982)\n",
      "\n",
      "duration has 963 outliers : [1666 1492 1778 1042 1467 1389 2033 1056 1077 1419 1201 1623 1677 1297\n",
      " 1906 1597 1529 1521 1138 1581 1101 1062 2177 1273 1574 1689 1102 1040\n",
      " 1084 1119 1120 2087 1120 1187 2462 1087 1692 2016 1054 1170 1713 1080\n",
      " 1461 1178 1534 1147 1495 1083 1266 1727 1875 1346 1386 3366 2231 1167\n",
      " 1052 1106 1721 1032 1553 1328 1125 1044 2241 1118 1423 1204 1162 1088\n",
      " 1036 1257 1165 1244 1224 1156 1052 1231 1051 1392 1867 1263 1252 1143\n",
      " 1230 1340 1161 1128 1135 1408 1297 1193 1144 1245 1064 1187 1203 1622\n",
      " 1218 3078 1205 1882 1334 1777 1452 1376 1182 1045 1063 1410 1287 1392\n",
      " 1106 1091 1307 1681 1409 1162 1697 1094 1161 1349 1171 1073 1438 1392\n",
      " 1222 1034 1066 1099 1560 1234 1272 1446 1063 1297 1205 1051 3094 1224\n",
      " 1168 1560 1210 1183 1730 1277 1196 1236 1207 1059 1611 1185 1363 1109\n",
      " 2260 1133 1269 1097 1500 1236 1212 1343 1980 1044 1193 1075 1036 1068\n",
      " 1576 1173 1045 2456 1259 1363 1516 1336 1138 1242 1141 1045 1519 1449\n",
      " 1224 1181 1167 1446 1149 1123 1558 1053 1084 1865 1302 1121 1276 1994\n",
      " 1041 1288 2653 1085 1330 1469 1291 1055 1098 1151 3881 1137 1159 1199\n",
      " 1290 1141 1268 1178 1243 1323 1093 1395 1238 1089 1248 2769 1162 1051\n",
      " 1199 1345 2621 1208 1365 1062 1528 1487 1540 1812 1255 2093 1195 1060\n",
      " 1574 2485 1082 1135 1318 2028 2635 1403 1467 1210 1276 1098 1573 1663\n",
      " 1617 1478 1422 1094 1036 1409 3183 1992 1135 1106 1576 1044 1434 1272\n",
      " 1103 1200 2201 1467 1165 1046 1767 1082 1720 1061 1111 1272 1486 1242\n",
      " 1121 1156 1290 1439 1426 1102 1341 2029 1499 1399 1187 1097 1060 1120\n",
      " 1973 1041 1389 1649 1310 1187 1397 1153 1130 1062 1669 1271 1336 1056\n",
      " 1083 1424 1142 1412 1806 1150 1222 1432 1039 1656 1389 1056 1339 1473\n",
      " 1150 1171 1275 1183 1584 1448 1151 1390 1319 1208 1175 1153 1303 1081\n",
      " 1503 1127 1360 1373 1139 1425 1105 1039 1080 1156 1877 1220 1130 1342\n",
      " 1360 1134 1352 1077 1545 1288 1833 1508 1408 1237 1287 1148 1037 1226\n",
      " 1608 1152 1331 1327 1090 2078 1124 1201 1309 1359 1204 1417 1484 1441\n",
      " 1491 1036 1206 1869 1259 1820 1173 1602 1492 1422 1209 1946 1269 1106\n",
      " 2015 1031 1368 1330 1173 1448 1369 1169 1339 1096 1037 1076 1569 2516\n",
      " 1186 1058 1127 1140 1037 1171 1078 1089 1211 1165 1567 1259 2692 1212\n",
      " 1088 1150 1107 1461 1739 1212 1039 1142 1721 1032 1165 1110 1486 1488\n",
      " 1134 1109 1536 1186 1092 1051 1200 1311 1113 1227 1357 2191 1044 1249\n",
      " 1250 1471 1456 1462 1834 1321 3422 1182 1934 1306 1242 1206 1070 1099\n",
      " 1141 1238 1144 1242 1687 1080 1504 1134 1282 1103 1181 1133 1650 1092\n",
      " 1344 1307 1344 1613 1735 1476 1842 1149 1314 1148 1217 3322 1184 1151\n",
      " 1231 1579 1871 1126 1576 1364 1559 1293 1241 1059 1032 1200 1740 1408\n",
      " 1464 1503 1111 1532 1877 1123 1241 1258 1329 1809 1241 1152 1374 1223\n",
      " 1033 1040 1642 1176 2372 1126 1037 3253 2429 2016 3284 1239 4918 1789\n",
      " 1077 1303 1070 1606 1449 1081 1531 1121 1091 1735 1132 1210 1978 1164\n",
      " 1268 1855 1034 1093 1181 1437 1329 1377 1122 1476 1554 1081 1084 1057\n",
      " 1548 1283 1502 1206 1065 1265 1792 1662 1468 1184 1102 1337 1307 1435\n",
      " 1720 1192 1058 1816 1040 1031 1503 1256 1258 1490 1154 1035 1166 1145\n",
      " 1532 1341 2420 1598 1329 1059 1476 1855 2453 1221 1158 1166 1055 1182\n",
      " 1074 1199 1571 1555 1036 1540 1032 1222 1195 1441 1555 1067 1914 1048\n",
      " 1387 1232 1972 1745 1199 1121 2150 1451 1424 1181 1101 1165 1600 1473\n",
      " 1249 1917 1139 1451 2770 1296 1431 3025 1776 1169 1136 1086 1790 1420\n",
      " 1425 1223 1110 2256 1393 1635 1528 1404 1776 2053 1086 1294 1416 1078\n",
      " 1579 1164 1052 1226 1060 1261 1290 1381 1121 1213 2775 1916 1837 1118\n",
      " 1056 1823 1661 1063 1138 1307 1960 1130 1658 1423 3102 1160 1192 1047\n",
      " 1183 1541 1971 1201 1447 2330 1209 3076 1081 1176 1156 1196 2870 1164\n",
      " 1074 1090 1091 1203 1859 1108 1063 1353 1138 1096 1063 2129 1134 1032\n",
      " 1190 1665 1691 1042 1036 1091 1058 1101 1232 1126 1073 1594 1372 1217\n",
      " 1038 1187 1579 1034 1366 1366 1174 1463 1365 1410 1156 1095 1311 1161\n",
      " 1554 1080 1034 1130 1426 1184 2053 1064 1038 1364 1332 1202 1112 1550\n",
      " 1422 1817 1272 1333 1156 1348 1288 1277 1373 1143 1034 1076 1046 1121\n",
      " 1091 1063 1240 1090 1130 1101 1100 1079 1205 1131 1489 1347 1369 1074\n",
      " 1957 1046 1145 1148 1191 1254 1806 1391 1516 1135 1262 1051 1297 1243\n",
      " 1080 1448 1049 1038 1514 1114 1232 1388 1143 1203 1272 1062 1100 1182\n",
      " 1531 1063 1925 1710 1388 1108 1073 1512 1101 1207 1966 1970 1975 1119\n",
      " 1805 1279 1130 1309 1166 1180 1075 1106 1723 1129 1060 1462 1094 1181\n",
      " 1452 1190 1286 1380 1111 1357 1259 1237 1223 1871 1068 1326 1313 1598\n",
      " 1032 1126 1340 2301 1063 1434 1057 1173 1359 1880 1064 1078 1346 1576\n",
      " 1460 1048 1087 1144 2219 1361 1076 1161 1094 1543 1603 1321 1057 1284\n",
      " 1452 1225 1529 1244 1117 1336 1064 1175 1152 2027 2055 1962 1702 1104\n",
      " 1551 1353 1386 1106 1226 1573 1580 1745 2187 1206 1118 1092 1707 1233\n",
      " 2184 1248 1092 1628 1804 1139 2062 1141 1472 1370 1265 1616 1133 1416\n",
      " 1835 1109 1422 1093 1143 1472 1241 1205 1114 1178 1563 2389 1720 1407\n",
      " 1207 1185 1148 1193 1360 1697 1179 1064 1363 1226 3785 1120 1440 1081\n",
      " 1405 1042 1334 1298 1246 1410 1176 1032 1166 1556 1127]\n",
      "\n",
      "\n",
      "**********************************************************\n",
      "\n",
      "\n",
      "\n",
      "mean of : campaign is 2.763840658246887\n",
      "Standard deviation of : campaign is 3.0980208832802205\n",
      "Upper and Lower Limits of campaign is (-6.530221991593775, 12.057903308087548)\n",
      "\n",
      "campaign has 840 outliers : [13 19 14 14 24 16 14 32 18 22 32 32 13 18 13 22 15 17 13 16 25 18 15 21\n",
      " 17 17 19 19 25 32 19 14 43 51 13 13 63 41 26 14 15 14 15 26 14 13 13 28\n",
      " 13 55 14 16 13 15 14 14 18 13 50 17 14 14 13 16 13 17 17 38 14 14 23 20\n",
      " 16 16 13 13 16 13 24 18 18 16 14 17 13 15 16 22 24 22 23 15 15 17 14 15\n",
      " 14 18 16 18 25 16 19 13 21 32 21 15 25 16 13 15 16 14 13 13 13 26 15 28\n",
      " 32 18 13 21 18 21 20 14 19 16 14 17 15 13 16 15 15 13 24 15 29 17 16 13\n",
      " 26 26 31 15 18 16 13 13 13 24 24 13 18 18 13 17 17 37 17 26 16 17 13 17\n",
      " 29 19 14 16 17 21 29 15 15 17 19 25 21 15 14 30 46 21 25 18 20 18 16 13\n",
      " 23 15 17 27 16 21 29 20 30 14 23 13 41 13 14 20 13 14 31 14 16 18 25 28\n",
      " 15 28 24 19 18 22 20 17 25 20 37 18 14 13 26 18 58 29 14 22 27 25 13 18\n",
      " 13 21 14 20 20 22 21 16 14 19 29 14 14 15 13 27 31 29 14 13 13 15 18 33\n",
      " 17 25 19 26 16 18 20 16 19 24 23 24 13 28 15 18 19 14 15 30 33 13 20 13\n",
      " 24 15 17 26 35 13 16 17 20 43 17 20 15 14 27 14 13 14 19 14 13 14 20 17\n",
      " 17 17 16 20 15 15 31 28 21 14 20 13 16 17 21 13 15 17 13 13 17 13 16 15\n",
      " 17 13 29 21 24 14 14 19 16 16 15 13 13 30 15 17 14 16 16 13 18 31 18 21\n",
      " 14 16 19 20 31 15 19 16 14 18 15 13 17 16 17 17 16 17 21 23 15 22 16 15\n",
      " 21 18 19 18 35 13 13 13 23 19 15 23 33 21 14 29 26 29 13 20 22 20 24 25\n",
      " 33 19 20 23 20 31 21 13 17 15 17 28 14 24 25 13 14 14 19 19 21 18 28 19\n",
      " 17 25 25 16 17 29 26 23 13 24 23 22 34 16 31 21 13 15 17 18 21 14 36 15\n",
      " 13 13 13 21 13 15 33 16 27 16 36 13 21 14 31 22 34 39 20 20 20 21 18 27\n",
      " 22 28 18 28 20 19 33 27 20 43 32 20 34 23 31 36 13 17 19 30 24 36 29 29\n",
      " 16 38 28 15 50 13 29 15 16 22 23 29 44 25 17 35 30 15 13 13 23 14 16 20\n",
      " 13 17 25 32 31 34 13 25 16 17 13 29 22 27 18 15 13 15 16 17 13 19 14 15\n",
      " 14 17 13 13 13 15 14 13 14 16 16 15 14 20 15 13 20 25 17 16 17 18 18 20\n",
      " 14 15 20 14 13 19 18 14 13 21 22 13 20 13 14 30 15 15 21 18 13 16 13 18\n",
      " 16 13 23 13 13 17 15 22 18 17 19 16 22 19 16 18 18 17 16 21 17 13 15 14\n",
      " 22 16 23 14 15 20 17 14 16 16 17 18 38 15 16 16 13 19 20 14 20 16 13 14\n",
      " 13 13 14 14 17 16 22 13 34 14 13 15 20 13 16 13 19 16 15 28 14 22 28 23\n",
      " 13 15 15 15 13 21 14 18 15 18 16 17 23 28 19 13 15 19 19 20 13 13 14 14\n",
      " 17 19 13 21 14 17 14 15 19 15 18 16 15 18 20 14 24 17 19 21 13 13 13 35\n",
      " 16 32 17 21 13 15 15 19 14 16 22 15 28 25 28 14 14 24 26 13 24 19 20 19\n",
      " 16 15 16 14 13 13 15 23 17 13 18 16 14 23 25 23 25 13 17 19 14 20 17 14\n",
      " 27 18 13 13 13 13 26 24 14 15 31 30 25 22 19 22 14 17 16 27 15 13 16 16\n",
      " 13 17 17 13 20 13 24 13 14 19 18 16 15 17 14 21 14 13 16 17 15 14 15 16\n",
      " 18 13 14 21 18 21 20 13 13 19 15 14 17 14 16 23 15 15 15 14 15 13 13 16]\n",
      "\n",
      "\n",
      "**********************************************************\n",
      "\n",
      "\n",
      "\n",
      "mean of : pdays is 40.19782796222158\n",
      "Standard deviation of : pdays is 100.1287459906047\n",
      "Upper and Lower Limits of pdays is (-260.18841000959253, 340.5840659340357)\n",
      "\n",
      "pdays has 1723 outliers : [341 344 342 ... 374 550 530]\n",
      "\n",
      "\n",
      "**********************************************************\n",
      "\n",
      "\n",
      "\n",
      "mean of : previous is 0.5803233726305546\n",
      "Standard deviation of : previous is 2.3034410449314233\n",
      "Upper and Lower Limits of previous is (-6.329999762163715, 7.490646507424825)\n",
      "\n",
      "previous has 582 outliers : [ 11  16  10  10  12  18   9  21   8  11   9   8  14  12   8  11  15  14\n",
      "  11   8   9   8  10   9   8  12  10  14   9   8  11  26  37  16   8  13\n",
      "   8  15   8  25  13   8   8  20   9  10  11   8   9   8  27   8   8   8\n",
      "   9  16  12  15   8  13  13   8   9   8  27  10  17  13   9  23  38  11\n",
      "   8   8  29  18  24   8   9  25  14  17   8  51  10 275   9  14   8  13\n",
      "   9   8  23  14  13  10   9  11  12  16   9  20   8  24  13   8   9  13\n",
      "  15  11  12  18   9   9   8   8  29  13  27  15   8  10   9  27  14   9\n",
      "  13   9  15   9   9  12  12   8  13   8  12   9  17  15  16  15  22  10\n",
      "  11  25   8   8   8   9  12   8   9  13  16   8  11  24   8  20  15  11\n",
      "   9  10  15   9   8   8  19   8  21  19   9  10   9   9   9  18  13   9\n",
      "  12  12  10   8  13   8   9  15  10  12  11  14   9   9   8   8  11   9\n",
      "   9  15  23  11  12  17  15  14   8  23  12   9  20  20  12   9  11  11\n",
      "  17  30   8  11  11  13   9  11   8   8   9  11  11   8  12  11  19   9\n",
      "  29   8  12  10   9  19  10  17  12   8  10  11   9  11  12   9  11  18\n",
      "  11  15  10  12  30   9   8  22  11  10  13   8  16  13   8  17   9   9\n",
      "  22  10   8   9  17   8  22  10  11  24  23   9  10  11  10  11  11   8\n",
      "   8  11  13  38  12   8  13  12  10   8   8  10  10  14  10   9  19  21\n",
      "  10   8  11  23  27  17  12   8  15  29  12   8  10  58   8  12  24  18\n",
      "   9  13   9  16   9  13  22   8  11  10  25   9   9  15  28   8  11  11\n",
      "  13   8  14  32  19  13  13  15   8   9   8  10   8  10  15  21   8  10\n",
      "   9  11  14  19   8  16  26  11  10   9  10  10  17  10  13   8  11  12\n",
      "  11   8   8  13  16  19   8  20   8   8  12   8  10   8  12   8  17  11\n",
      "   8   8   8  11  37   8   9  19  17   9  11  10   9  40  10   9  13   9\n",
      "  10   8   9  12   9  20   8   8   8  13   9   9  15   9  11  10  10  11\n",
      "   8  13   9  10  28   8  12   8  11   9   9   8  17  11   8  11  11   8\n",
      "  10   8   8  10  10  10  10   8   8   9   9   9   9  11   9  12   8   9\n",
      "  12   9   8  10  17  13  19  19  10  30   8   9  10  11   9   8   8  55\n",
      "   9  22  10  10  14   8   8   8   8  17  11   9  12  13   9  11  10  23\n",
      "   8   8   8   9  23   8  10  10  15   9  11  35   8  10  14   8  20  10\n",
      "  10   8  10   8   9  14  14  11  11   8  11   9   8  13   8   9  12  41\n",
      "  11  12  11  13  10   8  14  16  12   9  12   9  12  12   8  13  14  16\n",
      "  11  10  14  12  10  11  10  11  11  13  10   8  12   8  10  13  13  12\n",
      "   8  16   8  12   8  11]\n",
      "\n",
      "\n",
      "**********************************************************\n",
      "\n"
     ]
    }
   ],
   "source": [
    "print('Outlier infos of the features:')\n",
    "for column_name in train_num.columns :\n",
    "    upper_band , lower_band = checkZscore(outlier_check_cols , column_name)\n",
    "    outliers = train_num[(train_num[column_name] < lower_band) | (train_num[column_name] > upper_band)][column_name].values\n",
    "    print('\\n' + str(column_name) + \" has \" + str(len(outliers)) + \" outliers : \"    + str(outliers))\n",
    "    print('\\n\\n**********************************************************\\n')"
   ]
  },
  {
   "cell_type": "markdown",
   "id": "40edb62b-6885-4839-b9af-9094abec4446",
   "metadata": {},
   "source": [
    "<h5><i> We can see that the outliers are present in age : 381 , balance : 745, duration : 963, campaign : 840, pdays : 1723 , previous : 582 </i></h5>"
   ]
  },
  {
   "cell_type": "code",
   "execution_count": null,
   "id": "b4954b07-92bf-4913-9f0b-deb3b7a4a829",
   "metadata": {},
   "outputs": [],
   "source": []
  }
 ],
 "metadata": {
  "kernelspec": {
   "display_name": "Python 3 (ipykernel)",
   "language": "python",
   "name": "python3"
  },
  "language_info": {
   "codemirror_mode": {
    "name": "ipython",
    "version": 3
   },
   "file_extension": ".py",
   "mimetype": "text/x-python",
   "name": "python",
   "nbconvert_exporter": "python",
   "pygments_lexer": "ipython3",
   "version": "3.11.7"
  }
 },
 "nbformat": 4,
 "nbformat_minor": 5
}
