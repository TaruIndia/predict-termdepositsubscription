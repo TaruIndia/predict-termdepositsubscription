{
  "nbformat": 4,
  "nbformat_minor": 0,
  "metadata": {
    "colab": {
      "provenance": [],
      "collapsed_sections": [
        "nySQX8v6k-HN"
      ]
    },
    "kernelspec": {
      "name": "python3",
      "display_name": "Python 3"
    },
    "language_info": {
      "name": "python"
    }
  },
  "cells": [
    {
      "cell_type": "markdown",
      "source": [
        "#Importing libraries"
      ],
      "metadata": {
        "id": "cDqhbr_nkzt1"
      }
    },
    {
      "cell_type": "code",
      "execution_count": null,
      "metadata": {
        "id": "Luy7Kul57M5W"
      },
      "outputs": [],
      "source": [
        "import pandas as pd\n",
        "import numpy as np\n",
        "from scipy.stats import winsorize"
      ]
    },
    {
      "cell_type": "markdown",
      "source": [
        "#Loading Datasets"
      ],
      "metadata": {
        "id": "Y6KlRWWbk33J"
      }
    },
    {
      "cell_type": "code",
      "source": [
        "bank_additional = pd.read_csv(\"/content/bank-additional.csv\", delimiter= \";\")"
      ],
      "metadata": {
        "id": "ZRPOg5FoibpR"
      },
      "execution_count": 100,
      "outputs": []
    },
    {
      "cell_type": "code",
      "source": [
        "bank_additional_full = pd.read_csv(\"/content/bank-additional-full.csv\", delimiter= \";\")"
      ],
      "metadata": {
        "id": "KuQNc9N6inmZ"
      },
      "execution_count": 80,
      "outputs": []
    },
    {
      "cell_type": "code",
      "source": [
        "bank = pd.read_csv(\"/content/bank.csv\", delimiter= \";\")"
      ],
      "metadata": {
        "id": "q6-wnpUAjB5-"
      },
      "execution_count": 81,
      "outputs": []
    },
    {
      "cell_type": "code",
      "source": [
        "bank_full = pd.read_csv(\"/content/bank-full.csv\", delimiter= \";\")"
      ],
      "metadata": {
        "id": "WzlesV2ajd6b"
      },
      "execution_count": 102,
      "outputs": []
    },
    {
      "cell_type": "markdown",
      "source": [
        "#Data Info"
      ],
      "metadata": {
        "id": "nySQX8v6k-HN"
      }
    },
    {
      "cell_type": "code",
      "source": [
        "print (bank_additional.info())"
      ],
      "metadata": {
        "colab": {
          "base_uri": "https://localhost:8080/"
        },
        "id": "xoOCVoYhkAx7",
        "outputId": "20664cac-afdb-4a05-d62f-57110bd67b5f"
      },
      "execution_count": null,
      "outputs": [
        {
          "output_type": "stream",
          "name": "stdout",
          "text": [
            "<class 'pandas.core.frame.DataFrame'>\n",
            "RangeIndex: 4119 entries, 0 to 4118\n",
            "Data columns (total 21 columns):\n",
            " #   Column          Non-Null Count  Dtype  \n",
            "---  ------          --------------  -----  \n",
            " 0   age             4119 non-null   int64  \n",
            " 1   job             4119 non-null   object \n",
            " 2   marital         4119 non-null   object \n",
            " 3   education       4119 non-null   object \n",
            " 4   default         4119 non-null   object \n",
            " 5   housing         4119 non-null   object \n",
            " 6   loan            4119 non-null   object \n",
            " 7   contact         4119 non-null   object \n",
            " 8   month           4119 non-null   object \n",
            " 9   day_of_week     4119 non-null   object \n",
            " 10  duration        4119 non-null   int64  \n",
            " 11  campaign        4119 non-null   int64  \n",
            " 12  pdays           4119 non-null   int64  \n",
            " 13  previous        4119 non-null   int64  \n",
            " 14  poutcome        4119 non-null   object \n",
            " 15  emp.var.rate    4119 non-null   float64\n",
            " 16  cons.price.idx  4119 non-null   float64\n",
            " 17  cons.conf.idx   4119 non-null   float64\n",
            " 18  euribor3m       4119 non-null   float64\n",
            " 19  nr.employed     4119 non-null   float64\n",
            " 20  y               4119 non-null   object \n",
            "dtypes: float64(5), int64(5), object(11)\n",
            "memory usage: 675.9+ KB\n",
            "None\n"
          ]
        }
      ]
    },
    {
      "cell_type": "code",
      "source": [
        "print (bank_additional_full.info())"
      ],
      "metadata": {
        "colab": {
          "base_uri": "https://localhost:8080/"
        },
        "id": "H5LMOSW9kJRg",
        "outputId": "8ec52a69-91be-49ca-cfca-b7954cd1a8ec"
      },
      "execution_count": null,
      "outputs": [
        {
          "output_type": "stream",
          "name": "stdout",
          "text": [
            "<class 'pandas.core.frame.DataFrame'>\n",
            "RangeIndex: 41188 entries, 0 to 41187\n",
            "Data columns (total 21 columns):\n",
            " #   Column          Non-Null Count  Dtype  \n",
            "---  ------          --------------  -----  \n",
            " 0   age             41188 non-null  int64  \n",
            " 1   job             41188 non-null  object \n",
            " 2   marital         41188 non-null  object \n",
            " 3   education       41188 non-null  object \n",
            " 4   default         41188 non-null  object \n",
            " 5   housing         41188 non-null  object \n",
            " 6   loan            41188 non-null  object \n",
            " 7   contact         41188 non-null  object \n",
            " 8   month           41188 non-null  object \n",
            " 9   day_of_week     41188 non-null  object \n",
            " 10  duration        41188 non-null  int64  \n",
            " 11  campaign        41188 non-null  int64  \n",
            " 12  pdays           41188 non-null  int64  \n",
            " 13  previous        41188 non-null  int64  \n",
            " 14  poutcome        41188 non-null  object \n",
            " 15  emp.var.rate    41188 non-null  float64\n",
            " 16  cons.price.idx  41188 non-null  float64\n",
            " 17  cons.conf.idx   41188 non-null  float64\n",
            " 18  euribor3m       41188 non-null  float64\n",
            " 19  nr.employed     41188 non-null  float64\n",
            " 20  y               41188 non-null  object \n",
            "dtypes: float64(5), int64(5), object(11)\n",
            "memory usage: 6.6+ MB\n",
            "None\n"
          ]
        }
      ]
    },
    {
      "cell_type": "code",
      "source": [
        "print (bank.info())"
      ],
      "metadata": {
        "id": "_357NYVEo4VB",
        "outputId": "57faac9d-306e-4939-ddfe-e5ada2e39f9d",
        "colab": {
          "base_uri": "https://localhost:8080/"
        }
      },
      "execution_count": null,
      "outputs": [
        {
          "output_type": "stream",
          "name": "stdout",
          "text": [
            "<class 'pandas.core.frame.DataFrame'>\n",
            "RangeIndex: 4521 entries, 0 to 4520\n",
            "Data columns (total 17 columns):\n",
            " #   Column     Non-Null Count  Dtype \n",
            "---  ------     --------------  ----- \n",
            " 0   age        4521 non-null   int64 \n",
            " 1   job        4521 non-null   object\n",
            " 2   marital    4521 non-null   object\n",
            " 3   education  4521 non-null   object\n",
            " 4   default    4521 non-null   object\n",
            " 5   balance    4521 non-null   int64 \n",
            " 6   housing    4521 non-null   object\n",
            " 7   loan       4521 non-null   object\n",
            " 8   contact    4521 non-null   object\n",
            " 9   day        4521 non-null   int64 \n",
            " 10  month      4521 non-null   object\n",
            " 11  duration   4521 non-null   int64 \n",
            " 12  campaign   4521 non-null   int64 \n",
            " 13  pdays      4521 non-null   int64 \n",
            " 14  previous   4521 non-null   int64 \n",
            " 15  poutcome   4521 non-null   object\n",
            " 16  y          4521 non-null   object\n",
            "dtypes: int64(7), object(10)\n",
            "memory usage: 600.6+ KB\n",
            "None\n"
          ]
        }
      ]
    },
    {
      "cell_type": "code",
      "source": [
        "print (bank_full.info())"
      ],
      "metadata": {
        "id": "Dkx15nAYo7rk",
        "outputId": "7547e34f-a6d9-40f7-ff1e-0430019d3bac",
        "colab": {
          "base_uri": "https://localhost:8080/"
        }
      },
      "execution_count": null,
      "outputs": [
        {
          "output_type": "stream",
          "name": "stdout",
          "text": [
            "<class 'pandas.core.frame.DataFrame'>\n",
            "RangeIndex: 45211 entries, 0 to 45210\n",
            "Data columns (total 17 columns):\n",
            " #   Column     Non-Null Count  Dtype \n",
            "---  ------     --------------  ----- \n",
            " 0   age        45211 non-null  int64 \n",
            " 1   job        45211 non-null  object\n",
            " 2   marital    45211 non-null  object\n",
            " 3   education  45211 non-null  object\n",
            " 4   default    45211 non-null  object\n",
            " 5   balance    45211 non-null  int64 \n",
            " 6   housing    45211 non-null  object\n",
            " 7   loan       45211 non-null  object\n",
            " 8   contact    45211 non-null  object\n",
            " 9   day        45211 non-null  int64 \n",
            " 10  month      45211 non-null  object\n",
            " 11  duration   45211 non-null  int64 \n",
            " 12  campaign   45211 non-null  int64 \n",
            " 13  pdays      45211 non-null  int64 \n",
            " 14  previous   45211 non-null  int64 \n",
            " 15  poutcome   45211 non-null  object\n",
            " 16  y          45211 non-null  object\n",
            "dtypes: int64(7), object(10)\n",
            "memory usage: 5.9+ MB\n",
            "None\n"
          ]
        }
      ]
    },
    {
      "cell_type": "code",
      "source": [
        "print(bank_additional.shape)"
      ],
      "metadata": {
        "colab": {
          "base_uri": "https://localhost:8080/"
        },
        "id": "T2LpU4_ZlRjm",
        "outputId": "b5e8f00f-e040-46fa-e180-42c18f627edd"
      },
      "execution_count": null,
      "outputs": [
        {
          "output_type": "stream",
          "name": "stdout",
          "text": [
            "(4119, 21)\n"
          ]
        }
      ]
    },
    {
      "cell_type": "code",
      "source": [
        "print(bank_additional_full.shape)"
      ],
      "metadata": {
        "colab": {
          "base_uri": "https://localhost:8080/"
        },
        "id": "MtgNCz6LmZQu",
        "outputId": "7bf3db4f-608d-484e-a9ed-7d213beb82be"
      },
      "execution_count": null,
      "outputs": [
        {
          "output_type": "stream",
          "name": "stdout",
          "text": [
            "(41188, 21)\n"
          ]
        }
      ]
    },
    {
      "cell_type": "code",
      "source": [
        "print(bank.shape)"
      ],
      "metadata": {
        "colab": {
          "base_uri": "https://localhost:8080/"
        },
        "id": "6YR_YDpqmaBC",
        "outputId": "90b0085b-1e4d-4c1b-ee15-e2525b640604"
      },
      "execution_count": null,
      "outputs": [
        {
          "output_type": "stream",
          "name": "stdout",
          "text": [
            "(4521, 17)\n"
          ]
        }
      ]
    },
    {
      "cell_type": "code",
      "source": [
        "print(bank_full.shape)"
      ],
      "metadata": {
        "colab": {
          "base_uri": "https://localhost:8080/"
        },
        "id": "o1GA77hRmauE",
        "outputId": "fe0ba291-a94c-428e-c299-0d90d2a19ed4"
      },
      "execution_count": null,
      "outputs": [
        {
          "output_type": "stream",
          "name": "stdout",
          "text": [
            "(45211, 17)\n"
          ]
        }
      ]
    },
    {
      "cell_type": "markdown",
      "source": [
        "#Data Cleaning"
      ],
      "metadata": {
        "id": "f4fy5GT4lHMX"
      }
    },
    {
      "cell_type": "code",
      "source": [
        "#Checking for missing values\n",
        "print(\"\\nMissing Values:\\n\", bank.isnull().sum())"
      ],
      "metadata": {
        "id": "KY2awcc2lMaW",
        "colab": {
          "base_uri": "https://localhost:8080/"
        },
        "outputId": "21600d23-9c11-46d3-dace-3f7a7b5c5a2d"
      },
      "execution_count": null,
      "outputs": [
        {
          "output_type": "stream",
          "name": "stdout",
          "text": [
            "\n",
            "Missing Values:\n",
            " age          0\n",
            "job          0\n",
            "marital      0\n",
            "education    0\n",
            "default      0\n",
            "balance      0\n",
            "housing      0\n",
            "loan         0\n",
            "contact      0\n",
            "day          0\n",
            "month        0\n",
            "duration     0\n",
            "campaign     0\n",
            "pdays        0\n",
            "previous     0\n",
            "poutcome     0\n",
            "y            0\n",
            "dtype: int64\n"
          ]
        }
      ]
    },
    {
      "cell_type": "code",
      "source": [
        "print(\"\\nMissing Values:\\n\", bank_full.isnull().sum())"
      ],
      "metadata": {
        "colab": {
          "base_uri": "https://localhost:8080/"
        },
        "id": "AMNGsTw1Mb1h",
        "outputId": "48659857-8bdd-4b44-9b8d-8cf380f7d602"
      },
      "execution_count": null,
      "outputs": [
        {
          "output_type": "stream",
          "name": "stdout",
          "text": [
            "\n",
            "Missing Values:\n",
            " age          0\n",
            "job          0\n",
            "marital      0\n",
            "education    0\n",
            "default      0\n",
            "balance      0\n",
            "housing      0\n",
            "loan         0\n",
            "contact      0\n",
            "day          0\n",
            "month        0\n",
            "duration     0\n",
            "campaign     0\n",
            "pdays        0\n",
            "previous     0\n",
            "poutcome     0\n",
            "y            0\n",
            "dtype: int64\n"
          ]
        }
      ]
    },
    {
      "cell_type": "code",
      "source": [
        "print(\"\\nMissing Values:\\n\", bank_additional.isnull().sum())"
      ],
      "metadata": {
        "colab": {
          "base_uri": "https://localhost:8080/"
        },
        "id": "9vpUrHI6MeJP",
        "outputId": "76378a08-2a60-49d2-9e33-8b04c9a167ac"
      },
      "execution_count": null,
      "outputs": [
        {
          "output_type": "stream",
          "name": "stdout",
          "text": [
            "\n",
            "Missing Values:\n",
            " age               0\n",
            "job               0\n",
            "marital           0\n",
            "education         0\n",
            "default           0\n",
            "housing           0\n",
            "loan              0\n",
            "contact           0\n",
            "month             0\n",
            "day_of_week       0\n",
            "duration          0\n",
            "campaign          0\n",
            "pdays             0\n",
            "previous          0\n",
            "poutcome          0\n",
            "emp.var.rate      0\n",
            "cons.price.idx    0\n",
            "cons.conf.idx     0\n",
            "euribor3m         0\n",
            "nr.employed       0\n",
            "y                 0\n",
            "dtype: int64\n"
          ]
        }
      ]
    },
    {
      "cell_type": "code",
      "source": [
        "print(\"\\nMissing Values:\\n\", bank_additional_full.isnull().sum())"
      ],
      "metadata": {
        "colab": {
          "base_uri": "https://localhost:8080/"
        },
        "id": "7I658RMlMgwH",
        "outputId": "3419bcd1-acaa-4dca-c6a0-17afea29055b"
      },
      "execution_count": null,
      "outputs": [
        {
          "output_type": "stream",
          "name": "stdout",
          "text": [
            "\n",
            "Missing Values:\n",
            " age               0\n",
            "job               0\n",
            "marital           0\n",
            "education         0\n",
            "default           0\n",
            "housing           0\n",
            "loan              0\n",
            "contact           0\n",
            "month             0\n",
            "day_of_week       0\n",
            "duration          0\n",
            "campaign          0\n",
            "pdays             0\n",
            "previous          0\n",
            "poutcome          0\n",
            "emp.var.rate      0\n",
            "cons.price.idx    0\n",
            "cons.conf.idx     0\n",
            "euribor3m         0\n",
            "nr.employed       0\n",
            "y                 0\n",
            "dtype: int64\n"
          ]
        }
      ]
    },
    {
      "cell_type": "markdown",
      "source": [
        "#Bank"
      ],
      "metadata": {
        "id": "H5TyOlqxG48J"
      }
    },
    {
      "cell_type": "code",
      "source": [
        "print(bank.describe())"
      ],
      "metadata": {
        "colab": {
          "base_uri": "https://localhost:8080/"
        },
        "id": "LUCI1qdjLpxB",
        "outputId": "6f360330-39df-4c9b-fa6e-162382191c85"
      },
      "execution_count": 83,
      "outputs": [
        {
          "output_type": "stream",
          "name": "stdout",
          "text": [
            "               age       balance          day     duration     campaign  \\\n",
            "count  4521.000000   4521.000000  4521.000000  4521.000000  4521.000000   \n",
            "mean     41.170095   1422.657819    15.915284   263.961292     2.793630   \n",
            "std      10.576211   3009.638142     8.247667   259.856633     3.109807   \n",
            "min      19.000000  -3313.000000     1.000000     4.000000     1.000000   \n",
            "25%      33.000000     69.000000     9.000000   104.000000     1.000000   \n",
            "50%      39.000000    444.000000    16.000000   185.000000     2.000000   \n",
            "75%      49.000000   1480.000000    21.000000   329.000000     3.000000   \n",
            "max      87.000000  71188.000000    31.000000  3025.000000    50.000000   \n",
            "\n",
            "             pdays     previous  \n",
            "count  4521.000000  4521.000000  \n",
            "mean     39.766645     0.542579  \n",
            "std     100.121124     1.693562  \n",
            "min      -1.000000     0.000000  \n",
            "25%      -1.000000     0.000000  \n",
            "50%      -1.000000     0.000000  \n",
            "75%      -1.000000     0.000000  \n",
            "max     871.000000    25.000000  \n"
          ]
        }
      ]
    },
    {
      "cell_type": "code",
      "source": [
        "# Capping outliers using winsorize\n",
        "def winsorize(bank, column):\n",
        "    q1 = bank[column].quantile(0.25)\n",
        "    q3 = bank[column].quantile(0.75)\n",
        "    iqr = q3 - q1\n",
        "    lower_bound = q1 - 1.5 * iqr\n",
        "    upper_bound = q3 + 1.5 * iqr\n",
        "    bank[column] = np.where(bank[column] < lower_bound, lower_bound, np.where(bank[column] > upper_bound, upper_bound, bank[column]))\n",
        "    return bank\n",
        "\n",
        "numeric_columns = bank.select_dtypes(include=np.number).columns\n",
        "for col in numeric_columns:\n",
        "    bank = winsorize(bank=bank, column=col)"
      ],
      "metadata": {
        "id": "2OUjy8T-TEuC"
      },
      "execution_count": 84,
      "outputs": []
    },
    {
      "cell_type": "code",
      "source": [
        "print(bank.describe())"
      ],
      "metadata": {
        "colab": {
          "base_uri": "https://localhost:8080/"
        },
        "id": "s5yXodYeinH1",
        "outputId": "10ee9239-ffc9-4152-b543-37adb0b8469f"
      },
      "execution_count": 85,
      "outputs": [
        {
          "output_type": "stream",
          "name": "stdout",
          "text": [
            "               age      balance          day     duration     campaign  \\\n",
            "count  4521.000000  4521.000000  4521.000000  4521.000000  4521.000000   \n",
            "mean     41.123203   973.493696    15.915284   241.785667     2.412962   \n",
            "std      10.416974  1240.356566     8.247667   185.397346     1.622028   \n",
            "min      19.000000 -2047.500000     1.000000     4.000000     1.000000   \n",
            "25%      33.000000    69.000000     9.000000   104.000000     1.000000   \n",
            "50%      39.000000   444.000000    16.000000   185.000000     2.000000   \n",
            "75%      49.000000  1480.000000    21.000000   329.000000     3.000000   \n",
            "max      73.000000  3596.500000    31.000000   666.500000     6.000000   \n",
            "\n",
            "        pdays  previous  \n",
            "count  4521.0    4521.0  \n",
            "mean     -1.0       0.0  \n",
            "std       0.0       0.0  \n",
            "min      -1.0       0.0  \n",
            "25%      -1.0       0.0  \n",
            "50%      -1.0       0.0  \n",
            "75%      -1.0       0.0  \n",
            "max      -1.0       0.0  \n"
          ]
        }
      ]
    },
    {
      "cell_type": "code",
      "source": [
        "print(bank.head())"
      ],
      "metadata": {
        "colab": {
          "base_uri": "https://localhost:8080/"
        },
        "id": "qas9erpA4M0h",
        "outputId": "04df34b0-5066-4136-f27f-31c4e8a2b595"
      },
      "execution_count": 86,
      "outputs": [
        {
          "output_type": "stream",
          "name": "stdout",
          "text": [
            "    age          job  marital  education default  balance housing loan  \\\n",
            "0  30.0   unemployed  married    primary      no   1787.0      no   no   \n",
            "1  33.0     services  married  secondary      no   3596.5     yes  yes   \n",
            "2  35.0   management   single   tertiary      no   1350.0     yes   no   \n",
            "3  30.0   management  married   tertiary      no   1476.0     yes  yes   \n",
            "4  59.0  blue-collar  married  secondary      no      0.0     yes   no   \n",
            "\n",
            "    contact   day month  duration  campaign  pdays  previous poutcome   y  \n",
            "0  cellular  19.0   oct      79.0       1.0   -1.0       0.0  unknown  no  \n",
            "1  cellular  11.0   may     220.0       1.0   -1.0       0.0  failure  no  \n",
            "2  cellular  16.0   apr     185.0       1.0   -1.0       0.0  failure  no  \n",
            "3   unknown   3.0   jun     199.0       4.0   -1.0       0.0  unknown  no  \n",
            "4   unknown   5.0   may     226.0       1.0   -1.0       0.0  unknown  no  \n"
          ]
        }
      ]
    },
    {
      "cell_type": "code",
      "source": [
        "#dropping irrelevant columns\n",
        "bank_cleaned = bank.drop(columns=['duration'])"
      ],
      "metadata": {
        "id": "bPeka5C036EZ"
      },
      "execution_count": 88,
      "outputs": []
    },
    {
      "cell_type": "markdown",
      "source": [
        "#Bank Full"
      ],
      "metadata": {
        "id": "MQdX6Cou6Kn8"
      }
    },
    {
      "cell_type": "code",
      "source": [
        "print(bank_full.describe())"
      ],
      "metadata": {
        "colab": {
          "base_uri": "https://localhost:8080/"
        },
        "id": "zfddqCCS6KAW",
        "outputId": "918fcd07-ce97-4106-c4a3-3b5d87a2b8be"
      },
      "execution_count": 103,
      "outputs": [
        {
          "output_type": "stream",
          "name": "stdout",
          "text": [
            "                age        balance           day      duration      campaign  \\\n",
            "count  45211.000000   45211.000000  45211.000000  45211.000000  45211.000000   \n",
            "mean      40.936210    1362.272058     15.806419    258.163080      2.763841   \n",
            "std       10.618762    3044.765829      8.322476    257.527812      3.098021   \n",
            "min       18.000000   -8019.000000      1.000000      0.000000      1.000000   \n",
            "25%       33.000000      72.000000      8.000000    103.000000      1.000000   \n",
            "50%       39.000000     448.000000     16.000000    180.000000      2.000000   \n",
            "75%       48.000000    1428.000000     21.000000    319.000000      3.000000   \n",
            "max       95.000000  102127.000000     31.000000   4918.000000     63.000000   \n",
            "\n",
            "              pdays      previous  \n",
            "count  45211.000000  45211.000000  \n",
            "mean      40.197828      0.580323  \n",
            "std      100.128746      2.303441  \n",
            "min       -1.000000      0.000000  \n",
            "25%       -1.000000      0.000000  \n",
            "50%       -1.000000      0.000000  \n",
            "75%       -1.000000      0.000000  \n",
            "max      871.000000    275.000000  \n"
          ]
        }
      ]
    },
    {
      "cell_type": "code",
      "source": [
        "# Capping outliers using winsorize\n",
        "def winsorize(bank_full, column):\n",
        "    q1 = bank_full[column].quantile(0.25)\n",
        "    q3 = bank_full[column].quantile(0.75)\n",
        "    iqr = q3 - q1\n",
        "    lower_bound = q1 - 1.5 * iqr\n",
        "    upper_bound = q3 + 1.5 * iqr\n",
        "    bank_full[column] = np.where(bank_full[column] < lower_bound, lower_bound, np.where(bank_full[column] > upper_bound, upper_bound, bank_full[column]))\n",
        "    return bank_full\n",
        "\n",
        "numeric_columns = bank_full.select_dtypes(include=np.number).columns\n",
        "for col in numeric_columns:\n",
        "    bank_full = winsorize(bank_full=bank_full, column=col)"
      ],
      "metadata": {
        "id": "G_MXgTCc6UWI"
      },
      "execution_count": 90,
      "outputs": []
    },
    {
      "cell_type": "code",
      "source": [
        "print(bank_full.describe())"
      ],
      "metadata": {
        "colab": {
          "base_uri": "https://localhost:8080/"
        },
        "id": "AUSJ6Tzs7Qez",
        "outputId": "ccb91a69-249d-47c6-eaf1-ee2fcdd298d7"
      },
      "execution_count": 91,
      "outputs": [
        {
          "output_type": "stream",
          "name": "stdout",
          "text": [
            "                age       balance           day      duration      campaign  \\\n",
            "count  45211.000000  45211.000000  45211.000000  45211.000000  45211.000000   \n",
            "mean      40.868185    933.706974     15.806419    234.939307      2.392228   \n",
            "std       10.394895   1176.765369      8.322476    176.749932      1.600111   \n",
            "min       18.000000  -1962.000000      1.000000      0.000000      1.000000   \n",
            "25%       33.000000     72.000000      8.000000    103.000000      1.000000   \n",
            "50%       39.000000    448.000000     16.000000    180.000000      2.000000   \n",
            "75%       48.000000   1428.000000     21.000000    319.000000      3.000000   \n",
            "max       70.500000   3462.000000     31.000000    643.000000      6.000000   \n",
            "\n",
            "         pdays  previous  \n",
            "count  45211.0   45211.0  \n",
            "mean      -1.0       0.0  \n",
            "std        0.0       0.0  \n",
            "min       -1.0       0.0  \n",
            "25%       -1.0       0.0  \n",
            "50%       -1.0       0.0  \n",
            "75%       -1.0       0.0  \n",
            "max       -1.0       0.0  \n"
          ]
        }
      ]
    },
    {
      "cell_type": "code",
      "source": [
        "print(bank_full.columns)"
      ],
      "metadata": {
        "colab": {
          "base_uri": "https://localhost:8080/"
        },
        "id": "InoN8rGG7hQ0",
        "outputId": "ca5b4472-452c-413d-d1b4-f44e064d7a29"
      },
      "execution_count": 92,
      "outputs": [
        {
          "output_type": "stream",
          "name": "stdout",
          "text": [
            "Index(['age', 'job', 'marital', 'education', 'default', 'balance', 'housing',\n",
            "       'loan', 'contact', 'day', 'month', 'duration', 'campaign', 'pdays',\n",
            "       'previous', 'poutcome', 'y'],\n",
            "      dtype='object')\n"
          ]
        }
      ]
    },
    {
      "cell_type": "code",
      "source": [
        "#dropping irrelevant columns\n",
        "bank_cleaned = bank_full.drop(columns=['duration'])"
      ],
      "metadata": {
        "id": "aXzFTAKB7o40"
      },
      "execution_count": 93,
      "outputs": []
    },
    {
      "cell_type": "code",
      "source": [
        "print(bank_full.columns)"
      ],
      "metadata": {
        "colab": {
          "base_uri": "https://localhost:8080/"
        },
        "id": "IZAzT_l97sJ0",
        "outputId": "cdec860e-d292-4999-de85-d68588d45448"
      },
      "execution_count": 94,
      "outputs": [
        {
          "output_type": "stream",
          "name": "stdout",
          "text": [
            "Index(['age', 'job', 'marital', 'education', 'default', 'balance', 'housing',\n",
            "       'loan', 'contact', 'day', 'month', 'duration', 'campaign', 'pdays',\n",
            "       'previous', 'poutcome', 'y'],\n",
            "      dtype='object')\n"
          ]
        }
      ]
    },
    {
      "cell_type": "markdown",
      "source": [
        "#Bank Additional"
      ],
      "metadata": {
        "id": "94bqHqkh73P-"
      }
    },
    {
      "cell_type": "code",
      "source": [
        "print(bank_additional.describe())"
      ],
      "metadata": {
        "colab": {
          "base_uri": "https://localhost:8080/"
        },
        "id": "CGtXU3td76Z1",
        "outputId": "51bd62a3-2baa-409d-8719-19fff15c163c"
      },
      "execution_count": 104,
      "outputs": [
        {
          "output_type": "stream",
          "name": "stdout",
          "text": [
            "               age     duration     campaign        pdays     previous  \\\n",
            "count  4119.000000  4119.000000  4119.000000  4119.000000  4119.000000   \n",
            "mean     40.113620   256.788055     2.537266   960.422190     0.190337   \n",
            "std      10.313362   254.703736     2.568159   191.922786     0.541788   \n",
            "min      18.000000     0.000000     1.000000     0.000000     0.000000   \n",
            "25%      32.000000   103.000000     1.000000   999.000000     0.000000   \n",
            "50%      38.000000   181.000000     2.000000   999.000000     0.000000   \n",
            "75%      47.000000   317.000000     3.000000   999.000000     0.000000   \n",
            "max      88.000000  3643.000000    35.000000   999.000000     6.000000   \n",
            "\n",
            "       emp.var.rate  cons.price.idx  cons.conf.idx    euribor3m  nr.employed  \n",
            "count   4119.000000     4119.000000    4119.000000  4119.000000  4119.000000  \n",
            "mean       0.084972       93.579704     -40.499102     3.621356  5166.481695  \n",
            "std        1.563114        0.579349       4.594578     1.733591    73.667904  \n",
            "min       -3.400000       92.201000     -50.800000     0.635000  4963.600000  \n",
            "25%       -1.800000       93.075000     -42.700000     1.334000  5099.100000  \n",
            "50%        1.100000       93.749000     -41.800000     4.857000  5191.000000  \n",
            "75%        1.400000       93.994000     -36.400000     4.961000  5228.100000  \n",
            "max        1.400000       94.767000     -26.900000     5.045000  5228.100000  \n"
          ]
        }
      ]
    },
    {
      "cell_type": "code",
      "source": [
        "# Capping outliers using winsorize\n",
        "def winsorize(bank_additional, column):\n",
        "    q1 = bank_additional[column].quantile(0.25)\n",
        "    q3 = bank_additional[column].quantile(0.75)\n",
        "    iqr = q3 - q1\n",
        "    lower_bound = q1 - 1.5 * iqr\n",
        "    upper_bound = q3 + 1.5 * iqr\n",
        "    bank_additional[column] = np.where(bank_additional[column] < lower_bound, lower_bound, np.where(bank_additional[column] > upper_bound, upper_bound, bank_additional[column]))\n",
        "    return bank_additional\n",
        "\n",
        "numeric_columns = bank_additional.select_dtypes(include=np.number).columns\n",
        "for col in numeric_columns:\n",
        "    bank_additional = winsorize(bank_additional=bank_additional, column=col)"
      ],
      "metadata": {
        "id": "2qaej-im8IO5"
      },
      "execution_count": 105,
      "outputs": []
    },
    {
      "cell_type": "code",
      "source": [
        "print(bank_additional.describe())"
      ],
      "metadata": {
        "colab": {
          "base_uri": "https://localhost:8080/"
        },
        "id": "4g-mkhyX8fgK",
        "outputId": "3c1f3c04-96ce-4253-f3ca-f88d46e83e1a"
      },
      "execution_count": 106,
      "outputs": [
        {
          "output_type": "stream",
          "name": "stdout",
          "text": [
            "               age     duration     campaign   pdays  previous  emp.var.rate  \\\n",
            "count  4119.000000  4119.000000  4119.000000  4119.0    4119.0   4119.000000   \n",
            "mean     40.044792   234.268997     2.274096   999.0       0.0      0.084972   \n",
            "std      10.079498   175.007168     1.541836     0.0       0.0      1.563114   \n",
            "min      18.000000     0.000000     1.000000   999.0       0.0     -3.400000   \n",
            "25%      32.000000   103.000000     1.000000   999.0       0.0     -1.800000   \n",
            "50%      38.000000   181.000000     2.000000   999.0       0.0      1.100000   \n",
            "75%      47.000000   317.000000     3.000000   999.0       0.0      1.400000   \n",
            "max      69.500000   638.000000     6.000000   999.0       0.0      1.400000   \n",
            "\n",
            "       cons.price.idx  cons.conf.idx    euribor3m  nr.employed  \n",
            "count     4119.000000    4119.000000  4119.000000  4119.000000  \n",
            "mean        93.579704     -40.499624     3.621356  5166.481695  \n",
            "std          0.579349       4.593035     1.733591    73.667904  \n",
            "min         92.201000     -50.800000     0.635000  4963.600000  \n",
            "25%         93.075000     -42.700000     1.334000  5099.100000  \n",
            "50%         93.749000     -41.800000     4.857000  5191.000000  \n",
            "75%         93.994000     -36.400000     4.961000  5228.100000  \n",
            "max         94.767000     -26.950000     5.045000  5228.100000  \n"
          ]
        }
      ]
    },
    {
      "cell_type": "code",
      "source": [
        "#dropping irrelevant columns\n",
        "bank_additional = bank_additional.drop(columns=['duration'])"
      ],
      "metadata": {
        "id": "KgMxeEhY9dI6"
      },
      "execution_count": 107,
      "outputs": []
    },
    {
      "cell_type": "code",
      "source": [
        "print(bank_additional.columns)"
      ],
      "metadata": {
        "colab": {
          "base_uri": "https://localhost:8080/"
        },
        "id": "EuDoCyoz9mXK",
        "outputId": "68686172-f6e5-4574-bf5a-1d174415f944"
      },
      "execution_count": 108,
      "outputs": [
        {
          "output_type": "stream",
          "name": "stdout",
          "text": [
            "Index(['age', 'job', 'marital', 'education', 'default', 'housing', 'loan',\n",
            "       'contact', 'month', 'day_of_week', 'campaign', 'pdays', 'previous',\n",
            "       'poutcome', 'emp.var.rate', 'cons.price.idx', 'cons.conf.idx',\n",
            "       'euribor3m', 'nr.employed', 'y'],\n",
            "      dtype='object')\n"
          ]
        }
      ]
    },
    {
      "cell_type": "markdown",
      "source": [
        "#Bank Additional Full"
      ],
      "metadata": {
        "id": "cXgBjP3G9sEh"
      }
    },
    {
      "cell_type": "code",
      "source": [
        "print(bank_additional_full.describe())"
      ],
      "metadata": {
        "colab": {
          "base_uri": "https://localhost:8080/"
        },
        "id": "X5PjRpr59vw3",
        "outputId": "e86be5cc-9cd9-4903-9924-87a76383df6e"
      },
      "execution_count": 109,
      "outputs": [
        {
          "output_type": "stream",
          "name": "stdout",
          "text": [
            "               age      duration      campaign         pdays      previous  \\\n",
            "count  41188.00000  41188.000000  41188.000000  41188.000000  41188.000000   \n",
            "mean      40.02406    258.285010      2.567593    962.475454      0.172963   \n",
            "std       10.42125    259.279249      2.770014    186.910907      0.494901   \n",
            "min       17.00000      0.000000      1.000000      0.000000      0.000000   \n",
            "25%       32.00000    102.000000      1.000000    999.000000      0.000000   \n",
            "50%       38.00000    180.000000      2.000000    999.000000      0.000000   \n",
            "75%       47.00000    319.000000      3.000000    999.000000      0.000000   \n",
            "max       98.00000   4918.000000     56.000000    999.000000      7.000000   \n",
            "\n",
            "       emp.var.rate  cons.price.idx  cons.conf.idx     euribor3m   nr.employed  \n",
            "count  41188.000000    41188.000000   41188.000000  41188.000000  41188.000000  \n",
            "mean       0.081886       93.575664     -40.502600      3.621291   5167.035911  \n",
            "std        1.570960        0.578840       4.628198      1.734447     72.251528  \n",
            "min       -3.400000       92.201000     -50.800000      0.634000   4963.600000  \n",
            "25%       -1.800000       93.075000     -42.700000      1.344000   5099.100000  \n",
            "50%        1.100000       93.749000     -41.800000      4.857000   5191.000000  \n",
            "75%        1.400000       93.994000     -36.400000      4.961000   5228.100000  \n",
            "max        1.400000       94.767000     -26.900000      5.045000   5228.100000  \n"
          ]
        }
      ]
    },
    {
      "cell_type": "code",
      "source": [
        "# Capping outliers using winsorize\n",
        "def winsorize(bank_additional_full, column):\n",
        "    q1 = bank_additional_full[column].quantile(0.25)\n",
        "    q3 = bank_additional_full[column].quantile(0.75)\n",
        "    iqr = q3 - q1\n",
        "    lower_bound = q1 - 1.5 * iqr\n",
        "    upper_bound = q3 + 1.5 * iqr\n",
        "    bank_additional_full[column] = np.where(bank_additional_full[column] < lower_bound, lower_bound, np.where(bank_additional_full[column] > upper_bound, upper_bound, bank_additional_full[column]))\n",
        "    return bank_additional_full\n",
        "\n",
        "numeric_columns = bank_additional_full.select_dtypes(include=np.number).columns\n",
        "for col in numeric_columns:\n",
        "    bank_additional_full = winsorize(bank_additional_full=bank_additional_full, column=col)"
      ],
      "metadata": {
        "id": "5NjjkHjR98Ff"
      },
      "execution_count": 110,
      "outputs": []
    },
    {
      "cell_type": "code",
      "source": [
        "print(bank_additional_full.describe())"
      ],
      "metadata": {
        "colab": {
          "base_uri": "https://localhost:8080/"
        },
        "id": "qrygVTfX-puG",
        "outputId": "3062f6ef-c056-43c2-930e-f7be2392e619"
      },
      "execution_count": 111,
      "outputs": [
        {
          "output_type": "stream",
          "name": "stdout",
          "text": [
            "                age      duration      campaign    pdays  previous  \\\n",
            "count  41188.000000  41188.000000  41188.000000  41188.0   41188.0   \n",
            "mean      39.939485    234.997317      2.275274    999.0       0.0   \n",
            "std       10.129367    177.353309      1.550510      0.0       0.0   \n",
            "min       17.000000      0.000000      1.000000    999.0       0.0   \n",
            "25%       32.000000    102.000000      1.000000    999.0       0.0   \n",
            "50%       38.000000    180.000000      2.000000    999.0       0.0   \n",
            "75%       47.000000    319.000000      3.000000    999.0       0.0   \n",
            "max       69.500000    644.500000      6.000000    999.0       0.0   \n",
            "\n",
            "       emp.var.rate  cons.price.idx  cons.conf.idx     euribor3m   nr.employed  \n",
            "count  41188.000000    41188.000000   41188.000000  41188.000000  41188.000000  \n",
            "mean       0.081886       93.575664     -40.503143      3.621291   5167.035911  \n",
            "std        1.570960        0.578840       4.626606      1.734447     72.251528  \n",
            "min       -3.400000       92.201000     -50.800000      0.634000   4963.600000  \n",
            "25%       -1.800000       93.075000     -42.700000      1.344000   5099.100000  \n",
            "50%        1.100000       93.749000     -41.800000      4.857000   5191.000000  \n",
            "75%        1.400000       93.994000     -36.400000      4.961000   5228.100000  \n",
            "max        1.400000       94.767000     -26.950000      5.045000   5228.100000  \n"
          ]
        }
      ]
    },
    {
      "cell_type": "code",
      "source": [
        "print(bank_additional_full.columns)"
      ],
      "metadata": {
        "colab": {
          "base_uri": "https://localhost:8080/"
        },
        "id": "kYQJU3x0-woW",
        "outputId": "baba7b90-53fc-4732-fb70-5ff9edabe41a"
      },
      "execution_count": 112,
      "outputs": [
        {
          "output_type": "stream",
          "name": "stdout",
          "text": [
            "Index(['age', 'job', 'marital', 'education', 'default', 'housing', 'loan',\n",
            "       'contact', 'month', 'day_of_week', 'duration', 'campaign', 'pdays',\n",
            "       'previous', 'poutcome', 'emp.var.rate', 'cons.price.idx',\n",
            "       'cons.conf.idx', 'euribor3m', 'nr.employed', 'y'],\n",
            "      dtype='object')\n"
          ]
        }
      ]
    },
    {
      "cell_type": "code",
      "source": [
        "#dropping irrelevant columns\n",
        "bank_additional_full = bank_additional_full.drop(columns=['duration'])"
      ],
      "metadata": {
        "id": "x4Ob_rdw-_0Y"
      },
      "execution_count": 113,
      "outputs": []
    },
    {
      "cell_type": "code",
      "source": [
        "print(bank_additional_full.columns)"
      ],
      "metadata": {
        "colab": {
          "base_uri": "https://localhost:8080/"
        },
        "id": "7lSDY2m2_LzN",
        "outputId": "f33032ac-8ef0-4ee8-cf29-8b66981a130e"
      },
      "execution_count": 114,
      "outputs": [
        {
          "output_type": "stream",
          "name": "stdout",
          "text": [
            "Index(['age', 'job', 'marital', 'education', 'default', 'housing', 'loan',\n",
            "       'contact', 'month', 'day_of_week', 'campaign', 'pdays', 'previous',\n",
            "       'poutcome', 'emp.var.rate', 'cons.price.idx', 'cons.conf.idx',\n",
            "       'euribor3m', 'nr.employed', 'y'],\n",
            "      dtype='object')\n"
          ]
        }
      ]
    }
  ]
}